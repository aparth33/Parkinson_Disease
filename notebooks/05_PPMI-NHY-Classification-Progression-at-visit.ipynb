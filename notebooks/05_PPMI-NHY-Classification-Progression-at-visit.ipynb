{
 "cells": [
  {
   "cell_type": "markdown",
   "metadata": {},
   "source": [
    "## TO DO: \n",
    "#### Understand what is the source of the perfect training accuracy: \n",
    "* Logistic Regression: play on the C parameter\n",
    "* RF: play on the parameters that can reduce overfitting\n",
    "#### Features highly correlated with NHY feature:\n",
    "* NP3FACXP, NP3FTAPR, NP3HMOVR, NP3PRSPR, NP3TTAPR,NP3POSTR, NP3BRADY,NP2TMPR,NP3SPCH,MSEADLG"
   ]
  },
  {
   "cell_type": "markdown",
   "metadata": {},
   "source": [
    "## REFERENCES"
   ]
  },
  {
   "cell_type": "markdown",
   "metadata": {},
   "source": [
    "#### NOTEBOOKS - classic ML\n",
    "* [DSR- Gerrit- intro to ML] (http://localhost:8888/notebooks/00_TRAINING/02_DSR/05_ML_Geritt_Week2/Machine%20Learning%20-%20DSR%20Intro.ipynb)\n",
    "* [DSR-Gerrit- Boosting & XGBoost]\n",
    "http://localhost:8888/notebooks/00_TRAINING/02_DSR/05_ML_Geritt_Week2/Boosting%20and%20XGBoost.ipynb\n",
    "* [DSR-Gerrit- RF]\n",
    "(http://localhost:8888/notebooks/00_TRAINING/02_DSR/05_ML_Geritt_Week2/%20RF%20notebooks/DecisionTrees_Intro.ipynb)\n",
    "* [DSR-Gerrit-Evaluation models] (http://localhost:8888/notebooks/00_TRAINING/02_DSR/05_ML_Geritt_Week2/exercises/Evaluation%20Solutions.ipynb)\n",
    "* [DSR-Gerrit- Bayesian Learning]\n",
    "(http://localhost:8888/notebooks/00_TRAINING/02_DSR/05_ML_Geritt_Week2/exercises/Bayesian%20Learning%20Solutions.ipynb)\n",
    "* [DSR-Rachel-ML Pipelines]\n",
    "(http://localhost:8888/notebooks/00_TRAINING/02_DSR/10_DSR_Model_Pipelines_Rachel/1.3%20Pipelines%20.ipynb)\n",
    "#### GITHUB repos: \n",
    "* **Hands-On Machine Learning w/scikit-learn and TensorFlow book: https://github.com/AMDonati/handson-ml**\n",
    "* https://github.com/AMDonati/data-science-ipython-notebooks\n",
    "* Data Science w/ Python handbook: https://github.com/AMDonati/PythonDataScienceHandbook\n",
    "* https://github.com/AMDonati/machine-learning-cheat-sheet\n",
    "#### Specific to time-series: \n",
    "* https://github.com/ChadFulton/tsa-notebooks\n",
    "* https://github.com/maxim5/time-series-machine-learning"
   ]
  },
  {
   "cell_type": "markdown",
   "metadata": {},
   "source": [
    "## 0. Imports & functions"
   ]
  },
  {
   "cell_type": "code",
   "execution_count": 1,
   "metadata": {},
   "outputs": [
    {
     "name": "stderr",
     "output_type": "stream",
     "text": [
      "/Users/alicemartin/miniconda3/envs/project/lib/python3.5/site-packages/sklearn/ensemble/weight_boosting.py:29: DeprecationWarning: numpy.core.umath_tests is an internal NumPy module and should not be imported. It will be removed in a future NumPy release.\n",
      "  from numpy.core.umath_tests import inner1d\n",
      "/Users/alicemartin/miniconda3/envs/project/lib/python3.5/site-packages/sklearn/cross_validation.py:41: DeprecationWarning: This module was deprecated in version 0.18 in favor of the model_selection module into which all the refactored classes and functions are moved. Also note that the interface of the new CV iterators are different from that of this module. This module will be removed in 0.20.\n",
      "  \"This module will be removed in 0.20.\", DeprecationWarning)\n"
     ]
    }
   ],
   "source": [
    "#imports \n",
    "import numpy as np \n",
    "import pandas as pd \n",
    "import matplotlib.pyplot as plt\n",
    "import random\n",
    "% matplotlib inline\n",
    "\n",
    "import sklearn\n",
    "from sklearn.dummy import DummyRegressor\n",
    "from sklearn.linear_model import LogisticRegression\n",
    "from sklearn.model_selection import train_test_split\n",
    "from sklearn.ensemble import RandomForestClassifier\n",
    "from sklearn.metrics import classification_report\n",
    "from sklearn.metrics import roc_curve\n",
    "import sklearn.cross_validation as cv\n",
    "from sklearn.model_selection import ShuffleSplit\n",
    "from sklearn.model_selection import GridSearchCV\n",
    "from sklearn.model_selection import validation_curve\n",
    "from sklearn.metrics import confusion_matrix\n",
    "\n",
    "\n",
    "import warnings\n",
    "warnings.filterwarnings('ignore')"
   ]
  },
  {
   "cell_type": "code",
   "execution_count": 2,
   "metadata": {},
   "outputs": [],
   "source": [
    "#!pip install -U imbalanced-learn"
   ]
  },
  {
   "cell_type": "markdown",
   "metadata": {},
   "source": [
    "## 1. Data preparation"
   ]
  },
  {
   "cell_type": "markdown",
   "metadata": {},
   "source": [
    "### Reading the preprocessed dataframe"
   ]
  },
  {
   "cell_type": "code",
   "execution_count": 3,
   "metadata": {},
   "outputs": [
    {
     "data": {
      "text/html": [
       "<div>\n",
       "<style scoped>\n",
       "    .dataframe tbody tr th:only-of-type {\n",
       "        vertical-align: middle;\n",
       "    }\n",
       "\n",
       "    .dataframe tbody tr th {\n",
       "        vertical-align: top;\n",
       "    }\n",
       "\n",
       "    .dataframe thead th {\n",
       "        text-align: right;\n",
       "    }\n",
       "</style>\n",
       "<table border=\"1\" class=\"dataframe\">\n",
       "  <thead>\n",
       "    <tr style=\"text-align: right;\">\n",
       "      <th></th>\n",
       "      <th>PATNO</th>\n",
       "      <th>INFODT_date</th>\n",
       "      <th>NP1COG</th>\n",
       "      <th>NP1HALL</th>\n",
       "      <th>NP1DPRS</th>\n",
       "      <th>NP1ANXS</th>\n",
       "      <th>NP1APAT</th>\n",
       "      <th>NP1DDS</th>\n",
       "      <th>NP2SPCH</th>\n",
       "      <th>NP2SALV</th>\n",
       "      <th>...</th>\n",
       "      <th>DXPOSINS</th>\n",
       "      <th>DXOTHSX</th>\n",
       "      <th>DOMSIDE</th>\n",
       "      <th>num_visits</th>\n",
       "      <th>VISIT_ID</th>\n",
       "      <th>visitsdiff_days</th>\n",
       "      <th>lastDate_diff_days</th>\n",
       "      <th>PDDXDT_diff_days</th>\n",
       "      <th>PDMEDT_diff_days</th>\n",
       "      <th>PDSURGDT_diff_days</th>\n",
       "    </tr>\n",
       "  </thead>\n",
       "  <tbody>\n",
       "    <tr>\n",
       "      <th>0</th>\n",
       "      <td>3001</td>\n",
       "      <td>2011-02-01</td>\n",
       "      <td>0.0</td>\n",
       "      <td>0.0</td>\n",
       "      <td>0.0</td>\n",
       "      <td>1.0</td>\n",
       "      <td>0.0</td>\n",
       "      <td>0.0</td>\n",
       "      <td>0.0</td>\n",
       "      <td>0.0</td>\n",
       "      <td>...</td>\n",
       "      <td>0</td>\n",
       "      <td>0</td>\n",
       "      <td>2</td>\n",
       "      <td>7</td>\n",
       "      <td>1</td>\n",
       "      <td>0</td>\n",
       "      <td>2707</td>\n",
       "      <td>306</td>\n",
       "      <td>0</td>\n",
       "      <td>0</td>\n",
       "    </tr>\n",
       "    <tr>\n",
       "      <th>1</th>\n",
       "      <td>3001</td>\n",
       "      <td>2012-03-01</td>\n",
       "      <td>1.0</td>\n",
       "      <td>0.0</td>\n",
       "      <td>1.0</td>\n",
       "      <td>1.0</td>\n",
       "      <td>1.0</td>\n",
       "      <td>0.0</td>\n",
       "      <td>0.0</td>\n",
       "      <td>0.0</td>\n",
       "      <td>...</td>\n",
       "      <td>0</td>\n",
       "      <td>0</td>\n",
       "      <td>2</td>\n",
       "      <td>7</td>\n",
       "      <td>2</td>\n",
       "      <td>394</td>\n",
       "      <td>2313</td>\n",
       "      <td>700</td>\n",
       "      <td>0</td>\n",
       "      <td>0</td>\n",
       "    </tr>\n",
       "    <tr>\n",
       "      <th>2</th>\n",
       "      <td>3001</td>\n",
       "      <td>2013-05-01</td>\n",
       "      <td>0.0</td>\n",
       "      <td>0.0</td>\n",
       "      <td>0.0</td>\n",
       "      <td>0.0</td>\n",
       "      <td>0.0</td>\n",
       "      <td>0.0</td>\n",
       "      <td>0.0</td>\n",
       "      <td>0.0</td>\n",
       "      <td>...</td>\n",
       "      <td>0</td>\n",
       "      <td>0</td>\n",
       "      <td>2</td>\n",
       "      <td>7</td>\n",
       "      <td>3</td>\n",
       "      <td>426</td>\n",
       "      <td>1887</td>\n",
       "      <td>1126</td>\n",
       "      <td>0</td>\n",
       "      <td>0</td>\n",
       "    </tr>\n",
       "    <tr>\n",
       "      <th>3</th>\n",
       "      <td>3001</td>\n",
       "      <td>2014-04-01</td>\n",
       "      <td>0.0</td>\n",
       "      <td>0.0</td>\n",
       "      <td>0.0</td>\n",
       "      <td>1.0</td>\n",
       "      <td>0.0</td>\n",
       "      <td>0.0</td>\n",
       "      <td>0.0</td>\n",
       "      <td>0.0</td>\n",
       "      <td>...</td>\n",
       "      <td>0</td>\n",
       "      <td>0</td>\n",
       "      <td>2</td>\n",
       "      <td>7</td>\n",
       "      <td>4</td>\n",
       "      <td>335</td>\n",
       "      <td>1552</td>\n",
       "      <td>1461</td>\n",
       "      <td>0</td>\n",
       "      <td>0</td>\n",
       "    </tr>\n",
       "    <tr>\n",
       "      <th>4</th>\n",
       "      <td>3001</td>\n",
       "      <td>2015-04-01</td>\n",
       "      <td>0.0</td>\n",
       "      <td>0.0</td>\n",
       "      <td>0.0</td>\n",
       "      <td>1.0</td>\n",
       "      <td>0.0</td>\n",
       "      <td>0.0</td>\n",
       "      <td>0.0</td>\n",
       "      <td>0.0</td>\n",
       "      <td>...</td>\n",
       "      <td>0</td>\n",
       "      <td>0</td>\n",
       "      <td>2</td>\n",
       "      <td>7</td>\n",
       "      <td>5</td>\n",
       "      <td>365</td>\n",
       "      <td>1187</td>\n",
       "      <td>1826</td>\n",
       "      <td>0</td>\n",
       "      <td>0</td>\n",
       "    </tr>\n",
       "  </tbody>\n",
       "</table>\n",
       "<p>5 rows × 376 columns</p>\n",
       "</div>"
      ],
      "text/plain": [
       "   PATNO INFODT_date  NP1COG  NP1HALL  NP1DPRS  NP1ANXS  NP1APAT  NP1DDS  \\\n",
       "0   3001  2011-02-01     0.0      0.0      0.0      1.0      0.0     0.0   \n",
       "1   3001  2012-03-01     1.0      0.0      1.0      1.0      1.0     0.0   \n",
       "2   3001  2013-05-01     0.0      0.0      0.0      0.0      0.0     0.0   \n",
       "3   3001  2014-04-01     0.0      0.0      0.0      1.0      0.0     0.0   \n",
       "4   3001  2015-04-01     0.0      0.0      0.0      1.0      0.0     0.0   \n",
       "\n",
       "   NP2SPCH  NP2SALV         ...          DXPOSINS  DXOTHSX  DOMSIDE  \\\n",
       "0      0.0      0.0         ...                 0        0        2   \n",
       "1      0.0      0.0         ...                 0        0        2   \n",
       "2      0.0      0.0         ...                 0        0        2   \n",
       "3      0.0      0.0         ...                 0        0        2   \n",
       "4      0.0      0.0         ...                 0        0        2   \n",
       "\n",
       "   num_visits  VISIT_ID  visitsdiff_days  lastDate_diff_days  \\\n",
       "0           7         1                0                2707   \n",
       "1           7         2              394                2313   \n",
       "2           7         3              426                1887   \n",
       "3           7         4              335                1552   \n",
       "4           7         5              365                1187   \n",
       "\n",
       "   PDDXDT_diff_days  PDMEDT_diff_days  PDSURGDT_diff_days  \n",
       "0               306                 0                   0  \n",
       "1               700                 0                   0  \n",
       "2              1126                 0                   0  \n",
       "3              1461                 0                   0  \n",
       "4              1826                 0                   0  \n",
       "\n",
       "[5 rows x 376 columns]"
      ]
     },
     "execution_count": 3,
     "metadata": {},
     "output_type": "execute_result"
    }
   ],
   "source": [
    "file_path='/Users/alicemartin/02_DSR_Project/parkinson-disease-project/output/pre-processing/dfFinal.csv'\n",
    "df=pd.read_csv(file_path)\n",
    "df.drop(columns='Unnamed: 0',inplace=True)\n",
    "df.drop(columns=['EVENT_ID','INFODT'],inplace=True)\n",
    "#df.set_index(keys=['PATNO'],inplace=True)\n",
    "df.head()"
   ]
  },
  {
   "cell_type": "code",
   "execution_count": 4,
   "metadata": {},
   "outputs": [],
   "source": [
    "#list(df.columns)"
   ]
  },
  {
   "cell_type": "markdown",
   "metadata": {},
   "source": [
    "### Removing motor and non motor assessments"
   ]
  },
  {
   "cell_type": "code",
   "execution_count": 5,
   "metadata": {},
   "outputs": [
    {
     "data": {
      "text/html": [
       "<div>\n",
       "<style scoped>\n",
       "    .dataframe tbody tr th:only-of-type {\n",
       "        vertical-align: middle;\n",
       "    }\n",
       "\n",
       "    .dataframe tbody tr th {\n",
       "        vertical-align: top;\n",
       "    }\n",
       "\n",
       "    .dataframe thead th {\n",
       "        text-align: right;\n",
       "    }\n",
       "</style>\n",
       "<table border=\"1\" class=\"dataframe\">\n",
       "  <thead>\n",
       "    <tr style=\"text-align: right;\">\n",
       "      <th></th>\n",
       "      <th>PATNO</th>\n",
       "      <th>NP1COG</th>\n",
       "      <th>NP1HALL</th>\n",
       "      <th>NP1DPRS</th>\n",
       "      <th>NP1ANXS</th>\n",
       "      <th>NP1APAT</th>\n",
       "      <th>NP1DDS</th>\n",
       "      <th>NP2SPCH</th>\n",
       "      <th>NP2SALV</th>\n",
       "      <th>NP2SWAL</th>\n",
       "      <th>...</th>\n",
       "      <th>NP3RTCON</th>\n",
       "      <th>DYSKPRES</th>\n",
       "      <th>ON_OFF_DOSE</th>\n",
       "      <th>PD_MED_USE</th>\n",
       "      <th>NP4WDYSK</th>\n",
       "      <th>NP4DYSKI</th>\n",
       "      <th>NP4OFF</th>\n",
       "      <th>NP4FLCTI</th>\n",
       "      <th>NP4FLCTX</th>\n",
       "      <th>NP4DYSTN</th>\n",
       "    </tr>\n",
       "  </thead>\n",
       "  <tbody>\n",
       "    <tr>\n",
       "      <th>0</th>\n",
       "      <td>3402</td>\n",
       "      <td>0.0</td>\n",
       "      <td>0.0</td>\n",
       "      <td>1.0</td>\n",
       "      <td>0.0</td>\n",
       "      <td>2.0</td>\n",
       "      <td>0.0</td>\n",
       "      <td>0.0</td>\n",
       "      <td>0.0</td>\n",
       "      <td>0.0</td>\n",
       "      <td>...</td>\n",
       "      <td>1.0</td>\n",
       "      <td>0.0</td>\n",
       "      <td>0.0</td>\n",
       "      <td>0</td>\n",
       "      <td>0.0</td>\n",
       "      <td>0.0</td>\n",
       "      <td>0.0</td>\n",
       "      <td>0.0</td>\n",
       "      <td>0.0</td>\n",
       "      <td>0.0</td>\n",
       "    </tr>\n",
       "    <tr>\n",
       "      <th>1</th>\n",
       "      <td>3400</td>\n",
       "      <td>0.0</td>\n",
       "      <td>0.0</td>\n",
       "      <td>2.0</td>\n",
       "      <td>3.0</td>\n",
       "      <td>2.0</td>\n",
       "      <td>0.0</td>\n",
       "      <td>0.0</td>\n",
       "      <td>2.0</td>\n",
       "      <td>0.0</td>\n",
       "      <td>...</td>\n",
       "      <td>1.0</td>\n",
       "      <td>0.0</td>\n",
       "      <td>0.0</td>\n",
       "      <td>0</td>\n",
       "      <td>0.0</td>\n",
       "      <td>0.0</td>\n",
       "      <td>0.0</td>\n",
       "      <td>0.0</td>\n",
       "      <td>0.0</td>\n",
       "      <td>0.0</td>\n",
       "    </tr>\n",
       "    <tr>\n",
       "      <th>2</th>\n",
       "      <td>3403</td>\n",
       "      <td>0.0</td>\n",
       "      <td>0.0</td>\n",
       "      <td>0.0</td>\n",
       "      <td>0.0</td>\n",
       "      <td>0.0</td>\n",
       "      <td>0.0</td>\n",
       "      <td>0.0</td>\n",
       "      <td>0.0</td>\n",
       "      <td>0.0</td>\n",
       "      <td>...</td>\n",
       "      <td>0.0</td>\n",
       "      <td>0.0</td>\n",
       "      <td>0.0</td>\n",
       "      <td>0</td>\n",
       "      <td>0.0</td>\n",
       "      <td>0.0</td>\n",
       "      <td>0.0</td>\n",
       "      <td>0.0</td>\n",
       "      <td>0.0</td>\n",
       "      <td>0.0</td>\n",
       "    </tr>\n",
       "    <tr>\n",
       "      <th>3</th>\n",
       "      <td>3404</td>\n",
       "      <td>0.0</td>\n",
       "      <td>0.0</td>\n",
       "      <td>0.0</td>\n",
       "      <td>0.0</td>\n",
       "      <td>0.0</td>\n",
       "      <td>0.0</td>\n",
       "      <td>0.0</td>\n",
       "      <td>0.0</td>\n",
       "      <td>0.0</td>\n",
       "      <td>...</td>\n",
       "      <td>0.0</td>\n",
       "      <td>0.0</td>\n",
       "      <td>0.0</td>\n",
       "      <td>0</td>\n",
       "      <td>0.0</td>\n",
       "      <td>0.0</td>\n",
       "      <td>0.0</td>\n",
       "      <td>0.0</td>\n",
       "      <td>0.0</td>\n",
       "      <td>0.0</td>\n",
       "    </tr>\n",
       "    <tr>\n",
       "      <th>4</th>\n",
       "      <td>3406</td>\n",
       "      <td>0.0</td>\n",
       "      <td>0.0</td>\n",
       "      <td>0.0</td>\n",
       "      <td>1.0</td>\n",
       "      <td>1.0</td>\n",
       "      <td>0.0</td>\n",
       "      <td>0.0</td>\n",
       "      <td>2.0</td>\n",
       "      <td>0.0</td>\n",
       "      <td>...</td>\n",
       "      <td>2.0</td>\n",
       "      <td>0.0</td>\n",
       "      <td>0.0</td>\n",
       "      <td>0</td>\n",
       "      <td>0.0</td>\n",
       "      <td>0.0</td>\n",
       "      <td>0.0</td>\n",
       "      <td>0.0</td>\n",
       "      <td>0.0</td>\n",
       "      <td>0.0</td>\n",
       "    </tr>\n",
       "  </tbody>\n",
       "</table>\n",
       "<p>5 rows × 62 columns</p>\n",
       "</div>"
      ],
      "text/plain": [
       "   PATNO  NP1COG  NP1HALL  NP1DPRS  NP1ANXS  NP1APAT  NP1DDS  NP2SPCH  \\\n",
       "0   3402     0.0      0.0      1.0      0.0      2.0     0.0      0.0   \n",
       "1   3400     0.0      0.0      2.0      3.0      2.0     0.0      0.0   \n",
       "2   3403     0.0      0.0      0.0      0.0      0.0     0.0      0.0   \n",
       "3   3404     0.0      0.0      0.0      0.0      0.0     0.0      0.0   \n",
       "4   3406     0.0      0.0      0.0      1.0      1.0     0.0      0.0   \n",
       "\n",
       "   NP2SALV  NP2SWAL    ...     NP3RTCON  DYSKPRES  ON_OFF_DOSE  PD_MED_USE  \\\n",
       "0      0.0      0.0    ...          1.0       0.0          0.0           0   \n",
       "1      2.0      0.0    ...          1.0       0.0          0.0           0   \n",
       "2      0.0      0.0    ...          0.0       0.0          0.0           0   \n",
       "3      0.0      0.0    ...          0.0       0.0          0.0           0   \n",
       "4      2.0      0.0    ...          2.0       0.0          0.0           0   \n",
       "\n",
       "   NP4WDYSK  NP4DYSKI  NP4OFF  NP4FLCTI  NP4FLCTX  NP4DYSTN  \n",
       "0       0.0       0.0     0.0       0.0       0.0       0.0  \n",
       "1       0.0       0.0     0.0       0.0       0.0       0.0  \n",
       "2       0.0       0.0     0.0       0.0       0.0       0.0  \n",
       "3       0.0       0.0     0.0       0.0       0.0       0.0  \n",
       "4       0.0       0.0     0.0       0.0       0.0       0.0  \n",
       "\n",
       "[5 rows x 62 columns]"
      ]
     },
     "execution_count": 5,
     "metadata": {},
     "output_type": "execute_result"
    }
   ],
   "source": [
    "file_path2='/Users/alicemartin/02_DSR_Project/parkinson-disease-project/output/pre-processing/PD_Progression_Motor-assessments.csv'\n",
    "motor_ass=pd.read_csv(file_path2)\n",
    "motor_ass.drop(columns='Unnamed: 0',inplace=True)\n",
    "motor_ass.drop(columns=['EVENT_ID','INFODT'],inplace=True)\n",
    "#df.set_index(keys=['PATNO'],inplace=True)\n",
    "Motor_ass_features=list(motor_ass.columns)\n",
    "motor_ass.head()"
   ]
  },
  {
   "cell_type": "code",
   "execution_count": 6,
   "metadata": {},
   "outputs": [],
   "source": [
    "if 'PATNO' in Motor_ass_features: \n",
    "    Motor_ass_features.remove('PATNO')\n",
    "#Motor_ass_features"
   ]
  },
  {
   "cell_type": "code",
   "execution_count": 7,
   "metadata": {},
   "outputs": [
    {
     "data": {
      "text/html": [
       "<div>\n",
       "<style scoped>\n",
       "    .dataframe tbody tr th:only-of-type {\n",
       "        vertical-align: middle;\n",
       "    }\n",
       "\n",
       "    .dataframe tbody tr th {\n",
       "        vertical-align: top;\n",
       "    }\n",
       "\n",
       "    .dataframe thead th {\n",
       "        text-align: right;\n",
       "    }\n",
       "</style>\n",
       "<table border=\"1\" class=\"dataframe\">\n",
       "  <thead>\n",
       "    <tr style=\"text-align: right;\">\n",
       "      <th></th>\n",
       "      <th>PATNO</th>\n",
       "      <th>ESS1</th>\n",
       "      <th>ESS2</th>\n",
       "      <th>ESS3</th>\n",
       "      <th>ESS4</th>\n",
       "      <th>ESS5</th>\n",
       "      <th>ESS6</th>\n",
       "      <th>ESS7</th>\n",
       "      <th>ESS8</th>\n",
       "      <th>LNS_TOTRAW</th>\n",
       "      <th>...</th>\n",
       "      <th>CNTRLGMB</th>\n",
       "      <th>TMSEX</th>\n",
       "      <th>CNTRLSEX</th>\n",
       "      <th>TMBUY</th>\n",
       "      <th>CNTRLBUY</th>\n",
       "      <th>TMEAT</th>\n",
       "      <th>CNTRLEAT</th>\n",
       "      <th>TMTORACT</th>\n",
       "      <th>TMTMTACT</th>\n",
       "      <th>TMTRWD</th>\n",
       "    </tr>\n",
       "  </thead>\n",
       "  <tbody>\n",
       "    <tr>\n",
       "      <th>0</th>\n",
       "      <td>3102</td>\n",
       "      <td>3.0</td>\n",
       "      <td>2.0</td>\n",
       "      <td>1.0</td>\n",
       "      <td>2.0</td>\n",
       "      <td>3.0</td>\n",
       "      <td>1.0</td>\n",
       "      <td>1.0</td>\n",
       "      <td>1.0</td>\n",
       "      <td>8.0</td>\n",
       "      <td>...</td>\n",
       "      <td>0.0</td>\n",
       "      <td>0.0</td>\n",
       "      <td>0.0</td>\n",
       "      <td>0.0</td>\n",
       "      <td>0.0</td>\n",
       "      <td>0.0</td>\n",
       "      <td>0.0</td>\n",
       "      <td>0.0</td>\n",
       "      <td>0.0</td>\n",
       "      <td>0.0</td>\n",
       "    </tr>\n",
       "    <tr>\n",
       "      <th>1</th>\n",
       "      <td>3630</td>\n",
       "      <td>1.0</td>\n",
       "      <td>0.0</td>\n",
       "      <td>0.0</td>\n",
       "      <td>1.0</td>\n",
       "      <td>3.0</td>\n",
       "      <td>0.0</td>\n",
       "      <td>0.0</td>\n",
       "      <td>0.0</td>\n",
       "      <td>8.0</td>\n",
       "      <td>...</td>\n",
       "      <td>0.0</td>\n",
       "      <td>0.0</td>\n",
       "      <td>0.0</td>\n",
       "      <td>1.0</td>\n",
       "      <td>0.0</td>\n",
       "      <td>0.0</td>\n",
       "      <td>0.0</td>\n",
       "      <td>0.0</td>\n",
       "      <td>0.0</td>\n",
       "      <td>0.0</td>\n",
       "    </tr>\n",
       "    <tr>\n",
       "      <th>2</th>\n",
       "      <td>3404</td>\n",
       "      <td>0.0</td>\n",
       "      <td>1.0</td>\n",
       "      <td>0.0</td>\n",
       "      <td>0.0</td>\n",
       "      <td>1.0</td>\n",
       "      <td>0.0</td>\n",
       "      <td>0.0</td>\n",
       "      <td>0.0</td>\n",
       "      <td>16.0</td>\n",
       "      <td>...</td>\n",
       "      <td>0.0</td>\n",
       "      <td>0.0</td>\n",
       "      <td>0.0</td>\n",
       "      <td>0.0</td>\n",
       "      <td>0.0</td>\n",
       "      <td>0.0</td>\n",
       "      <td>0.0</td>\n",
       "      <td>0.0</td>\n",
       "      <td>0.0</td>\n",
       "      <td>0.0</td>\n",
       "    </tr>\n",
       "    <tr>\n",
       "      <th>3</th>\n",
       "      <td>3429</td>\n",
       "      <td>0.0</td>\n",
       "      <td>0.0</td>\n",
       "      <td>0.0</td>\n",
       "      <td>0.0</td>\n",
       "      <td>0.0</td>\n",
       "      <td>0.0</td>\n",
       "      <td>0.0</td>\n",
       "      <td>0.0</td>\n",
       "      <td>6.0</td>\n",
       "      <td>...</td>\n",
       "      <td>0.0</td>\n",
       "      <td>0.0</td>\n",
       "      <td>0.0</td>\n",
       "      <td>0.0</td>\n",
       "      <td>0.0</td>\n",
       "      <td>0.0</td>\n",
       "      <td>0.0</td>\n",
       "      <td>0.0</td>\n",
       "      <td>0.0</td>\n",
       "      <td>0.0</td>\n",
       "    </tr>\n",
       "    <tr>\n",
       "      <th>4</th>\n",
       "      <td>3428</td>\n",
       "      <td>1.0</td>\n",
       "      <td>1.0</td>\n",
       "      <td>1.0</td>\n",
       "      <td>1.0</td>\n",
       "      <td>3.0</td>\n",
       "      <td>1.0</td>\n",
       "      <td>0.0</td>\n",
       "      <td>0.0</td>\n",
       "      <td>5.0</td>\n",
       "      <td>...</td>\n",
       "      <td>0.0</td>\n",
       "      <td>0.0</td>\n",
       "      <td>0.0</td>\n",
       "      <td>0.0</td>\n",
       "      <td>0.0</td>\n",
       "      <td>0.0</td>\n",
       "      <td>0.0</td>\n",
       "      <td>0.0</td>\n",
       "      <td>0.0</td>\n",
       "      <td>0.0</td>\n",
       "    </tr>\n",
       "  </tbody>\n",
       "</table>\n",
       "<p>5 rows × 171 columns</p>\n",
       "</div>"
      ],
      "text/plain": [
       "   PATNO  ESS1  ESS2  ESS3  ESS4  ESS5  ESS6  ESS7  ESS8  LNS_TOTRAW   ...    \\\n",
       "0   3102   3.0   2.0   1.0   2.0   3.0   1.0   1.0   1.0         8.0   ...     \n",
       "1   3630   1.0   0.0   0.0   1.0   3.0   0.0   0.0   0.0         8.0   ...     \n",
       "2   3404   0.0   1.0   0.0   0.0   1.0   0.0   0.0   0.0        16.0   ...     \n",
       "3   3429   0.0   0.0   0.0   0.0   0.0   0.0   0.0   0.0         6.0   ...     \n",
       "4   3428   1.0   1.0   1.0   1.0   3.0   1.0   0.0   0.0         5.0   ...     \n",
       "\n",
       "   CNTRLGMB  TMSEX  CNTRLSEX  TMBUY  CNTRLBUY  TMEAT  CNTRLEAT  TMTORACT  \\\n",
       "0       0.0    0.0       0.0    0.0       0.0    0.0       0.0       0.0   \n",
       "1       0.0    0.0       0.0    1.0       0.0    0.0       0.0       0.0   \n",
       "2       0.0    0.0       0.0    0.0       0.0    0.0       0.0       0.0   \n",
       "3       0.0    0.0       0.0    0.0       0.0    0.0       0.0       0.0   \n",
       "4       0.0    0.0       0.0    0.0       0.0    0.0       0.0       0.0   \n",
       "\n",
       "   TMTMTACT  TMTRWD  \n",
       "0       0.0     0.0  \n",
       "1       0.0     0.0  \n",
       "2       0.0     0.0  \n",
       "3       0.0     0.0  \n",
       "4       0.0     0.0  \n",
       "\n",
       "[5 rows x 171 columns]"
      ]
     },
     "execution_count": 7,
     "metadata": {},
     "output_type": "execute_result"
    }
   ],
   "source": [
    "file_path3='/Users/alicemartin/02_DSR_Project/parkinson-disease-project/output/pre-processing/Non-Motor_Assessments.csv'\n",
    "NonMotor_ass=pd.read_csv(file_path3)\n",
    "NonMotor_ass.drop(columns='Unnamed: 0',inplace=True)\n",
    "NonMotor_ass.drop(columns=['EVENT_ID','INFODT'],inplace=True)\n",
    "#df.set_index(keys=['PATNO'],inplace=True)\n",
    "NonMotor_ass_features=list(NonMotor_ass.columns)\n",
    "NonMotor_ass.head()"
   ]
  },
  {
   "cell_type": "code",
   "execution_count": 8,
   "metadata": {},
   "outputs": [
    {
     "data": {
      "text/plain": [
       "['ESS1',\n",
       " 'ESS2',\n",
       " 'ESS3',\n",
       " 'ESS4',\n",
       " 'ESS5',\n",
       " 'ESS6',\n",
       " 'ESS7',\n",
       " 'ESS8',\n",
       " 'LNS_TOTRAW',\n",
       " 'AGE_ASSESS_LNS',\n",
       " 'DVS_LNS',\n",
       " 'DRMVIVID',\n",
       " 'DRMAGRAC',\n",
       " 'DRMNOCTB',\n",
       " 'SLPLMBMV',\n",
       " 'SLPINJUR',\n",
       " 'DRMVERBL',\n",
       " 'DRMFIGHT',\n",
       " 'DRMUMV',\n",
       " 'DRMOBJFL',\n",
       " 'MVAWAKEN',\n",
       " 'DRMREMEM',\n",
       " 'SLPDSTRB',\n",
       " 'STROKE',\n",
       " 'HETRA',\n",
       " 'PARKISM',\n",
       " 'RLS',\n",
       " 'NARCLPSY',\n",
       " 'DEPRS',\n",
       " 'EPILEPSY',\n",
       " 'BRNINFM',\n",
       " 'SCAU1',\n",
       " 'SCAU2',\n",
       " 'SCAU3',\n",
       " 'SCAU4',\n",
       " 'SCAU5',\n",
       " 'SCAU6',\n",
       " 'SCAU7',\n",
       " 'SCAU8',\n",
       " 'SCAU9',\n",
       " 'SCAU10',\n",
       " 'SCAU11',\n",
       " 'SCAU12',\n",
       " 'SCAU13',\n",
       " 'SCAU14',\n",
       " 'SCAU15',\n",
       " 'SCAU16',\n",
       " 'SCAU17',\n",
       " 'SCAU18',\n",
       " 'SCAU19',\n",
       " 'SCAU20',\n",
       " 'SCAU21',\n",
       " 'SCAU26B',\n",
       " 'SCAU26C',\n",
       " 'SCAU26D',\n",
       " 'COGDECLN',\n",
       " 'FNCDTCOG',\n",
       " 'COGSTATE',\n",
       " 'COGDXCL',\n",
       " 'RVWNPSY',\n",
       " 'HVLTRT1',\n",
       " 'HVLTRT2',\n",
       " 'HVLTRT3',\n",
       " 'HVLTRDLY',\n",
       " 'HVLTREC',\n",
       " 'HVLTFPRL',\n",
       " 'HVLTFPUN',\n",
       " 'HVLTVRSN',\n",
       " 'DVT_TOTAL_RECALL',\n",
       " 'DVT_DELAYED_RECALL',\n",
       " 'DVT_RETENTION',\n",
       " 'DVT_RECOG_DISC_INDEX',\n",
       " 'MCAALTTM',\n",
       " 'MCACUBE',\n",
       " 'MCACLCKC',\n",
       " 'MCACLCKN',\n",
       " 'MCACLCKH',\n",
       " 'MCALION',\n",
       " 'MCARHINO',\n",
       " 'MCACAMEL',\n",
       " 'MCAFDS',\n",
       " 'MCABDS',\n",
       " 'MCAVIGIL',\n",
       " 'MCASER7',\n",
       " 'MCASNTNC',\n",
       " 'MCAVFNUM',\n",
       " 'MCAVF',\n",
       " 'MCAABSTR',\n",
       " 'MCAREC1',\n",
       " 'MCAREC2',\n",
       " 'MCAREC3',\n",
       " 'MCAREC4',\n",
       " 'MCAREC5',\n",
       " 'MCATOT',\n",
       " 'GDSSATIS',\n",
       " 'GDSDROPD',\n",
       " 'GDSEMPTY',\n",
       " 'GDSBORED',\n",
       " 'GDSGSPIR',\n",
       " 'GDSAFRAD',\n",
       " 'GDSHAPPY',\n",
       " 'GDSHLPLS',\n",
       " 'GDSHOME',\n",
       " 'GDSMEMRY',\n",
       " 'GDSALIVE',\n",
       " 'GDSWRTLS',\n",
       " 'GDSENRGY',\n",
       " 'GDSHOPLS',\n",
       " 'GDSBETER',\n",
       " 'SDMTOTAL',\n",
       " 'SDMTVRSN',\n",
       " 'DVSD_SDM',\n",
       " 'DVT_SDM',\n",
       " 'STAIAD1',\n",
       " 'STAIAD2',\n",
       " 'STAIAD3',\n",
       " 'STAIAD4',\n",
       " 'STAIAD5',\n",
       " 'STAIAD6',\n",
       " 'STAIAD7',\n",
       " 'STAIAD8',\n",
       " 'STAIAD9',\n",
       " 'STAIAD10',\n",
       " 'STAIAD11',\n",
       " 'STAIAD12',\n",
       " 'STAIAD13',\n",
       " 'STAIAD14',\n",
       " 'STAIAD15',\n",
       " 'STAIAD16',\n",
       " 'STAIAD17',\n",
       " 'STAIAD18',\n",
       " 'STAIAD19',\n",
       " 'STAIAD20',\n",
       " 'STAIAD21',\n",
       " 'STAIAD22',\n",
       " 'STAIAD23',\n",
       " 'STAIAD24',\n",
       " 'STAIAD25',\n",
       " 'STAIAD26',\n",
       " 'STAIAD27',\n",
       " 'STAIAD28',\n",
       " 'STAIAD29',\n",
       " 'STAIAD30',\n",
       " 'STAIAD31',\n",
       " 'STAIAD32',\n",
       " 'STAIAD33',\n",
       " 'STAIAD34',\n",
       " 'STAIAD35',\n",
       " 'STAIAD36',\n",
       " 'STAIAD37',\n",
       " 'STAIAD38',\n",
       " 'STAIAD39',\n",
       " 'STAIAD40',\n",
       " 'JLO_TOTRAW',\n",
       " 'JLO_TOTCALC',\n",
       " 'AGE_ASSESS_JLO',\n",
       " 'DVS_JLO_MSSA',\n",
       " 'DVS_JLO_MSSAE',\n",
       " 'PTINBOTH',\n",
       " 'TMGAMBLE',\n",
       " 'CNTRLGMB',\n",
       " 'TMSEX',\n",
       " 'CNTRLSEX',\n",
       " 'TMBUY',\n",
       " 'CNTRLBUY',\n",
       " 'TMEAT',\n",
       " 'CNTRLEAT',\n",
       " 'TMTORACT',\n",
       " 'TMTMTACT',\n",
       " 'TMTRWD']"
      ]
     },
     "execution_count": 8,
     "metadata": {},
     "output_type": "execute_result"
    }
   ],
   "source": [
    "if 'PATNO' in NonMotor_ass_features: \n",
    "    NonMotor_ass_features.remove('PATNO')\n",
    "NonMotor_ass_features"
   ]
  },
  {
   "cell_type": "code",
   "execution_count": 9,
   "metadata": {},
   "outputs": [
    {
     "name": "stdout",
     "output_type": "stream",
     "text": [
      "number of features:142\n"
     ]
    },
    {
     "data": {
      "text/html": [
       "<div>\n",
       "<style scoped>\n",
       "    .dataframe tbody tr th:only-of-type {\n",
       "        vertical-align: middle;\n",
       "    }\n",
       "\n",
       "    .dataframe tbody tr th {\n",
       "        vertical-align: top;\n",
       "    }\n",
       "\n",
       "    .dataframe thead th {\n",
       "        text-align: right;\n",
       "    }\n",
       "</style>\n",
       "<table border=\"1\" class=\"dataframe\">\n",
       "  <thead>\n",
       "    <tr style=\"text-align: right;\">\n",
       "      <th></th>\n",
       "      <th></th>\n",
       "      <th>NHY</th>\n",
       "      <th>PDMEDYN</th>\n",
       "      <th>ONLDOPA</th>\n",
       "      <th>ONDOPAG</th>\n",
       "      <th>ONOTHER</th>\n",
       "      <th>FULNUPDR</th>\n",
       "      <th>PDSURG</th>\n",
       "      <th>PDSURGTP</th>\n",
       "      <th>MSRARSP</th>\n",
       "      <th>MSLARSP</th>\n",
       "      <th>...</th>\n",
       "      <th>DXPOSINS</th>\n",
       "      <th>DXOTHSX</th>\n",
       "      <th>DOMSIDE</th>\n",
       "      <th>num_visits</th>\n",
       "      <th>VISIT_ID</th>\n",
       "      <th>visitsdiff_days</th>\n",
       "      <th>lastDate_diff_days</th>\n",
       "      <th>PDDXDT_diff_days</th>\n",
       "      <th>PDMEDT_diff_days</th>\n",
       "      <th>PDSURGDT_diff_days</th>\n",
       "    </tr>\n",
       "    <tr>\n",
       "      <th>PATNO</th>\n",
       "      <th>INFODT_date</th>\n",
       "      <th></th>\n",
       "      <th></th>\n",
       "      <th></th>\n",
       "      <th></th>\n",
       "      <th></th>\n",
       "      <th></th>\n",
       "      <th></th>\n",
       "      <th></th>\n",
       "      <th></th>\n",
       "      <th></th>\n",
       "      <th></th>\n",
       "      <th></th>\n",
       "      <th></th>\n",
       "      <th></th>\n",
       "      <th></th>\n",
       "      <th></th>\n",
       "      <th></th>\n",
       "      <th></th>\n",
       "      <th></th>\n",
       "      <th></th>\n",
       "      <th></th>\n",
       "    </tr>\n",
       "  </thead>\n",
       "  <tbody>\n",
       "    <tr>\n",
       "      <th rowspan=\"5\" valign=\"top\">3001</th>\n",
       "      <th>2011-02-01</th>\n",
       "      <td>2.0</td>\n",
       "      <td>0.0</td>\n",
       "      <td>0.0</td>\n",
       "      <td>0.0</td>\n",
       "      <td>0.0</td>\n",
       "      <td>0.0</td>\n",
       "      <td>0.0</td>\n",
       "      <td>4.0</td>\n",
       "      <td>0.0</td>\n",
       "      <td>0.0</td>\n",
       "      <td>...</td>\n",
       "      <td>0</td>\n",
       "      <td>0</td>\n",
       "      <td>2</td>\n",
       "      <td>7</td>\n",
       "      <td>1</td>\n",
       "      <td>0</td>\n",
       "      <td>2707</td>\n",
       "      <td>306</td>\n",
       "      <td>0</td>\n",
       "      <td>0</td>\n",
       "    </tr>\n",
       "    <tr>\n",
       "      <th>2012-03-01</th>\n",
       "      <td>2.0</td>\n",
       "      <td>0.0</td>\n",
       "      <td>0.0</td>\n",
       "      <td>0.0</td>\n",
       "      <td>0.0</td>\n",
       "      <td>1.0</td>\n",
       "      <td>0.0</td>\n",
       "      <td>4.0</td>\n",
       "      <td>0.0</td>\n",
       "      <td>0.0</td>\n",
       "      <td>...</td>\n",
       "      <td>0</td>\n",
       "      <td>0</td>\n",
       "      <td>2</td>\n",
       "      <td>7</td>\n",
       "      <td>2</td>\n",
       "      <td>394</td>\n",
       "      <td>2313</td>\n",
       "      <td>700</td>\n",
       "      <td>0</td>\n",
       "      <td>0</td>\n",
       "    </tr>\n",
       "    <tr>\n",
       "      <th>2013-05-01</th>\n",
       "      <td>2.0</td>\n",
       "      <td>1.0</td>\n",
       "      <td>0.0</td>\n",
       "      <td>0.0</td>\n",
       "      <td>1.0</td>\n",
       "      <td>0.0</td>\n",
       "      <td>0.0</td>\n",
       "      <td>4.0</td>\n",
       "      <td>0.0</td>\n",
       "      <td>0.0</td>\n",
       "      <td>...</td>\n",
       "      <td>0</td>\n",
       "      <td>0</td>\n",
       "      <td>2</td>\n",
       "      <td>7</td>\n",
       "      <td>3</td>\n",
       "      <td>426</td>\n",
       "      <td>1887</td>\n",
       "      <td>1126</td>\n",
       "      <td>0</td>\n",
       "      <td>0</td>\n",
       "    </tr>\n",
       "    <tr>\n",
       "      <th>2014-04-01</th>\n",
       "      <td>2.0</td>\n",
       "      <td>1.0</td>\n",
       "      <td>0.0</td>\n",
       "      <td>1.0</td>\n",
       "      <td>1.0</td>\n",
       "      <td>0.0</td>\n",
       "      <td>0.0</td>\n",
       "      <td>4.0</td>\n",
       "      <td>0.0</td>\n",
       "      <td>0.0</td>\n",
       "      <td>...</td>\n",
       "      <td>0</td>\n",
       "      <td>0</td>\n",
       "      <td>2</td>\n",
       "      <td>7</td>\n",
       "      <td>4</td>\n",
       "      <td>335</td>\n",
       "      <td>1552</td>\n",
       "      <td>1461</td>\n",
       "      <td>0</td>\n",
       "      <td>0</td>\n",
       "    </tr>\n",
       "    <tr>\n",
       "      <th>2015-04-01</th>\n",
       "      <td>2.0</td>\n",
       "      <td>1.0</td>\n",
       "      <td>1.0</td>\n",
       "      <td>0.0</td>\n",
       "      <td>1.0</td>\n",
       "      <td>1.0</td>\n",
       "      <td>0.0</td>\n",
       "      <td>4.0</td>\n",
       "      <td>0.0</td>\n",
       "      <td>0.0</td>\n",
       "      <td>...</td>\n",
       "      <td>0</td>\n",
       "      <td>0</td>\n",
       "      <td>2</td>\n",
       "      <td>7</td>\n",
       "      <td>5</td>\n",
       "      <td>365</td>\n",
       "      <td>1187</td>\n",
       "      <td>1826</td>\n",
       "      <td>0</td>\n",
       "      <td>0</td>\n",
       "    </tr>\n",
       "  </tbody>\n",
       "</table>\n",
       "<p>5 rows × 142 columns</p>\n",
       "</div>"
      ],
      "text/plain": [
       "                   NHY  PDMEDYN  ONLDOPA  ONDOPAG  ONOTHER  FULNUPDR  PDSURG  \\\n",
       "PATNO INFODT_date                                                              \n",
       "3001  2011-02-01   2.0      0.0      0.0      0.0      0.0       0.0     0.0   \n",
       "      2012-03-01   2.0      0.0      0.0      0.0      0.0       1.0     0.0   \n",
       "      2013-05-01   2.0      1.0      0.0      0.0      1.0       0.0     0.0   \n",
       "      2014-04-01   2.0      1.0      0.0      1.0      1.0       0.0     0.0   \n",
       "      2015-04-01   2.0      1.0      1.0      0.0      1.0       1.0     0.0   \n",
       "\n",
       "                   PDSURGTP  MSRARSP  MSLARSP         ...          DXPOSINS  \\\n",
       "PATNO INFODT_date                                     ...                     \n",
       "3001  2011-02-01        4.0      0.0      0.0         ...                 0   \n",
       "      2012-03-01        4.0      0.0      0.0         ...                 0   \n",
       "      2013-05-01        4.0      0.0      0.0         ...                 0   \n",
       "      2014-04-01        4.0      0.0      0.0         ...                 0   \n",
       "      2015-04-01        4.0      0.0      0.0         ...                 0   \n",
       "\n",
       "                   DXOTHSX  DOMSIDE  num_visits  VISIT_ID  visitsdiff_days  \\\n",
       "PATNO INFODT_date                                                            \n",
       "3001  2011-02-01         0        2           7         1                0   \n",
       "      2012-03-01         0        2           7         2              394   \n",
       "      2013-05-01         0        2           7         3              426   \n",
       "      2014-04-01         0        2           7         4              335   \n",
       "      2015-04-01         0        2           7         5              365   \n",
       "\n",
       "                   lastDate_diff_days  PDDXDT_diff_days  PDMEDT_diff_days  \\\n",
       "PATNO INFODT_date                                                           \n",
       "3001  2011-02-01                 2707               306                 0   \n",
       "      2012-03-01                 2313               700                 0   \n",
       "      2013-05-01                 1887              1126                 0   \n",
       "      2014-04-01                 1552              1461                 0   \n",
       "      2015-04-01                 1187              1826                 0   \n",
       "\n",
       "                   PDSURGDT_diff_days  \n",
       "PATNO INFODT_date                      \n",
       "3001  2011-02-01                    0  \n",
       "      2012-03-01                    0  \n",
       "      2013-05-01                    0  \n",
       "      2014-04-01                    0  \n",
       "      2015-04-01                    0  \n",
       "\n",
       "[5 rows x 142 columns]"
      ]
     },
     "execution_count": 9,
     "metadata": {},
     "output_type": "execute_result"
    }
   ],
   "source": [
    "df_truncated=df.drop(columns=Motor_ass_features)\n",
    "df_truncated.drop(columns=NonMotor_ass_features,inplace=True)\n",
    "df_truncated.drop(columns=['MSEADLG'],inplace=True)\n",
    "df_truncated.set_index(keys=['PATNO','INFODT_date'],inplace=True)\n",
    "print('number of features:{}'.format(len(df_truncated.columns)))\n",
    "df_truncated.head()"
   ]
  },
  {
   "cell_type": "code",
   "execution_count": 10,
   "metadata": {
    "scrolled": true
   },
   "outputs": [
    {
     "data": {
      "text/plain": [
       "2.0    2386\n",
       "0.0    1227\n",
       "1.0     865\n",
       "3.0     246\n",
       "4.0      47\n",
       "5.0      13\n",
       "Name: NHY, dtype: int64"
      ]
     },
     "execution_count": 10,
     "metadata": {},
     "output_type": "execute_result"
    }
   ],
   "source": [
    "df_truncated['NHY'].value_counts()"
   ]
  },
  {
   "cell_type": "markdown",
   "metadata": {},
   "source": [
    "## 2. Split train, test"
   ]
  },
  {
   "cell_type": "code",
   "execution_count": 11,
   "metadata": {},
   "outputs": [
    {
     "name": "stdout",
     "output_type": "stream",
     "text": [
      "train counts: 2.0    1671\n",
      "0.0     842\n",
      "1.0     617\n",
      "3.0     173\n",
      "4.0      37\n",
      "5.0       8\n",
      "Name: NHY, dtype: int64\n",
      "(3348, 141)\n",
      "test counts: 2.0    715\n",
      "0.0    385\n",
      "1.0    248\n",
      "3.0     73\n",
      "4.0     10\n",
      "5.0      5\n",
      "Name: NHY, dtype: int64\n"
     ]
    },
    {
     "data": {
      "text/html": [
       "<div>\n",
       "<style scoped>\n",
       "    .dataframe tbody tr th:only-of-type {\n",
       "        vertical-align: middle;\n",
       "    }\n",
       "\n",
       "    .dataframe tbody tr th {\n",
       "        vertical-align: top;\n",
       "    }\n",
       "\n",
       "    .dataframe thead th {\n",
       "        text-align: right;\n",
       "    }\n",
       "</style>\n",
       "<table border=\"1\" class=\"dataframe\">\n",
       "  <thead>\n",
       "    <tr style=\"text-align: right;\">\n",
       "      <th></th>\n",
       "      <th></th>\n",
       "      <th>NHY</th>\n",
       "      <th>PDMEDYN</th>\n",
       "      <th>ONLDOPA</th>\n",
       "      <th>ONDOPAG</th>\n",
       "      <th>ONOTHER</th>\n",
       "      <th>FULNUPDR</th>\n",
       "      <th>PDSURG</th>\n",
       "      <th>PDSURGTP</th>\n",
       "      <th>MSRARSP</th>\n",
       "      <th>MSLARSP</th>\n",
       "      <th>...</th>\n",
       "      <th>DXPOSINS</th>\n",
       "      <th>DXOTHSX</th>\n",
       "      <th>DOMSIDE</th>\n",
       "      <th>num_visits</th>\n",
       "      <th>VISIT_ID</th>\n",
       "      <th>visitsdiff_days</th>\n",
       "      <th>lastDate_diff_days</th>\n",
       "      <th>PDDXDT_diff_days</th>\n",
       "      <th>PDMEDT_diff_days</th>\n",
       "      <th>PDSURGDT_diff_days</th>\n",
       "    </tr>\n",
       "    <tr>\n",
       "      <th>PATNO</th>\n",
       "      <th>INFODT_date</th>\n",
       "      <th></th>\n",
       "      <th></th>\n",
       "      <th></th>\n",
       "      <th></th>\n",
       "      <th></th>\n",
       "      <th></th>\n",
       "      <th></th>\n",
       "      <th></th>\n",
       "      <th></th>\n",
       "      <th></th>\n",
       "      <th></th>\n",
       "      <th></th>\n",
       "      <th></th>\n",
       "      <th></th>\n",
       "      <th></th>\n",
       "      <th></th>\n",
       "      <th></th>\n",
       "      <th></th>\n",
       "      <th></th>\n",
       "      <th></th>\n",
       "      <th></th>\n",
       "    </tr>\n",
       "  </thead>\n",
       "  <tbody>\n",
       "    <tr>\n",
       "      <th>40574</th>\n",
       "      <th>2016-03-01</th>\n",
       "      <td>0.0</td>\n",
       "      <td>0.0</td>\n",
       "      <td>0.0</td>\n",
       "      <td>0.0</td>\n",
       "      <td>0.0</td>\n",
       "      <td>0.0</td>\n",
       "      <td>0.0</td>\n",
       "      <td>4.0</td>\n",
       "      <td>0.0</td>\n",
       "      <td>0.0</td>\n",
       "      <td>...</td>\n",
       "      <td>0</td>\n",
       "      <td>0</td>\n",
       "      <td>0</td>\n",
       "      <td>3</td>\n",
       "      <td>2</td>\n",
       "      <td>759</td>\n",
       "      <td>852</td>\n",
       "      <td>0</td>\n",
       "      <td>0</td>\n",
       "      <td>0</td>\n",
       "    </tr>\n",
       "    <tr>\n",
       "      <th>4034</th>\n",
       "      <th>2018-04-01</th>\n",
       "      <td>2.0</td>\n",
       "      <td>1.0</td>\n",
       "      <td>1.0</td>\n",
       "      <td>0.0</td>\n",
       "      <td>0.0</td>\n",
       "      <td>0.0</td>\n",
       "      <td>0.0</td>\n",
       "      <td>4.0</td>\n",
       "      <td>0.0</td>\n",
       "      <td>0.0</td>\n",
       "      <td>...</td>\n",
       "      <td>0</td>\n",
       "      <td>1</td>\n",
       "      <td>2</td>\n",
       "      <td>6</td>\n",
       "      <td>6</td>\n",
       "      <td>396</td>\n",
       "      <td>91</td>\n",
       "      <td>2800</td>\n",
       "      <td>0</td>\n",
       "      <td>0</td>\n",
       "    </tr>\n",
       "    <tr>\n",
       "      <th>3373</th>\n",
       "      <th>2015-06-01</th>\n",
       "      <td>2.0</td>\n",
       "      <td>1.0</td>\n",
       "      <td>1.0</td>\n",
       "      <td>0.0</td>\n",
       "      <td>0.0</td>\n",
       "      <td>0.0</td>\n",
       "      <td>0.0</td>\n",
       "      <td>4.0</td>\n",
       "      <td>0.0</td>\n",
       "      <td>0.0</td>\n",
       "      <td>...</td>\n",
       "      <td>0</td>\n",
       "      <td>1</td>\n",
       "      <td>2</td>\n",
       "      <td>6</td>\n",
       "      <td>4</td>\n",
       "      <td>335</td>\n",
       "      <td>1126</td>\n",
       "      <td>1247</td>\n",
       "      <td>0</td>\n",
       "      <td>0</td>\n",
       "    </tr>\n",
       "    <tr>\n",
       "      <th>42454</th>\n",
       "      <th>2016-12-01</th>\n",
       "      <td>3.0</td>\n",
       "      <td>0.0</td>\n",
       "      <td>0.0</td>\n",
       "      <td>0.0</td>\n",
       "      <td>0.0</td>\n",
       "      <td>0.0</td>\n",
       "      <td>0.0</td>\n",
       "      <td>4.0</td>\n",
       "      <td>0.0</td>\n",
       "      <td>0.0</td>\n",
       "      <td>...</td>\n",
       "      <td>0</td>\n",
       "      <td>1</td>\n",
       "      <td>1</td>\n",
       "      <td>2</td>\n",
       "      <td>1</td>\n",
       "      <td>0</td>\n",
       "      <td>577</td>\n",
       "      <td>2253</td>\n",
       "      <td>0</td>\n",
       "      <td>0</td>\n",
       "    </tr>\n",
       "    <tr>\n",
       "      <th>3415</th>\n",
       "      <th>2016-03-01</th>\n",
       "      <td>2.0</td>\n",
       "      <td>1.0</td>\n",
       "      <td>1.0</td>\n",
       "      <td>0.0</td>\n",
       "      <td>1.0</td>\n",
       "      <td>1.0</td>\n",
       "      <td>0.0</td>\n",
       "      <td>4.0</td>\n",
       "      <td>0.0</td>\n",
       "      <td>0.0</td>\n",
       "      <td>...</td>\n",
       "      <td>0</td>\n",
       "      <td>0</td>\n",
       "      <td>2</td>\n",
       "      <td>8</td>\n",
       "      <td>6</td>\n",
       "      <td>366</td>\n",
       "      <td>852</td>\n",
       "      <td>1886</td>\n",
       "      <td>0</td>\n",
       "      <td>0</td>\n",
       "    </tr>\n",
       "  </tbody>\n",
       "</table>\n",
       "<p>5 rows × 142 columns</p>\n",
       "</div>"
      ],
      "text/plain": [
       "                   NHY  PDMEDYN  ONLDOPA  ONDOPAG  ONOTHER  FULNUPDR  PDSURG  \\\n",
       "PATNO INFODT_date                                                              \n",
       "40574 2016-03-01   0.0      0.0      0.0      0.0      0.0       0.0     0.0   \n",
       "4034  2018-04-01   2.0      1.0      1.0      0.0      0.0       0.0     0.0   \n",
       "3373  2015-06-01   2.0      1.0      1.0      0.0      0.0       0.0     0.0   \n",
       "42454 2016-12-01   3.0      0.0      0.0      0.0      0.0       0.0     0.0   \n",
       "3415  2016-03-01   2.0      1.0      1.0      0.0      1.0       1.0     0.0   \n",
       "\n",
       "                   PDSURGTP  MSRARSP  MSLARSP         ...          DXPOSINS  \\\n",
       "PATNO INFODT_date                                     ...                     \n",
       "40574 2016-03-01        4.0      0.0      0.0         ...                 0   \n",
       "4034  2018-04-01        4.0      0.0      0.0         ...                 0   \n",
       "3373  2015-06-01        4.0      0.0      0.0         ...                 0   \n",
       "42454 2016-12-01        4.0      0.0      0.0         ...                 0   \n",
       "3415  2016-03-01        4.0      0.0      0.0         ...                 0   \n",
       "\n",
       "                   DXOTHSX  DOMSIDE  num_visits  VISIT_ID  visitsdiff_days  \\\n",
       "PATNO INFODT_date                                                            \n",
       "40574 2016-03-01         0        0           3         2              759   \n",
       "4034  2018-04-01         1        2           6         6              396   \n",
       "3373  2015-06-01         1        2           6         4              335   \n",
       "42454 2016-12-01         1        1           2         1                0   \n",
       "3415  2016-03-01         0        2           8         6              366   \n",
       "\n",
       "                   lastDate_diff_days  PDDXDT_diff_days  PDMEDT_diff_days  \\\n",
       "PATNO INFODT_date                                                           \n",
       "40574 2016-03-01                  852                 0                 0   \n",
       "4034  2018-04-01                   91              2800                 0   \n",
       "3373  2015-06-01                 1126              1247                 0   \n",
       "42454 2016-12-01                  577              2253                 0   \n",
       "3415  2016-03-01                  852              1886                 0   \n",
       "\n",
       "                   PDSURGDT_diff_days  \n",
       "PATNO INFODT_date                      \n",
       "40574 2016-03-01                    0  \n",
       "4034  2018-04-01                    0  \n",
       "3373  2015-06-01                    0  \n",
       "42454 2016-12-01                    0  \n",
       "3415  2016-03-01                    0  \n",
       "\n",
       "[5 rows x 142 columns]"
      ]
     },
     "execution_count": 11,
     "metadata": {},
     "output_type": "execute_result"
    }
   ],
   "source": [
    "from sklearn.model_selection import train_test_split\n",
    "\n",
    "data=df_truncated.drop(columns='NHY')\n",
    "target=df_truncated['NHY']\n",
    "train, test = train_test_split(df_truncated, test_size=0.3, random_state=0)\n",
    "\n",
    "train.to_pickle(\"./train_nonTS.pickle\")\n",
    "test.to_pickle(\"./test_nonTS.pickle\")\n",
    "print('train counts: {}'.format(train.NHY.value_counts()))\n",
    "\n",
    "X_train = train.loc[:,train.columns!='NHY']\n",
    "y_train = train['NHY']\n",
    "X_test = test.loc[:,train.columns!='NHY']\n",
    "y_test = test[('NHY')]\n",
    "print(X_train.shape)\n",
    "print('test counts: {}'.format(y_test.value_counts()))\n",
    "\n",
    "train.head()"
   ]
  },
  {
   "cell_type": "markdown",
   "metadata": {},
   "source": [
    "### Take care of the classes unbalance with a sample upsampling"
   ]
  },
  {
   "cell_type": "code",
   "execution_count": 12,
   "metadata": {},
   "outputs": [
    {
     "name": "stdout",
     "output_type": "stream",
     "text": [
      "5.0    1671\n",
      "4.0    1671\n",
      "3.0    1671\n",
      "0.0    1671\n",
      "1.0    1671\n",
      "2.0    1671\n",
      "Name: NHY, dtype: int64\n"
     ]
    }
   ],
   "source": [
    "from sklearn.utils import resample\n",
    "\n",
    "def upsampling_NHY(train):\n",
    "    train_majority = train[train.NHY==2.0]\n",
    "    train_minority_1 = train[train.NHY==1.0]\n",
    "    train_minority_0= train[train.NHY==0.0]\n",
    "    train_minority_3= train[train.NHY==3.0]\n",
    "    train_minority_4=train[train.NHY==4.0]\n",
    "    train_minority_5=train[train.NHY==5.0]\n",
    "\n",
    "    # Upsample minority class\n",
    "    train_minority_upsampled_1 = resample(train_minority_1, \n",
    "                                     replace=True,     # sample with replacement\n",
    "                                     n_samples=train_majority.shape[0],  # to match majority class\n",
    "                                     random_state=123) # reproducible results\n",
    "    train_minority_upsampled_0 = resample(train_minority_0, \n",
    "                                     replace=True,     # sample with replacement\n",
    "                                     n_samples=train_majority.shape[0],  # to match majority class\n",
    "                                     random_state=123) # reproducible results\n",
    "    train_minority_upsampled_3 = resample(train_minority_3, \n",
    "                                     replace=True,     # sample with replacement\n",
    "                                     n_samples=train_majority.shape[0],  # to match majority class\n",
    "                                     random_state=123) # reproducible results\n",
    "    train_minority_upsampled_4= resample(train_minority_4, \n",
    "                                     replace=True,     # sample with replacement\n",
    "                                     n_samples=train_majority.shape[0],  # to match majority class\n",
    "                                     random_state=123) # reproducible results\n",
    "    train_minority_upsampled_5= resample(train_minority_5, \n",
    "                                     replace=True,     # sample with replacement\n",
    "                                     n_samples=train_majority.shape[0],  # to match majority class\n",
    "                                     random_state=123) # reproducible results\n",
    "\n",
    "    # Combine majority class with upsampled minority class\n",
    "    train_upsampled = pd.concat([train_majority, train_minority_upsampled_1,train_minority_upsampled_0,\n",
    "                                 train_minority_upsampled_3,train_minority_upsampled_4,\n",
    "                                 train_minority_upsampled_5])\n",
    "\n",
    "    # Show new class counts\n",
    "    print(train_upsampled.NHY.value_counts())\n",
    "    \n",
    "    return train_upsampled\n",
    "\n",
    "train_upsampled=upsampling_NHY(train)"
   ]
  },
  {
   "cell_type": "code",
   "execution_count": 13,
   "metadata": {},
   "outputs": [
    {
     "name": "stdout",
     "output_type": "stream",
     "text": [
      "5.0    2386\n",
      "4.0    2386\n",
      "3.0    2386\n",
      "0.0    2386\n",
      "1.0    2386\n",
      "2.0    2386\n",
      "Name: NHY, dtype: int64\n"
     ]
    }
   ],
   "source": [
    "X_train_up = train_upsampled.loc[:,train.columns!='NHY']\n",
    "y_train_up= train_upsampled['NHY']\n",
    "data_up=upsampling_NHY(df_truncated)\n",
    "target_up=data_up['NHY']\n",
    "data_up.drop(columns='NHY',inplace=True)\n",
    "\n",
    "assert len(data_up)==len(target_up)"
   ]
  },
  {
   "cell_type": "code",
   "execution_count": 14,
   "metadata": {},
   "outputs": [
    {
     "data": {
      "text/html": [
       "<div>\n",
       "<style scoped>\n",
       "    .dataframe tbody tr th:only-of-type {\n",
       "        vertical-align: middle;\n",
       "    }\n",
       "\n",
       "    .dataframe tbody tr th {\n",
       "        vertical-align: top;\n",
       "    }\n",
       "\n",
       "    .dataframe thead th {\n",
       "        text-align: right;\n",
       "    }\n",
       "</style>\n",
       "<table border=\"1\" class=\"dataframe\">\n",
       "  <thead>\n",
       "    <tr style=\"text-align: right;\">\n",
       "      <th></th>\n",
       "      <th></th>\n",
       "      <th>PDMEDYN</th>\n",
       "      <th>ONLDOPA</th>\n",
       "      <th>ONDOPAG</th>\n",
       "      <th>ONOTHER</th>\n",
       "      <th>FULNUPDR</th>\n",
       "      <th>PDSURG</th>\n",
       "      <th>PDSURGTP</th>\n",
       "      <th>MSRARSP</th>\n",
       "      <th>MSLARSP</th>\n",
       "      <th>MSRLRSP</th>\n",
       "      <th>...</th>\n",
       "      <th>DXPOSINS</th>\n",
       "      <th>DXOTHSX</th>\n",
       "      <th>DOMSIDE</th>\n",
       "      <th>num_visits</th>\n",
       "      <th>VISIT_ID</th>\n",
       "      <th>visitsdiff_days</th>\n",
       "      <th>lastDate_diff_days</th>\n",
       "      <th>PDDXDT_diff_days</th>\n",
       "      <th>PDMEDT_diff_days</th>\n",
       "      <th>PDSURGDT_diff_days</th>\n",
       "    </tr>\n",
       "    <tr>\n",
       "      <th>PATNO</th>\n",
       "      <th>INFODT_date</th>\n",
       "      <th></th>\n",
       "      <th></th>\n",
       "      <th></th>\n",
       "      <th></th>\n",
       "      <th></th>\n",
       "      <th></th>\n",
       "      <th></th>\n",
       "      <th></th>\n",
       "      <th></th>\n",
       "      <th></th>\n",
       "      <th></th>\n",
       "      <th></th>\n",
       "      <th></th>\n",
       "      <th></th>\n",
       "      <th></th>\n",
       "      <th></th>\n",
       "      <th></th>\n",
       "      <th></th>\n",
       "      <th></th>\n",
       "      <th></th>\n",
       "      <th></th>\n",
       "    </tr>\n",
       "  </thead>\n",
       "  <tbody>\n",
       "    <tr>\n",
       "      <th rowspan=\"5\" valign=\"top\">3001</th>\n",
       "      <th>2011-02-01</th>\n",
       "      <td>0.0</td>\n",
       "      <td>0.0</td>\n",
       "      <td>0.0</td>\n",
       "      <td>0.0</td>\n",
       "      <td>0.0</td>\n",
       "      <td>0.0</td>\n",
       "      <td>4.0</td>\n",
       "      <td>0.0</td>\n",
       "      <td>0.0</td>\n",
       "      <td>0.0</td>\n",
       "      <td>...</td>\n",
       "      <td>0</td>\n",
       "      <td>0</td>\n",
       "      <td>2</td>\n",
       "      <td>7</td>\n",
       "      <td>1</td>\n",
       "      <td>0</td>\n",
       "      <td>2707</td>\n",
       "      <td>306</td>\n",
       "      <td>0</td>\n",
       "      <td>0</td>\n",
       "    </tr>\n",
       "    <tr>\n",
       "      <th>2012-03-01</th>\n",
       "      <td>0.0</td>\n",
       "      <td>0.0</td>\n",
       "      <td>0.0</td>\n",
       "      <td>0.0</td>\n",
       "      <td>1.0</td>\n",
       "      <td>0.0</td>\n",
       "      <td>4.0</td>\n",
       "      <td>0.0</td>\n",
       "      <td>0.0</td>\n",
       "      <td>0.0</td>\n",
       "      <td>...</td>\n",
       "      <td>0</td>\n",
       "      <td>0</td>\n",
       "      <td>2</td>\n",
       "      <td>7</td>\n",
       "      <td>2</td>\n",
       "      <td>394</td>\n",
       "      <td>2313</td>\n",
       "      <td>700</td>\n",
       "      <td>0</td>\n",
       "      <td>0</td>\n",
       "    </tr>\n",
       "    <tr>\n",
       "      <th>2013-05-01</th>\n",
       "      <td>1.0</td>\n",
       "      <td>0.0</td>\n",
       "      <td>0.0</td>\n",
       "      <td>1.0</td>\n",
       "      <td>0.0</td>\n",
       "      <td>0.0</td>\n",
       "      <td>4.0</td>\n",
       "      <td>0.0</td>\n",
       "      <td>0.0</td>\n",
       "      <td>0.0</td>\n",
       "      <td>...</td>\n",
       "      <td>0</td>\n",
       "      <td>0</td>\n",
       "      <td>2</td>\n",
       "      <td>7</td>\n",
       "      <td>3</td>\n",
       "      <td>426</td>\n",
       "      <td>1887</td>\n",
       "      <td>1126</td>\n",
       "      <td>0</td>\n",
       "      <td>0</td>\n",
       "    </tr>\n",
       "    <tr>\n",
       "      <th>2014-04-01</th>\n",
       "      <td>1.0</td>\n",
       "      <td>0.0</td>\n",
       "      <td>1.0</td>\n",
       "      <td>1.0</td>\n",
       "      <td>0.0</td>\n",
       "      <td>0.0</td>\n",
       "      <td>4.0</td>\n",
       "      <td>0.0</td>\n",
       "      <td>0.0</td>\n",
       "      <td>0.0</td>\n",
       "      <td>...</td>\n",
       "      <td>0</td>\n",
       "      <td>0</td>\n",
       "      <td>2</td>\n",
       "      <td>7</td>\n",
       "      <td>4</td>\n",
       "      <td>335</td>\n",
       "      <td>1552</td>\n",
       "      <td>1461</td>\n",
       "      <td>0</td>\n",
       "      <td>0</td>\n",
       "    </tr>\n",
       "    <tr>\n",
       "      <th>2015-04-01</th>\n",
       "      <td>1.0</td>\n",
       "      <td>1.0</td>\n",
       "      <td>0.0</td>\n",
       "      <td>1.0</td>\n",
       "      <td>1.0</td>\n",
       "      <td>0.0</td>\n",
       "      <td>4.0</td>\n",
       "      <td>0.0</td>\n",
       "      <td>0.0</td>\n",
       "      <td>0.0</td>\n",
       "      <td>...</td>\n",
       "      <td>0</td>\n",
       "      <td>0</td>\n",
       "      <td>2</td>\n",
       "      <td>7</td>\n",
       "      <td>5</td>\n",
       "      <td>365</td>\n",
       "      <td>1187</td>\n",
       "      <td>1826</td>\n",
       "      <td>0</td>\n",
       "      <td>0</td>\n",
       "    </tr>\n",
       "  </tbody>\n",
       "</table>\n",
       "<p>5 rows × 141 columns</p>\n",
       "</div>"
      ],
      "text/plain": [
       "                   PDMEDYN  ONLDOPA  ONDOPAG  ONOTHER  FULNUPDR  PDSURG  \\\n",
       "PATNO INFODT_date                                                         \n",
       "3001  2011-02-01       0.0      0.0      0.0      0.0       0.0     0.0   \n",
       "      2012-03-01       0.0      0.0      0.0      0.0       1.0     0.0   \n",
       "      2013-05-01       1.0      0.0      0.0      1.0       0.0     0.0   \n",
       "      2014-04-01       1.0      0.0      1.0      1.0       0.0     0.0   \n",
       "      2015-04-01       1.0      1.0      0.0      1.0       1.0     0.0   \n",
       "\n",
       "                   PDSURGTP  MSRARSP  MSLARSP  MSRLRSP         ...          \\\n",
       "PATNO INFODT_date                                              ...           \n",
       "3001  2011-02-01        4.0      0.0      0.0      0.0         ...           \n",
       "      2012-03-01        4.0      0.0      0.0      0.0         ...           \n",
       "      2013-05-01        4.0      0.0      0.0      0.0         ...           \n",
       "      2014-04-01        4.0      0.0      0.0      0.0         ...           \n",
       "      2015-04-01        4.0      0.0      0.0      0.0         ...           \n",
       "\n",
       "                   DXPOSINS  DXOTHSX  DOMSIDE  num_visits  VISIT_ID  \\\n",
       "PATNO INFODT_date                                                     \n",
       "3001  2011-02-01          0        0        2           7         1   \n",
       "      2012-03-01          0        0        2           7         2   \n",
       "      2013-05-01          0        0        2           7         3   \n",
       "      2014-04-01          0        0        2           7         4   \n",
       "      2015-04-01          0        0        2           7         5   \n",
       "\n",
       "                   visitsdiff_days  lastDate_diff_days  PDDXDT_diff_days  \\\n",
       "PATNO INFODT_date                                                          \n",
       "3001  2011-02-01                 0                2707               306   \n",
       "      2012-03-01               394                2313               700   \n",
       "      2013-05-01               426                1887              1126   \n",
       "      2014-04-01               335                1552              1461   \n",
       "      2015-04-01               365                1187              1826   \n",
       "\n",
       "                   PDMEDT_diff_days  PDSURGDT_diff_days  \n",
       "PATNO INFODT_date                                        \n",
       "3001  2011-02-01                  0                   0  \n",
       "      2012-03-01                  0                   0  \n",
       "      2013-05-01                  0                   0  \n",
       "      2014-04-01                  0                   0  \n",
       "      2015-04-01                  0                   0  \n",
       "\n",
       "[5 rows x 141 columns]"
      ]
     },
     "execution_count": 14,
     "metadata": {},
     "output_type": "execute_result"
    }
   ],
   "source": [
    "data_up.head()"
   ]
  },
  {
   "cell_type": "code",
   "execution_count": 15,
   "metadata": {},
   "outputs": [
    {
     "data": {
      "text/plain": [
       "PATNO  INFODT_date\n",
       "3001   2011-02-01     2.0\n",
       "       2012-03-01     2.0\n",
       "       2013-05-01     2.0\n",
       "       2014-04-01     2.0\n",
       "       2015-04-01     2.0\n",
       "Name: NHY, dtype: float64"
      ]
     },
     "execution_count": 15,
     "metadata": {},
     "output_type": "execute_result"
    }
   ],
   "source": [
    "target_up.head()"
   ]
  },
  {
   "cell_type": "markdown",
   "metadata": {},
   "source": [
    "from imblearn.over_sampling import SMOTE\n",
    "X_resampled, y_resampled = SMOTE().fit_sample(X_train, y_train)\n",
    "X_resampled.shape\n",
    "logreg_smote = LogisticRegression(random_state=0).fit(X_resampled, y_resampled)"
   ]
  },
  {
   "cell_type": "code",
   "execution_count": 16,
   "metadata": {},
   "outputs": [],
   "source": [
    "#X_resampled, y_resampled = ADASYN().fit_sample(X, y)\n",
    "#clf_adasyn = LinearSVC().fit(X_resampled, y_resampled)"
   ]
  },
  {
   "cell_type": "markdown",
   "metadata": {},
   "source": [
    "## 3. Model Training"
   ]
  },
  {
   "cell_type": "markdown",
   "metadata": {},
   "source": [
    "### Dummy Classifier"
   ]
  },
  {
   "cell_type": "code",
   "execution_count": 17,
   "metadata": {},
   "outputs": [
    {
     "data": {
      "text/plain": [
       "DummyClassifier(constant=None, random_state=None, strategy='stratified')"
      ]
     },
     "execution_count": 17,
     "metadata": {},
     "output_type": "execute_result"
    }
   ],
   "source": [
    "from sklearn.dummy import DummyClassifier\n",
    "dummy=DummyClassifier()\n",
    "dummy.fit(X_train, y_train)"
   ]
  },
  {
   "cell_type": "code",
   "execution_count": 18,
   "metadata": {},
   "outputs": [
    {
     "name": "stdout",
     "output_type": "stream",
     "text": [
      "Train-Score: 0.3417, Test-Accuracy: 0.3586\n"
     ]
    }
   ],
   "source": [
    "print(\"Train-Score: %.4f, Test-Accuracy: %.4f\" % (dummy.score(X_train, y_train), dummy.score(X_test, y_test)))"
   ]
  },
  {
   "cell_type": "markdown",
   "metadata": {},
   "source": [
    "### Logistic Regression"
   ]
  },
  {
   "cell_type": "code",
   "execution_count": 19,
   "metadata": {},
   "outputs": [
    {
     "data": {
      "text/plain": [
       "LogisticRegression(C=1.0, class_weight=None, dual=False, fit_intercept=True,\n",
       "          intercept_scaling=1, max_iter=100, multi_class='multinomial',\n",
       "          n_jobs=1, penalty='l2', random_state=0, solver='newton-cg',\n",
       "          tol=0.0001, verbose=0, warm_start=False)"
      ]
     },
     "execution_count": 19,
     "metadata": {},
     "output_type": "execute_result"
    }
   ],
   "source": [
    "from sklearn.linear_model import LogisticRegression\n",
    "logreg = LogisticRegression(multi_class='multinomial',solver='newton-cg',random_state=0)\n",
    "logreg.fit(X_train, y_train)"
   ]
  },
  {
   "cell_type": "markdown",
   "metadata": {},
   "source": [
    "#### with upsampling"
   ]
  },
  {
   "cell_type": "code",
   "execution_count": 20,
   "metadata": {},
   "outputs": [
    {
     "data": {
      "text/plain": [
       "LogisticRegression(C=1.0, class_weight=None, dual=False, fit_intercept=True,\n",
       "          intercept_scaling=1, max_iter=100, multi_class='multinomial',\n",
       "          n_jobs=1, penalty='l2', random_state=1, solver='newton-cg',\n",
       "          tol=0.0001, verbose=0, warm_start=False)"
      ]
     },
     "execution_count": 20,
     "metadata": {},
     "output_type": "execute_result"
    }
   ],
   "source": [
    "logreg_up=LogisticRegression(multi_class='multinomial',solver='newton-cg',random_state=1)\n",
    "logreg_up.fit(X_train_up, y_train_up)"
   ]
  },
  {
   "cell_type": "markdown",
   "metadata": {},
   "source": [
    "### Random Forest"
   ]
  },
  {
   "cell_type": "code",
   "execution_count": 21,
   "metadata": {},
   "outputs": [
    {
     "data": {
      "text/plain": [
       "RandomForestClassifier(bootstrap=True, class_weight='balanced',\n",
       "            criterion='gini', max_depth=None, max_features='auto',\n",
       "            max_leaf_nodes=None, min_impurity_decrease=0.0,\n",
       "            min_impurity_split=None, min_samples_leaf=1,\n",
       "            min_samples_split=2, min_weight_fraction_leaf=0.0,\n",
       "            n_estimators=100, n_jobs=1, oob_score=False, random_state=1,\n",
       "            verbose=0, warm_start=False)"
      ]
     },
     "execution_count": 21,
     "metadata": {},
     "output_type": "execute_result"
    }
   ],
   "source": [
    "rfc_up = RandomForestClassifier(n_estimators=100, random_state=1)\n",
    "rfc_up.fit(X_train_up, y_train_up)\n",
    "\n",
    "rfc = RandomForestClassifier(n_estimators=100, random_state=0)\n",
    "rfc.fit(X_train, y_train)\n",
    "\n",
    "dict_weight={'0.0':0.4, '2.0':0.4, '1.0':0.4/3, '3.0':0.4/9, '4.0':0.4/27, '5.0':0.4/(27*8)}\n",
    "rfc_weighted = RandomForestClassifier(n_estimators=100, random_state=1,class_weight='balanced')\n",
    "rfc_weighted.fit(X_train, y_train)"
   ]
  },
  {
   "cell_type": "code",
   "execution_count": 22,
   "metadata": {},
   "outputs": [
    {
     "data": {
      "text/plain": [
       "30.16"
      ]
     },
     "execution_count": 22,
     "metadata": {},
     "output_type": "execute_result"
    }
   ],
   "source": [
    "#for estimator in rfc.estimators_:\n",
    "    #print(estimator.tree_.max_depth)\n",
    "np.mean([estimator.tree_.max_depth for estimator in rfc.estimators_])"
   ]
  },
  {
   "cell_type": "code",
   "execution_count": 23,
   "metadata": {},
   "outputs": [
    {
     "data": {
      "text/plain": [
       "0.9944444444444445"
      ]
     },
     "execution_count": 23,
     "metadata": {},
     "output_type": "execute_result"
    }
   ],
   "source": [
    "0.4*2+0.4/3+0.4/9+0.4/27+0.4/(8*27)"
   ]
  },
  {
   "cell_type": "code",
   "execution_count": 24,
   "metadata": {},
   "outputs": [
    {
     "data": {
      "text/plain": [
       "0.13333333333333333"
      ]
     },
     "execution_count": 24,
     "metadata": {},
     "output_type": "execute_result"
    }
   ],
   "source": [
    "0.4/3"
   ]
  },
  {
   "cell_type": "markdown",
   "metadata": {},
   "source": [
    "### XGBoost"
   ]
  },
  {
   "cell_type": "code",
   "execution_count": 25,
   "metadata": {},
   "outputs": [
    {
     "data": {
      "text/plain": [
       "XGBClassifier(base_score=0.5, booster='gbtree', colsample_bylevel=1,\n",
       "       colsample_bytree=1, gamma=0, learning_rate=0.1, max_delta_step=0,\n",
       "       max_depth=3, min_child_weight=1, missing=None, n_estimators=100,\n",
       "       n_jobs=-1, nthread=None, objective='multi:softprob', random_state=0,\n",
       "       reg_alpha=0, reg_lambda=1, scale_pos_weight=1, seed=0, silent=True,\n",
       "       subsample=1)"
      ]
     },
     "execution_count": 25,
     "metadata": {},
     "output_type": "execute_result"
    }
   ],
   "source": [
    "from xgboost import XGBClassifier\n",
    "xgb = XGBClassifier(n_jobs=-1,seed=0)\n",
    "xgb.fit(X_train, y_train)\n",
    "xgb_up=XGBClassifier(n_jobs=-1,seed=0)\n",
    "xgb_up.fit(X_train_up, y_train_up)"
   ]
  },
  {
   "cell_type": "markdown",
   "metadata": {},
   "source": [
    "## 4. Evaluation: Calculating, plotting metrics"
   ]
  },
  {
   "cell_type": "code",
   "execution_count": 26,
   "metadata": {},
   "outputs": [
    {
     "name": "stdout",
     "output_type": "stream",
     "text": [
      "Train-Score-logreg: 0.7873, Test-Accuracy-logreg: 0.7514\n",
      "Train-Score-logreg-up: 0.8231, Test-Accuracy-logreg-up: 0.6379\n",
      "Train-Score-rfc: 1.0000, Test-Accuracy-rfc: 0.7765\n",
      "Train-Score-rfc-up: 1.0000, Test-Accuracy-rfc: 0.7744\n",
      "Train-Score-rfc-weighted: 1.0000, Test-Accuracy-weighted: 0.7660\n",
      "Train-Score-xgb: 0.8253, Test-Accuracy-xgb: 0.7639\n",
      "Train-Score-xgb-up: 0.8864, Test-Accuracy-xgb-up: 0.6657\n"
     ]
    }
   ],
   "source": [
    "print(\"Train-Score-logreg: %.4f, Test-Accuracy-logreg: %.4f\" % (logreg.score(X_train, y_train), \n",
    "                                                                logreg.score(X_test, y_test)))\n",
    "print(\"Train-Score-logreg-up: %.4f, Test-Accuracy-logreg-up: %.4f\" % (logreg_up.score(X_train_up, y_train_up), \n",
    "                                                                      logreg_up.score(X_test, y_test)))\n",
    "print(\"Train-Score-rfc: %.4f, Test-Accuracy-rfc: %.4f\" % (rfc.score(X_train, y_train), rfc.score(X_test, y_test)))\n",
    "print(\"Train-Score-rfc-up: %.4f, Test-Accuracy-rfc: %.4f\" % (rfc_up.score(X_train_up, y_train_up), \n",
    "                                                             rfc_up.score(X_test, y_test)))\n",
    "print(\"Train-Score-rfc-weighted: %.4f, Test-Accuracy-weighted: %.4f\" % (rfc_weighted.score(X_train, y_train), \n",
    "                                                             rfc_weighted.score(X_test, y_test)))\n",
    "\n",
    "print(\"Train-Score-xgb: %.4f, Test-Accuracy-xgb: %.4f\" % (xgb.score(X_train, y_train), \n",
    "                                                         xgb.score(X_test, y_test)))\n",
    "print(\"Train-Score-xgb-up: %.4f, Test-Accuracy-xgb-up: %.4f\" % (xgb_up.score(X_train_up, y_train_up), \n",
    "                                                         xgb_up.score(X_test, y_test)))"
   ]
  },
  {
   "cell_type": "markdown",
   "metadata": {},
   "source": [
    "### Confusion Matrix"
   ]
  },
  {
   "cell_type": "code",
   "execution_count": 27,
   "metadata": {},
   "outputs": [
    {
     "data": {
      "text/plain": [
       "<matplotlib.axes._subplots.AxesSubplot at 0x11b62db38>"
      ]
     },
     "execution_count": 27,
     "metadata": {},
     "output_type": "execute_result"
    },
    {
     "data": {
      "image/png": "[encoded data removed]",
      "text/plain": [
       "<Figure size 432x288 with 2 Axes>"
      ]
     },
     "metadata": {},
     "output_type": "display_data"
    }
   ],
   "source": [
    "y_pred_logreg=logreg.predict(X_test)\n",
    "cm_logreg=confusion_matrix(y_test,y_pred_logreg)\n",
    "cm_logreg_df=pd.DataFrame(cm_logreg,index=[0,1,2,3,4,5],columns=[0,1,2,3,4,5])\n",
    "import seaborn as sns\n",
    "sns.heatmap(cm_logreg_df,annot=True,cmap='viridis')"
   ]
  },
  {
   "cell_type": "code",
   "execution_count": 28,
   "metadata": {},
   "outputs": [
    {
     "data": {
      "text/plain": [
       "<matplotlib.axes._subplots.AxesSubplot at 0x11b70f7b8>"
      ]
     },
     "execution_count": 28,
     "metadata": {},
     "output_type": "execute_result"
    },
    {
     "data": {
      "image/png": "[encoded data removed]",
      "text/plain": [
       "<Figure size 432x288 with 2 Axes>"
      ]
     },
     "metadata": {},
     "output_type": "display_data"
    }
   ],
   "source": [
    "y_pred_rfc=rfc.predict(X_test)\n",
    "cm_rfc=confusion_matrix(y_test,y_pred_rfc)\n",
    "cm_rfc_df=pd.DataFrame(cm_rfc,index=[0,1,2,3,4,5],columns=[0,1,2,3,4,5])\n",
    "sns.heatmap(cm_rfc_df,annot=True,cmap='viridis')"
   ]
  },
  {
   "cell_type": "markdown",
   "metadata": {},
   "source": [
    "### classification report"
   ]
  },
  {
   "cell_type": "code",
   "execution_count": 29,
   "metadata": {},
   "outputs": [
    {
     "name": "stdout",
     "output_type": "stream",
     "text": [
      "             precision    recall  f1-score   support\n",
      "\n",
      "        0.0       0.94      0.95      0.94       385\n",
      "        1.0       0.52      0.29      0.38       248\n",
      "        2.0       0.72      0.88      0.79       715\n",
      "        3.0       0.41      0.15      0.22        73\n",
      "        4.0       0.12      0.10      0.11        10\n",
      "        5.0       0.00      0.00      0.00         5\n",
      "\n",
      "avg / total       0.72      0.75      0.73      1436\n",
      "\n"
     ]
    }
   ],
   "source": [
    "from sklearn.metrics import classification_report\n",
    "report_logreg = classification_report(y_test, \n",
    "                      y_pred_logreg)\n",
    "print(report_logreg)"
   ]
  },
  {
   "cell_type": "code",
   "execution_count": 30,
   "metadata": {},
   "outputs": [
    {
     "name": "stdout",
     "output_type": "stream",
     "text": [
      "             precision    recall  f1-score   support\n",
      "\n",
      "        0.0       0.95      0.95      0.95       385\n",
      "        1.0       0.63      0.30      0.41       248\n",
      "        2.0       0.72      0.93      0.82       715\n",
      "        3.0       0.67      0.08      0.15        73\n",
      "        4.0       1.00      0.10      0.18        10\n",
      "        5.0       0.00      0.00      0.00         5\n",
      "\n",
      "avg / total       0.76      0.78      0.74      1436\n",
      "\n"
     ]
    },
    {
     "name": "stderr",
     "output_type": "stream",
     "text": [
      "/Users/alicemartin/miniconda3/envs/project/lib/python3.5/site-packages/sklearn/metrics/classification.py:1135: UndefinedMetricWarning: Precision and F-score are ill-defined and being set to 0.0 in labels with no predicted samples.\n",
      "  'precision', 'predicted', average, warn_for)\n"
     ]
    }
   ],
   "source": [
    "report_rfc = classification_report(y_test, \n",
    "                      y_pred_rfc)\n",
    "print(report_rfc)"
   ]
  },
  {
   "cell_type": "code",
   "execution_count": 31,
   "metadata": {},
   "outputs": [
    {
     "name": "stdout",
     "output_type": "stream",
     "text": [
      "             precision    recall  f1-score   support\n",
      "\n",
      "        0.0       0.95      0.95      0.95       385\n",
      "        1.0       0.58      0.38      0.45       248\n",
      "        2.0       0.74      0.90      0.81       715\n",
      "        3.0       0.50      0.10      0.16        73\n",
      "        4.0       1.00      0.10      0.18        10\n",
      "        5.0       0.00      0.00      0.00         5\n",
      "\n",
      "avg / total       0.75      0.77      0.75      1436\n",
      "\n"
     ]
    },
    {
     "name": "stderr",
     "output_type": "stream",
     "text": [
      "/Users/alicemartin/miniconda3/envs/project/lib/python3.5/site-packages/sklearn/metrics/classification.py:1135: UndefinedMetricWarning: Precision and F-score are ill-defined and being set to 0.0 in labels with no predicted samples.\n",
      "  'precision', 'predicted', average, warn_for)\n"
     ]
    }
   ],
   "source": [
    "y_pred_rfc_up=rfc_up.predict(X_test)\n",
    "report_rfc_up = classification_report(y_test, \n",
    "                      y_pred_rfc_up)\n",
    "print(report_rfc_up)"
   ]
  },
  {
   "cell_type": "markdown",
   "metadata": {},
   "source": [
    "## 5. Cross-Validation"
   ]
  },
  {
   "cell_type": "code",
   "execution_count": 32,
   "metadata": {
    "scrolled": true
   },
   "outputs": [],
   "source": [
    "from sklearn.cross_validation import LeaveOneOut, StratifiedKFold\n",
    "from sklearn.model_selection import cross_val_score\n",
    "from sklearn.model_selection import cross_validate\n",
    "# C = 1/lambda, the parameter of the sigmoid function\n",
    "# lambda = 0.001, 0.005, 0.01, 0.05, ..., 1, 5, 10, 50"
   ]
  },
  {
   "cell_type": "code",
   "execution_count": 33,
   "metadata": {},
   "outputs": [
    {
     "name": "stderr",
     "output_type": "stream",
     "text": [
      "/Users/alicemartin/miniconda3/envs/project/lib/python3.5/site-packages/sklearn/utils/optimize.py:203: ConvergenceWarning: newton-cg failed to converge. Increase the number of iterations.\n",
      "  \"number of iterations.\", ConvergenceWarning)\n",
      "/Users/alicemartin/miniconda3/envs/project/lib/python3.5/site-packages/sklearn/utils/optimize.py:203: ConvergenceWarning: newton-cg failed to converge. Increase the number of iterations.\n",
      "  \"number of iterations.\", ConvergenceWarning)\n",
      "/Users/alicemartin/miniconda3/envs/project/lib/python3.5/site-packages/sklearn/utils/optimize.py:203: ConvergenceWarning: newton-cg failed to converge. Increase the number of iterations.\n",
      "  \"number of iterations.\", ConvergenceWarning)\n",
      "/Users/alicemartin/miniconda3/envs/project/lib/python3.5/site-packages/sklearn/utils/optimize.py:203: ConvergenceWarning: newton-cg failed to converge. Increase the number of iterations.\n",
      "  \"number of iterations.\", ConvergenceWarning)\n",
      "/Users/alicemartin/miniconda3/envs/project/lib/python3.5/site-packages/sklearn/utils/optimize.py:203: ConvergenceWarning: newton-cg failed to converge. Increase the number of iterations.\n",
      "  \"number of iterations.\", ConvergenceWarning)\n",
      "/Users/alicemartin/miniconda3/envs/project/lib/python3.5/site-packages/sklearn/utils/optimize.py:203: ConvergenceWarning: newton-cg failed to converge. Increase the number of iterations.\n",
      "  \"number of iterations.\", ConvergenceWarning)\n"
     ]
    }
   ],
   "source": [
    "cross_validate_rfc=cross_validate(rfc,data,target,cv=3,n_jobs=-1,return_train_score=True)\n",
    "cross_validate_xgb=cross_validate(xgb,data,target,cv=3,n_jobs=-1,return_train_score=True)\n",
    "cross_validate_lr=cross_validate(logreg,data,target,cv=3,n_jobs=-1,return_train_score=True)\n",
    "cross_validate_rfc_up=cross_validate(rfc_up,data_up,target_up,cv=3,n_jobs=-1,return_train_score=True)\n",
    "cross_validate_xgb_up=cross_validate(xgb_up,data_up,target_up,cv=3,n_jobs=-1,return_train_score=True)\n",
    "cross_validate_lr_up=cross_validate(logreg_up,data_up,target_up,cv=3,n_jobs=-1,return_train_score=True)"
   ]
  },
  {
   "cell_type": "code",
   "execution_count": 34,
   "metadata": {},
   "outputs": [
    {
     "name": "stdout",
     "output_type": "stream",
     "text": [
      "Training Accuracy LR: 0.80 (+/- 0.02)\n",
      "Training Accuracy RF: 1.00 (+/- 0.00)\n",
      "Training Accuracy XGB: 0.84 (+/- 0.01)\n",
      "Test Accuracy LR: 0.61 (+/- 0.27)\n",
      "Test Accuracy RF: 0.64 (+/- 0.29)\n",
      "Test Accuracy XGB: 0.63 (+/- 0.28)\n"
     ]
    }
   ],
   "source": [
    "#print(cross_validate_lr)\n",
    "print(\"Training Accuracy LR: %0.2f (+/- %0.2f)\" % (cross_validate_lr['train_score'].mean(), cross_validate_lr['train_score'].std() * 2))\n",
    "print(\"Training Accuracy RF: %0.2f (+/- %0.2f)\" % (cross_validate_rfc['train_score'].mean(), cross_validate_rfc['train_score'].std() * 2))\n",
    "print(\"Training Accuracy XGB: %0.2f (+/- %0.2f)\" % (cross_validate_xgb['train_score'].mean(), cross_validate_xgb['train_score'].std() * 2))\n",
    "\n",
    "print(\"Test Accuracy LR: %0.2f (+/- %0.2f)\" % (cross_validate_lr['test_score'].mean(), cross_validate_lr['test_score'].std() * 2))\n",
    "print(\"Test Accuracy RF: %0.2f (+/- %0.2f)\" % (cross_validate_rfc['test_score'].mean(), cross_validate_rfc['test_score'].std() * 2))\n",
    "print(\"Test Accuracy XGB: %0.2f (+/- %0.2f)\" % (cross_validate_xgb['test_score'].mean(), cross_validate_xgb['test_score'].std() * 2))"
   ]
  },
  {
   "cell_type": "code",
   "execution_count": 35,
   "metadata": {},
   "outputs": [
    {
     "name": "stdout",
     "output_type": "stream",
     "text": [
      "Training Accuracy LR upsampled: 0.80 (+/- 0.03)\n",
      "Training Accuracy RF upsampled: 1.00 (+/- 0.00)\n",
      "Training Accuracy XGB upsampled: 0.88 (+/- 0.02)\n",
      "Test Accuracy LR upsampled: 0.74 (+/- 0.04)\n",
      "Test Accuracy RF upsampled: 0.90 (+/- 0.07)\n",
      "Test Accuracy XGB upsampled: 0.80 (+/- 0.05)\n"
     ]
    }
   ],
   "source": [
    "#print(cross_validate_lr)\n",
    "print(\"Training Accuracy LR upsampled: %0.2f (+/- %0.2f)\" % (cross_validate_lr_up['train_score'].mean(), cross_validate_lr_up['train_score'].std() * 2))\n",
    "print(\"Training Accuracy RF upsampled: %0.2f (+/- %0.2f)\" % (cross_validate_rfc_up['train_score'].mean(), cross_validate_rfc_up['train_score'].std() * 2))\n",
    "print(\"Training Accuracy XGB upsampled: %0.2f (+/- %0.2f)\" % (cross_validate_xgb_up['train_score'].mean(), cross_validate_xgb_up['train_score'].std() * 2))\n",
    "\n",
    "print(\"Test Accuracy LR upsampled: %0.2f (+/- %0.2f)\" % (cross_validate_lr_up['test_score'].mean(), cross_validate_lr_up['test_score'].std() * 2))\n",
    "print(\"Test Accuracy RF upsampled: %0.2f (+/- %0.2f)\" % (cross_validate_rfc_up['test_score'].mean(), cross_validate_rfc_up['test_score'].std() * 2))\n",
    "print(\"Test Accuracy XGB upsampled: %0.2f (+/- %0.2f)\" % (cross_validate_xgb_up['test_score'].mean(), cross_validate_xgb_up['test_score'].std() * 2))"
   ]
  },
  {
   "cell_type": "markdown",
   "metadata": {},
   "source": [
    "### feature importance"
   ]
  },
  {
   "cell_type": "code",
   "execution_count": 36,
   "metadata": {},
   "outputs": [
    {
     "name": "stdout",
     "output_type": "stream",
     "text": [
      "[0.76434728]\n",
      "0.9078014184397163\n"
     ]
    },
    {
     "data": {
      "text/html": [
       "<div>\n",
       "<style scoped>\n",
       "    .dataframe tbody tr th:only-of-type {\n",
       "        vertical-align: middle;\n",
       "    }\n",
       "\n",
       "    .dataframe tbody tr th {\n",
       "        vertical-align: top;\n",
       "    }\n",
       "\n",
       "    .dataframe thead th {\n",
       "        text-align: right;\n",
       "    }\n",
       "</style>\n",
       "<table border=\"1\" class=\"dataframe\">\n",
       "  <thead>\n",
       "    <tr style=\"text-align: right;\">\n",
       "      <th></th>\n",
       "      <th>importance</th>\n",
       "    </tr>\n",
       "  </thead>\n",
       "  <tbody>\n",
       "    <tr>\n",
       "      <th>PDDXDT_diff_days</th>\n",
       "      <td>0.083899</td>\n",
       "    </tr>\n",
       "    <tr>\n",
       "      <th>BIRTHDT</th>\n",
       "      <td>0.038845</td>\n",
       "    </tr>\n",
       "    <tr>\n",
       "      <th>lastDate_diff_days</th>\n",
       "      <td>0.037973</td>\n",
       "    </tr>\n",
       "    <tr>\n",
       "      <th>PRIMDIAG</th>\n",
       "      <td>0.031572</td>\n",
       "    </tr>\n",
       "    <tr>\n",
       "      <th>SYSSTND</th>\n",
       "      <td>0.030584</td>\n",
       "    </tr>\n",
       "    <tr>\n",
       "      <th>DOMSIDE</th>\n",
       "      <td>0.029472</td>\n",
       "    </tr>\n",
       "    <tr>\n",
       "      <th>DIASTND</th>\n",
       "      <td>0.028454</td>\n",
       "    </tr>\n",
       "    <tr>\n",
       "      <th>HRSTND</th>\n",
       "      <td>0.028355</td>\n",
       "    </tr>\n",
       "    <tr>\n",
       "      <th>visitsdiff_days</th>\n",
       "      <td>0.028215</td>\n",
       "    </tr>\n",
       "    <tr>\n",
       "      <th>DIASUP</th>\n",
       "      <td>0.027865</td>\n",
       "    </tr>\n",
       "    <tr>\n",
       "      <th>HRSUP</th>\n",
       "      <td>0.026745</td>\n",
       "    </tr>\n",
       "    <tr>\n",
       "      <th>SYSSUP</th>\n",
       "      <td>0.025147</td>\n",
       "    </tr>\n",
       "    <tr>\n",
       "      <th>num_visits</th>\n",
       "      <td>0.021194</td>\n",
       "    </tr>\n",
       "    <tr>\n",
       "      <th>APPRDX</th>\n",
       "      <td>0.020152</td>\n",
       "    </tr>\n",
       "    <tr>\n",
       "      <th>CURRENT_APPRDX</th>\n",
       "      <td>0.019694</td>\n",
       "    </tr>\n",
       "    <tr>\n",
       "      <th>PLRLRSP</th>\n",
       "      <td>0.018751</td>\n",
       "    </tr>\n",
       "    <tr>\n",
       "      <th>DFBRADYP</th>\n",
       "      <td>0.018594</td>\n",
       "    </tr>\n",
       "    <tr>\n",
       "      <th>DXTREMOR</th>\n",
       "      <td>0.017849</td>\n",
       "    </tr>\n",
       "    <tr>\n",
       "      <th>MHROW_2</th>\n",
       "      <td>0.015687</td>\n",
       "    </tr>\n",
       "    <tr>\n",
       "      <th>DXBRADY</th>\n",
       "      <td>0.015603</td>\n",
       "    </tr>\n",
       "    <tr>\n",
       "      <th>DFRIGIDP</th>\n",
       "      <td>0.015047</td>\n",
       "    </tr>\n",
       "    <tr>\n",
       "      <th>SENLLRSP</th>\n",
       "      <td>0.014238</td>\n",
       "    </tr>\n",
       "    <tr>\n",
       "      <th>DFPGDIST</th>\n",
       "      <td>0.013773</td>\n",
       "    </tr>\n",
       "    <tr>\n",
       "      <th>VISIT_ID</th>\n",
       "      <td>0.013333</td>\n",
       "    </tr>\n",
       "    <tr>\n",
       "      <th>MHROW_3</th>\n",
       "      <td>0.013314</td>\n",
       "    </tr>\n",
       "    <tr>\n",
       "      <th>PLRRRSP</th>\n",
       "      <td>0.011866</td>\n",
       "    </tr>\n",
       "    <tr>\n",
       "      <th>PDMEDYN</th>\n",
       "      <td>0.011321</td>\n",
       "    </tr>\n",
       "    <tr>\n",
       "      <th>SENRLRSP</th>\n",
       "      <td>0.011207</td>\n",
       "    </tr>\n",
       "    <tr>\n",
       "      <th>DXRIGID</th>\n",
       "      <td>0.011116</td>\n",
       "    </tr>\n",
       "    <tr>\n",
       "      <th>TGLCRSLT</th>\n",
       "      <td>0.010828</td>\n",
       "    </tr>\n",
       "    <tr>\n",
       "      <th>TOPRRSLT</th>\n",
       "      <td>0.010766</td>\n",
       "    </tr>\n",
       "    <tr>\n",
       "      <th>DFRIGIDA</th>\n",
       "      <td>0.010722</td>\n",
       "    </tr>\n",
       "    <tr>\n",
       "      <th>DFBRADYA</th>\n",
       "      <td>0.010620</td>\n",
       "    </tr>\n",
       "    <tr>\n",
       "      <th>DFFALLS</th>\n",
       "      <td>0.010608</td>\n",
       "    </tr>\n",
       "    <tr>\n",
       "      <th>ONLDOPA</th>\n",
       "      <td>0.010448</td>\n",
       "    </tr>\n",
       "    <tr>\n",
       "      <th>DFURDYS</th>\n",
       "      <td>0.010356</td>\n",
       "    </tr>\n",
       "    <tr>\n",
       "      <th>DFCOGNIT</th>\n",
       "      <td>0.010138</td>\n",
       "    </tr>\n",
       "  </tbody>\n",
       "</table>\n",
       "</div>"
      ],
      "text/plain": [
       "                    importance\n",
       "PDDXDT_diff_days      0.083899\n",
       "BIRTHDT               0.038845\n",
       "lastDate_diff_days    0.037973\n",
       "PRIMDIAG              0.031572\n",
       "SYSSTND               0.030584\n",
       "DOMSIDE               0.029472\n",
       "DIASTND               0.028454\n",
       "HRSTND                0.028355\n",
       "visitsdiff_days       0.028215\n",
       "DIASUP                0.027865\n",
       "HRSUP                 0.026745\n",
       "SYSSUP                0.025147\n",
       "num_visits            0.021194\n",
       "APPRDX                0.020152\n",
       "CURRENT_APPRDX        0.019694\n",
       "PLRLRSP               0.018751\n",
       "DFBRADYP              0.018594\n",
       "DXTREMOR              0.017849\n",
       "MHROW_2               0.015687\n",
       "DXBRADY               0.015603\n",
       "DFRIGIDP              0.015047\n",
       "SENLLRSP              0.014238\n",
       "DFPGDIST              0.013773\n",
       "VISIT_ID              0.013333\n",
       "MHROW_3               0.013314\n",
       "PLRRRSP               0.011866\n",
       "PDMEDYN               0.011321\n",
       "SENRLRSP              0.011207\n",
       "DXRIGID               0.011116\n",
       "TGLCRSLT              0.010828\n",
       "TOPRRSLT              0.010766\n",
       "DFRIGIDA              0.010722\n",
       "DFBRADYA              0.010620\n",
       "DFFALLS               0.010608\n",
       "ONLDOPA               0.010448\n",
       "DFURDYS               0.010356\n",
       "DFCOGNIT              0.010138"
      ]
     },
     "execution_count": 36,
     "metadata": {},
     "output_type": "execute_result"
    }
   ],
   "source": [
    "feature_importances = pd.DataFrame(rfc_up.feature_importances_,\n",
    "                                   index = X_train.columns,\n",
    "                                    columns=['importance']).sort_values('importance',ascending=False)\n",
    "ImportantFeatures=feature_importances[feature_importances.values>=0.01]\n",
    "RelevantFeatures=feature_importances[feature_importances.values>0]\n",
    "RelevantFeaturesList=list(RelevantFeatures.index)\n",
    "print(sum(ImportantFeatures.values))\n",
    "print(len(RelevantFeatures)/len(feature_importances))\n",
    "ImportantFeatures"
   ]
  },
  {
   "cell_type": "code",
   "execution_count": 37,
   "metadata": {},
   "outputs": [
    {
     "data": {
      "image/png": "[encoded data removed]",
      "text/plain": [
       "<Figure size 720x720 with 1 Axes>"
      ]
     },
     "metadata": {},
     "output_type": "display_data"
    }
   ],
   "source": [
    "def plot_importantFeatures(clf,X_train,threshold=0.01,figsize=(10,10),color='b'):\n",
    "    importances=clf.feature_importances_\n",
    "    importances=importances[importances>=threshold]\n",
    "    features = X_train.columns\n",
    "    indices = np.argsort(importances)\n",
    "    fig = plt.figure(figsize=figsize)\n",
    "    plt.title('Feature Importances')\n",
    "    plt.barh(range(len(indices)), importances[indices], color=color, align='center')\n",
    "    plt.yticks(range(len(indices)), [features[i] for i in indices])\n",
    "    plt.xlabel('Relative Importance')\n",
    "    plt.show()\n",
    "\n",
    "plot_importantFeatures(rfc_up,X_train_up) #to correct - not consistent with table above"
   ]
  },
  {
   "cell_type": "markdown",
   "metadata": {},
   "source": [
    "## 6. Hyperparameter tuning with GridSearchCV"
   ]
  },
  {
   "cell_type": "markdown",
   "metadata": {},
   "source": [
    "#### Using only the Relevant Features from the feature importance"
   ]
  },
  {
   "cell_type": "code",
   "execution_count": 38,
   "metadata": {},
   "outputs": [
    {
     "data": {
      "text/html": [
       "<div>\n",
       "<style scoped>\n",
       "    .dataframe tbody tr th:only-of-type {\n",
       "        vertical-align: middle;\n",
       "    }\n",
       "\n",
       "    .dataframe tbody tr th {\n",
       "        vertical-align: top;\n",
       "    }\n",
       "\n",
       "    .dataframe thead th {\n",
       "        text-align: right;\n",
       "    }\n",
       "</style>\n",
       "<table border=\"1\" class=\"dataframe\">\n",
       "  <thead>\n",
       "    <tr style=\"text-align: right;\">\n",
       "      <th></th>\n",
       "      <th></th>\n",
       "      <th>PDDXDT_diff_days</th>\n",
       "      <th>BIRTHDT</th>\n",
       "      <th>lastDate_diff_days</th>\n",
       "      <th>PRIMDIAG</th>\n",
       "      <th>SYSSTND</th>\n",
       "      <th>DOMSIDE</th>\n",
       "      <th>DIASTND</th>\n",
       "      <th>HRSTND</th>\n",
       "      <th>visitsdiff_days</th>\n",
       "      <th>DIASUP</th>\n",
       "      <th>...</th>\n",
       "      <th>MHROW_7</th>\n",
       "      <th>PDMEDT_diff_days</th>\n",
       "      <th>DFAGESX</th>\n",
       "      <th>PESEQ_11</th>\n",
       "      <th>MHROW_9</th>\n",
       "      <th>MHROW_11</th>\n",
       "      <th>MHROW_8</th>\n",
       "      <th>MHROW_10</th>\n",
       "      <th>PESEQ_13</th>\n",
       "      <th>MHROW_13</th>\n",
       "    </tr>\n",
       "    <tr>\n",
       "      <th>PATNO</th>\n",
       "      <th>INFODT_date</th>\n",
       "      <th></th>\n",
       "      <th></th>\n",
       "      <th></th>\n",
       "      <th></th>\n",
       "      <th></th>\n",
       "      <th></th>\n",
       "      <th></th>\n",
       "      <th></th>\n",
       "      <th></th>\n",
       "      <th></th>\n",
       "      <th></th>\n",
       "      <th></th>\n",
       "      <th></th>\n",
       "      <th></th>\n",
       "      <th></th>\n",
       "      <th></th>\n",
       "      <th></th>\n",
       "      <th></th>\n",
       "      <th></th>\n",
       "      <th></th>\n",
       "      <th></th>\n",
       "    </tr>\n",
       "  </thead>\n",
       "  <tbody>\n",
       "    <tr>\n",
       "      <th rowspan=\"5\" valign=\"top\">3001</th>\n",
       "      <th>2011-02-01</th>\n",
       "      <td>306</td>\n",
       "      <td>1946.0</td>\n",
       "      <td>2707</td>\n",
       "      <td>1.0</td>\n",
       "      <td>136.0</td>\n",
       "      <td>2</td>\n",
       "      <td>90.0</td>\n",
       "      <td>72.0</td>\n",
       "      <td>0</td>\n",
       "      <td>90.0</td>\n",
       "      <td>...</td>\n",
       "      <td>0</td>\n",
       "      <td>0</td>\n",
       "      <td>0.0</td>\n",
       "      <td>1</td>\n",
       "      <td>0</td>\n",
       "      <td>0</td>\n",
       "      <td>0</td>\n",
       "      <td>0</td>\n",
       "      <td>0</td>\n",
       "      <td>0</td>\n",
       "    </tr>\n",
       "    <tr>\n",
       "      <th>2012-03-01</th>\n",
       "      <td>700</td>\n",
       "      <td>1946.0</td>\n",
       "      <td>2313</td>\n",
       "      <td>1.0</td>\n",
       "      <td>124.0</td>\n",
       "      <td>2</td>\n",
       "      <td>79.0</td>\n",
       "      <td>76.0</td>\n",
       "      <td>394</td>\n",
       "      <td>83.0</td>\n",
       "      <td>...</td>\n",
       "      <td>0</td>\n",
       "      <td>0</td>\n",
       "      <td>0.0</td>\n",
       "      <td>1</td>\n",
       "      <td>0</td>\n",
       "      <td>0</td>\n",
       "      <td>0</td>\n",
       "      <td>0</td>\n",
       "      <td>0</td>\n",
       "      <td>0</td>\n",
       "    </tr>\n",
       "    <tr>\n",
       "      <th>2013-05-01</th>\n",
       "      <td>1126</td>\n",
       "      <td>1946.0</td>\n",
       "      <td>1887</td>\n",
       "      <td>1.0</td>\n",
       "      <td>104.0</td>\n",
       "      <td>2</td>\n",
       "      <td>85.0</td>\n",
       "      <td>88.0</td>\n",
       "      <td>426</td>\n",
       "      <td>72.0</td>\n",
       "      <td>...</td>\n",
       "      <td>0</td>\n",
       "      <td>0</td>\n",
       "      <td>0.0</td>\n",
       "      <td>1</td>\n",
       "      <td>0</td>\n",
       "      <td>0</td>\n",
       "      <td>0</td>\n",
       "      <td>0</td>\n",
       "      <td>0</td>\n",
       "      <td>0</td>\n",
       "    </tr>\n",
       "    <tr>\n",
       "      <th>2014-04-01</th>\n",
       "      <td>1461</td>\n",
       "      <td>1946.0</td>\n",
       "      <td>1552</td>\n",
       "      <td>1.0</td>\n",
       "      <td>107.0</td>\n",
       "      <td>2</td>\n",
       "      <td>76.0</td>\n",
       "      <td>82.0</td>\n",
       "      <td>335</td>\n",
       "      <td>68.0</td>\n",
       "      <td>...</td>\n",
       "      <td>0</td>\n",
       "      <td>0</td>\n",
       "      <td>0.0</td>\n",
       "      <td>1</td>\n",
       "      <td>0</td>\n",
       "      <td>0</td>\n",
       "      <td>0</td>\n",
       "      <td>0</td>\n",
       "      <td>0</td>\n",
       "      <td>0</td>\n",
       "    </tr>\n",
       "    <tr>\n",
       "      <th>2015-04-01</th>\n",
       "      <td>1826</td>\n",
       "      <td>1946.0</td>\n",
       "      <td>1187</td>\n",
       "      <td>1.0</td>\n",
       "      <td>114.0</td>\n",
       "      <td>2</td>\n",
       "      <td>78.0</td>\n",
       "      <td>84.0</td>\n",
       "      <td>365</td>\n",
       "      <td>81.0</td>\n",
       "      <td>...</td>\n",
       "      <td>0</td>\n",
       "      <td>0</td>\n",
       "      <td>0.0</td>\n",
       "      <td>1</td>\n",
       "      <td>0</td>\n",
       "      <td>0</td>\n",
       "      <td>0</td>\n",
       "      <td>0</td>\n",
       "      <td>0</td>\n",
       "      <td>0</td>\n",
       "    </tr>\n",
       "  </tbody>\n",
       "</table>\n",
       "<p>5 rows × 128 columns</p>\n",
       "</div>"
      ],
      "text/plain": [
       "                   PDDXDT_diff_days  BIRTHDT  lastDate_diff_days  PRIMDIAG  \\\n",
       "PATNO INFODT_date                                                            \n",
       "3001  2011-02-01                306   1946.0                2707       1.0   \n",
       "      2012-03-01                700   1946.0                2313       1.0   \n",
       "      2013-05-01               1126   1946.0                1887       1.0   \n",
       "      2014-04-01               1461   1946.0                1552       1.0   \n",
       "      2015-04-01               1826   1946.0                1187       1.0   \n",
       "\n",
       "                   SYSSTND  DOMSIDE  DIASTND  HRSTND  visitsdiff_days  DIASUP  \\\n",
       "PATNO INFODT_date                                                               \n",
       "3001  2011-02-01     136.0        2     90.0    72.0                0    90.0   \n",
       "      2012-03-01     124.0        2     79.0    76.0              394    83.0   \n",
       "      2013-05-01     104.0        2     85.0    88.0              426    72.0   \n",
       "      2014-04-01     107.0        2     76.0    82.0              335    68.0   \n",
       "      2015-04-01     114.0        2     78.0    84.0              365    81.0   \n",
       "\n",
       "                     ...     MHROW_7  PDMEDT_diff_days  DFAGESX  PESEQ_11  \\\n",
       "PATNO INFODT_date    ...                                                    \n",
       "3001  2011-02-01     ...           0                 0      0.0         1   \n",
       "      2012-03-01     ...           0                 0      0.0         1   \n",
       "      2013-05-01     ...           0                 0      0.0         1   \n",
       "      2014-04-01     ...           0                 0      0.0         1   \n",
       "      2015-04-01     ...           0                 0      0.0         1   \n",
       "\n",
       "                   MHROW_9  MHROW_11  MHROW_8  MHROW_10  PESEQ_13  MHROW_13  \n",
       "PATNO INFODT_date                                                            \n",
       "3001  2011-02-01         0         0        0         0         0         0  \n",
       "      2012-03-01         0         0        0         0         0         0  \n",
       "      2013-05-01         0         0        0         0         0         0  \n",
       "      2014-04-01         0         0        0         0         0         0  \n",
       "      2015-04-01         0         0        0         0         0         0  \n",
       "\n",
       "[5 rows x 128 columns]"
      ]
     },
     "execution_count": 38,
     "metadata": {},
     "output_type": "execute_result"
    }
   ],
   "source": [
    "data_GS=data[RelevantFeaturesList]\n",
    "data_GS.head()"
   ]
  },
  {
   "cell_type": "code",
   "execution_count": 39,
   "metadata": {},
   "outputs": [
    {
     "data": {
      "text/plain": [
       "32.16"
      ]
     },
     "execution_count": 39,
     "metadata": {},
     "output_type": "execute_result"
    }
   ],
   "source": [
    "np.mean([estimator.tree_.max_depth for estimator in rfc_up.estimators_])"
   ]
  },
  {
   "cell_type": "code",
   "execution_count": 40,
   "metadata": {},
   "outputs": [],
   "source": [
    "def grid_search(param_grid, estimator, data, target, cv=3,njobs=-1):\n",
    "    from sklearn.model_selection import GridSearchCV\n",
    "    est = estimator\n",
    "    grid_search=GridSearchCV(est, param_grid,cv=cv)\n",
    "    grid_search.fit(data,target)\n",
    "    print(\"Best estimator:\\n{}\".format(grid_search.best_estimator_))\n",
    "    print(\"Best parameters: {}\".format(grid_search.best_params_))\n",
    "    print(\"Best cross-validation score: {:.2f}\".format(grid_search.best_score_))\n",
    "    return grid_search"
   ]
  },
  {
   "cell_type": "code",
   "execution_count": 41,
   "metadata": {},
   "outputs": [
    {
     "name": "stdout",
     "output_type": "stream",
     "text": [
      "Best estimator:\n",
      "RandomForestClassifier(bootstrap=True, class_weight=None, criterion='gini',\n",
      "            max_depth=40, max_features=12, max_leaf_nodes=None,\n",
      "            min_impurity_decrease=0.0, min_impurity_split=None,\n",
      "            min_samples_leaf=1, min_samples_split=2,\n",
      "            min_weight_fraction_leaf=0.0, n_estimators=250, n_jobs=1,\n",
      "            oob_score=False, random_state=0, verbose=0, warm_start=False)\n",
      "Best parameters: {'max_features': 12, 'n_estimators': 250, 'max_depth': 40}\n",
      "Best cross-validation score: 0.90\n"
     ]
    }
   ],
   "source": [
    "param_grid_rfc={'n_estimators':[250,500],\n",
    "               'max_features':[7,10,12],\n",
    "               'max_depth':[20,30,40]}\n",
    "grid_search2_up=grid_search(param_grid_rfc, estimator=RandomForestClassifier(random_state=0), \n",
    "                        data=data_up, \n",
    "                         target=target_up)"
   ]
  },
  {
   "cell_type": "code",
   "execution_count": 42,
   "metadata": {},
   "outputs": [
    {
     "data": {
      "text/plain": [
       "{'mean_fit_time': array([2.49065042, 4.99722465, 2.77177731, 5.67424003, 3.06176368,\n",
       "        6.09358637, 2.49837724, 4.94226011, 2.97134797, 5.81968506,\n",
       "        3.20316331, 6.37664056, 2.50313266, 4.96431065, 2.85334833,\n",
       "        5.6972692 , 3.15652164, 6.95034933]),\n",
       " 'mean_score_time': array([0.2523969 , 0.52203838, 0.22943068, 0.47631931, 0.24607929,\n",
       "        0.44986169, 0.25657368, 0.50934164, 0.24877501, 0.45821627,\n",
       "        0.22974515, 0.45491767, 0.251326  , 0.55193337, 0.23697035,\n",
       "        0.46155477, 0.23287074, 0.46993701]),\n",
       " 'mean_test_score': array([0.89843532, 0.89892428, 0.8997625 , 0.89997206, 0.89969265,\n",
       "        0.8994831 , 0.9031154 , 0.90262643, 0.90262643, 0.90353451,\n",
       "        0.90318525, 0.90367421, 0.90276614, 0.90297569, 0.90255658,\n",
       "        0.90283599, 0.90409332, 0.90304554]),\n",
       " 'mean_train_score': array([0.99647245, 0.99654226, 0.99713608, 0.9972409 , 0.99790444,\n",
       "        0.99793938, 1.        , 1.        , 1.        , 1.        ,\n",
       "        1.        , 1.        , 1.        , 1.        , 1.        ,\n",
       "        1.        , 1.        , 1.        ]),\n",
       " 'param_max_depth': masked_array(data=[20, 20, 20, 20, 20, 20, 30, 30, 30, 30, 30, 30, 40, 40,\n",
       "                    40, 40, 40, 40],\n",
       "              mask=[False, False, False, False, False, False, False, False,\n",
       "                    False, False, False, False, False, False, False, False,\n",
       "                    False, False],\n",
       "        fill_value='?',\n",
       "             dtype=object),\n",
       " 'param_max_features': masked_array(data=[7, 7, 10, 10, 12, 12, 7, 7, 10, 10, 12, 12, 7, 7, 10,\n",
       "                    10, 12, 12],\n",
       "              mask=[False, False, False, False, False, False, False, False,\n",
       "                    False, False, False, False, False, False, False, False,\n",
       "                    False, False],\n",
       "        fill_value='?',\n",
       "             dtype=object),\n",
       " 'param_n_estimators': masked_array(data=[250, 500, 250, 500, 250, 500, 250, 500, 250, 500, 250,\n",
       "                    500, 250, 500, 250, 500, 250, 500],\n",
       "              mask=[False, False, False, False, False, False, False, False,\n",
       "                    False, False, False, False, False, False, False, False,\n",
       "                    False, False],\n",
       "        fill_value='?',\n",
       "             dtype=object),\n",
       " 'params': [{'max_depth': 20, 'max_features': 7, 'n_estimators': 250},\n",
       "  {'max_depth': 20, 'max_features': 7, 'n_estimators': 500},\n",
       "  {'max_depth': 20, 'max_features': 10, 'n_estimators': 250},\n",
       "  {'max_depth': 20, 'max_features': 10, 'n_estimators': 500},\n",
       "  {'max_depth': 20, 'max_features': 12, 'n_estimators': 250},\n",
       "  {'max_depth': 20, 'max_features': 12, 'n_estimators': 500},\n",
       "  {'max_depth': 30, 'max_features': 7, 'n_estimators': 250},\n",
       "  {'max_depth': 30, 'max_features': 7, 'n_estimators': 500},\n",
       "  {'max_depth': 30, 'max_features': 10, 'n_estimators': 250},\n",
       "  {'max_depth': 30, 'max_features': 10, 'n_estimators': 500},\n",
       "  {'max_depth': 30, 'max_features': 12, 'n_estimators': 250},\n",
       "  {'max_depth': 30, 'max_features': 12, 'n_estimators': 500},\n",
       "  {'max_depth': 40, 'max_features': 7, 'n_estimators': 250},\n",
       "  {'max_depth': 40, 'max_features': 7, 'n_estimators': 500},\n",
       "  {'max_depth': 40, 'max_features': 10, 'n_estimators': 250},\n",
       "  {'max_depth': 40, 'max_features': 10, 'n_estimators': 500},\n",
       "  {'max_depth': 40, 'max_features': 12, 'n_estimators': 250},\n",
       "  {'max_depth': 40, 'max_features': 12, 'n_estimators': 500}],\n",
       " 'rank_test_score': array([18, 17, 14, 13, 15, 16,  5, 10, 10,  3,  4,  2,  9,  7, 12,  8,  1,\n",
       "         6], dtype=int32),\n",
       " 'split0_test_score': array([0.93027638, 0.93299832, 0.93488275, 0.93530151, 0.93467337,\n",
       "        0.93404523, 0.94053601, 0.93907035, 0.93907035, 0.94011725,\n",
       "        0.93760469, 0.93865159, 0.93781407, 0.93844221, 0.93948911,\n",
       "        0.93907035, 0.94011725, 0.93844221]),\n",
       " 'split0_train_score': array([0.99633124, 0.99622642, 0.99716981, 0.99748428, 0.99790356,\n",
       "        0.99800839, 1.        , 1.        , 1.        , 1.        ,\n",
       "        1.        , 1.        , 1.        , 1.        , 1.        ,\n",
       "        1.        , 1.        , 1.        ]),\n",
       " 'split1_test_score': array([0.91404612, 0.91425577, 0.91530398, 0.9148847 , 0.91572327,\n",
       "        0.91551363, 0.91802935, 0.91802935, 0.91802935, 0.9197065 ,\n",
       "        0.92033543, 0.921174  , 0.91928721, 0.91886792, 0.91761006,\n",
       "        0.91865828, 0.92033543, 0.91949686]),\n",
       " 'split1_train_score': array([0.99664781, 0.99696208, 0.9973811 , 0.99727635, 0.99748586,\n",
       "        0.99759061, 1.        , 1.        , 1.        , 1.        ,\n",
       "        1.        , 1.        , 1.        , 1.        , 1.        ,\n",
       "        1.        , 1.        , 1.        ]),\n",
       " 'split2_test_score': array([0.8509434 , 0.84947589, 0.8490566 , 0.84968553, 0.84863732,\n",
       "        0.84884696, 0.85073375, 0.85073375, 0.85073375, 0.85073375,\n",
       "        0.85157233, 0.85115304, 0.85115304, 0.85157233, 0.85052411,\n",
       "        0.85073375, 0.85178197, 0.85115304]),\n",
       " 'split2_train_score': array([0.9964383 , 0.9964383 , 0.99685732, 0.99696208, 0.99832391,\n",
       "        0.99821915, 1.        , 1.        , 1.        , 1.        ,\n",
       "        1.        , 1.        , 1.        , 1.        , 1.        ,\n",
       "        1.        , 1.        , 1.        ]),\n",
       " 'std_fit_time': array([0.24990411, 0.24839638, 0.02655481, 0.23506951, 0.02229803,\n",
       "        0.15268066, 0.07125943, 0.10448104, 0.03538835, 0.16884914,\n",
       "        0.05652233, 0.12310262, 0.05824618, 0.1176768 , 0.0359764 ,\n",
       "        0.02960423, 0.04501922, 0.41345247]),\n",
       " 'std_score_time': array([0.01684933, 0.02155943, 0.00447243, 0.03548389, 0.02051729,\n",
       "        0.01258883, 0.00847986, 0.00988408, 0.00314316, 0.01247508,\n",
       "        0.01030506, 0.00928957, 0.00817173, 0.09369359, 0.00583029,\n",
       "        0.0091981 , 0.00255543, 0.02024572]),\n",
       " 'std_test_score': array([0.03421908, 0.03578216, 0.0367238 , 0.03651111, 0.03691027,\n",
       "        0.03658486, 0.038151  , 0.03767468, 0.03767468, 0.03824306,\n",
       "        0.03715945, 0.03780597, 0.03726041, 0.03720477, 0.03785019,\n",
       "        0.03776142, 0.03784987, 0.03748871]),\n",
       " 'std_train_score': array([0.00013148, 0.0003092 , 0.00021516, 0.00021465, 0.00034213,\n",
       "        0.0002612 , 0.        , 0.        , 0.        , 0.        ,\n",
       "        0.        , 0.        , 0.        , 0.        , 0.        ,\n",
       "        0.        , 0.        , 0.        ])}"
      ]
     },
     "execution_count": 42,
     "metadata": {},
     "output_type": "execute_result"
    }
   ],
   "source": [
    "grid_search2_up.cv_results_"
   ]
  },
  {
   "cell_type": "code",
   "execution_count": 43,
   "metadata": {},
   "outputs": [
    {
     "name": "stdout",
     "output_type": "stream",
     "text": [
      "Best estimator:\n",
      "RandomForestClassifier(bootstrap=True, class_weight=None, criterion='gini',\n",
      "            max_depth=30, max_features=10, max_leaf_nodes=None,\n",
      "            min_impurity_decrease=0.0, min_impurity_split=None,\n",
      "            min_samples_leaf=1, min_samples_split=2,\n",
      "            min_weight_fraction_leaf=0.0, n_estimators=500, n_jobs=1,\n",
      "            oob_score=False, random_state=0, verbose=0, warm_start=False)\n",
      "Best parameters: {'max_features': 10, 'n_estimators': 500, 'max_depth': 30}\n",
      "Best cross-validation score: 0.90\n"
     ]
    }
   ],
   "source": [
    "param_grid_rfc2={'n_estimators':[500],\n",
    "               'max_features':[5,10,15],\n",
    "               'max_depth':[10,20,30]}\n",
    "grid_search3_up=grid_search(param_grid_rfc2, estimator=RandomForestClassifier(random_state=0), \n",
    "                        data=data_up, \n",
    "                         target=target_up)"
   ]
  },
  {
   "cell_type": "code",
   "execution_count": 44,
   "metadata": {},
   "outputs": [
    {
     "data": {
      "text/plain": [
       "{'mean_fit_time': array([3.05891601, 4.10385291, 5.24767256, 4.02202797, 5.41419172,\n",
       "        6.847814  , 4.55425906, 5.84806434, 7.0884889 ]),\n",
       " 'mean_score_time': array([0.38116399, 0.3411657 , 0.32909719, 0.50070707, 0.45651031,\n",
       "        0.43583139, 0.53690672, 0.47267429, 0.44018245]),\n",
       " 'mean_test_score': array([0.8357083 , 0.83619726, 0.837734  , 0.89794635, 0.89997206,\n",
       "        0.89983236, 0.90332495, 0.90353451, 0.90199776]),\n",
       " 'mean_train_score': array([0.91052057, 0.91680742, 0.92037011, 0.9942722 , 0.9972409 ,\n",
       "        0.99839337, 1.        , 1.        , 1.        ]),\n",
       " 'param_max_depth': masked_array(data=[10, 10, 10, 20, 20, 20, 30, 30, 30],\n",
       "              mask=[False, False, False, False, False, False, False, False,\n",
       "                    False],\n",
       "        fill_value='?',\n",
       "             dtype=object),\n",
       " 'param_max_features': masked_array(data=[5, 10, 15, 5, 10, 15, 5, 10, 15],\n",
       "              mask=[False, False, False, False, False, False, False, False,\n",
       "                    False],\n",
       "        fill_value='?',\n",
       "             dtype=object),\n",
       " 'param_n_estimators': masked_array(data=[500, 500, 500, 500, 500, 500, 500, 500, 500],\n",
       "              mask=[False, False, False, False, False, False, False, False,\n",
       "                    False],\n",
       "        fill_value='?',\n",
       "             dtype=object),\n",
       " 'params': [{'max_depth': 10, 'max_features': 5, 'n_estimators': 500},\n",
       "  {'max_depth': 10, 'max_features': 10, 'n_estimators': 500},\n",
       "  {'max_depth': 10, 'max_features': 15, 'n_estimators': 500},\n",
       "  {'max_depth': 20, 'max_features': 5, 'n_estimators': 500},\n",
       "  {'max_depth': 20, 'max_features': 10, 'n_estimators': 500},\n",
       "  {'max_depth': 20, 'max_features': 15, 'n_estimators': 500},\n",
       "  {'max_depth': 30, 'max_features': 5, 'n_estimators': 500},\n",
       "  {'max_depth': 30, 'max_features': 10, 'n_estimators': 500},\n",
       "  {'max_depth': 30, 'max_features': 15, 'n_estimators': 500}],\n",
       " 'rank_test_score': array([9, 8, 7, 6, 4, 5, 2, 1, 3], dtype=int32),\n",
       " 'split0_test_score': array([0.87206868, 0.87479062, 0.87667504, 0.93048576, 0.93530151,\n",
       "        0.93362647, 0.93907035, 0.94011725, 0.93676717]),\n",
       " 'split0_train_score': array([0.91467505, 0.92180294, 0.92651992, 0.99454927, 0.99748428,\n",
       "        0.99821803, 1.        , 1.        , 1.        ]),\n",
       " 'split1_test_score': array([0.8572327 , 0.85932914, 0.860587  , 0.91467505, 0.9148847 ,\n",
       "        0.91509434, 0.92096436, 0.9197065 , 0.91802935]),\n",
       " 'split1_train_score': array([0.91745234, 0.92447098, 0.92604232, 0.99444794, 0.99727635,\n",
       "        0.99800964, 1.        , 1.        , 1.        ]),\n",
       " 'split2_test_score': array([0.77777778, 0.77442348, 0.77589099, 0.84863732, 0.84968553,\n",
       "        0.85073375, 0.84989518, 0.85073375, 0.85115304]),\n",
       " 'split2_train_score': array([0.89943432, 0.90414833, 0.90854808, 0.9938194 , 0.99696208,\n",
       "        0.99895244, 1.        , 1.        , 1.        ]),\n",
       " 'std_fit_time': array([0.08137359, 0.02410484, 0.01589963, 0.13170131, 0.12335289,\n",
       "        0.16029233, 0.07355541, 0.24020704, 0.2352853 ]),\n",
       " 'std_score_time': array([0.02494286, 0.00876259, 0.00168776, 0.0165341 , 0.0211217 ,\n",
       "        0.00759379, 0.016823  , 0.01638193, 0.00917416]),\n",
       " 'std_test_score': array([0.04139577, 0.04412088, 0.04420661, 0.03544853, 0.03651111,\n",
       "        0.03552226, 0.03848535, 0.03824306, 0.03674657]),\n",
       " 'std_train_score': array([0.00792073, 0.00901735, 0.00836171, 0.00032284, 0.00021465,\n",
       "        0.00040437, 0.        , 0.        , 0.        ])}"
      ]
     },
     "execution_count": 44,
     "metadata": {},
     "output_type": "execute_result"
    }
   ],
   "source": [
    "grid_search3_up.cv_results_"
   ]
  },
  {
   "cell_type": "code",
   "execution_count": 45,
   "metadata": {},
   "outputs": [
    {
     "name": "stdout",
     "output_type": "stream",
     "text": [
      "Best estimator:\n",
      "RandomForestClassifier(bootstrap=True, class_weight=None, criterion='gini',\n",
      "            max_depth=18, max_features=10, max_leaf_nodes=None,\n",
      "            min_impurity_decrease=0.0, min_impurity_split=None,\n",
      "            min_samples_leaf=1, min_samples_split=2,\n",
      "            min_weight_fraction_leaf=0.0, n_estimators=500, n_jobs=1,\n",
      "            oob_score=False, random_state=0, verbose=0, warm_start=False)\n",
      "Best parameters: {'max_features': 10, 'n_estimators': 500, 'max_depth': 18}\n",
      "Best cross-validation score: 0.90\n"
     ]
    }
   ],
   "source": [
    "param_grid_rfc3={'n_estimators':[500],\n",
    "               'max_features':[5,10,15],\n",
    "               'max_depth':[10,15,18]}\n",
    "grid_search4_up=grid_search(param_grid_rfc3, estimator=RandomForestClassifier(random_state=0), \n",
    "                        data=data_up, \n",
    "                         target=target_up)"
   ]
  },
  {
   "cell_type": "code",
   "execution_count": 46,
   "metadata": {},
   "outputs": [
    {
     "data": {
      "text/plain": [
       "{'mean_fit_time': array([2.98845363, 3.98993262, 5.08366474, 3.49005826, 4.91866835,\n",
       "        6.54688859, 3.9353617 , 5.55442166, 6.64459729]),\n",
       " 'mean_score_time': array([0.34641504, 0.32942128, 0.33834863, 0.43737308, 0.41767033,\n",
       "        0.40905269, 0.52869169, 0.4665091 , 0.42439095]),\n",
       " 'mean_test_score': array([0.8357083 , 0.83619726, 0.837734  , 0.88313775, 0.88572227,\n",
       "        0.88593182, 0.89571109, 0.89745739, 0.89745739]),\n",
       " 'mean_train_score': array([0.91052057, 0.91680742, 0.92037011, 0.97331652, 0.98033679,\n",
       "        0.98424814, 0.98948714, 0.99441188, 0.99601844]),\n",
       " 'param_max_depth': masked_array(data=[10, 10, 10, 15, 15, 15, 18, 18, 18],\n",
       "              mask=[False, False, False, False, False, False, False, False,\n",
       "                    False],\n",
       "        fill_value='?',\n",
       "             dtype=object),\n",
       " 'param_max_features': masked_array(data=[5, 10, 15, 5, 10, 15, 5, 10, 15],\n",
       "              mask=[False, False, False, False, False, False, False, False,\n",
       "                    False],\n",
       "        fill_value='?',\n",
       "             dtype=object),\n",
       " 'param_n_estimators': masked_array(data=[500, 500, 500, 500, 500, 500, 500, 500, 500],\n",
       "              mask=[False, False, False, False, False, False, False, False,\n",
       "                    False],\n",
       "        fill_value='?',\n",
       "             dtype=object),\n",
       " 'params': [{'max_depth': 10, 'max_features': 5, 'n_estimators': 500},\n",
       "  {'max_depth': 10, 'max_features': 10, 'n_estimators': 500},\n",
       "  {'max_depth': 10, 'max_features': 15, 'n_estimators': 500},\n",
       "  {'max_depth': 15, 'max_features': 5, 'n_estimators': 500},\n",
       "  {'max_depth': 15, 'max_features': 10, 'n_estimators': 500},\n",
       "  {'max_depth': 15, 'max_features': 15, 'n_estimators': 500},\n",
       "  {'max_depth': 18, 'max_features': 5, 'n_estimators': 500},\n",
       "  {'max_depth': 18, 'max_features': 10, 'n_estimators': 500},\n",
       "  {'max_depth': 18, 'max_features': 15, 'n_estimators': 500}],\n",
       " 'rank_test_score': array([9, 8, 7, 6, 5, 4, 3, 1, 1], dtype=int32),\n",
       " 'split0_test_score': array([0.87206868, 0.87479062, 0.87667504, 0.91834171, 0.91813233,\n",
       "        0.91876047, 0.92881072, 0.93069514, 0.92881072]),\n",
       " 'split0_train_score': array([0.91467505, 0.92180294, 0.92651992, 0.9730608 , 0.98081761,\n",
       "        0.98301887, 0.98878407, 0.99454927, 0.99601677]),\n",
       " 'split1_test_score': array([0.8572327 , 0.85932914, 0.860587  , 0.89769392, 0.90125786,\n",
       "        0.90209644, 0.91174004, 0.91404612, 0.91404612]),\n",
       " 'split1_train_score': array([0.91745234, 0.92447098, 0.92604232, 0.97747748, 0.98240101,\n",
       "        0.98816258, 0.99036246, 0.9947622 , 0.99622879]),\n",
       " 'split2_test_score': array([0.77777778, 0.77442348, 0.77589099, 0.83333333, 0.83773585,\n",
       "        0.83689727, 0.84654088, 0.8475891 , 0.84947589]),\n",
       " 'split2_train_score': array([0.89943432, 0.90414833, 0.90854808, 0.96941127, 0.97779175,\n",
       "        0.98156296, 0.9893149 , 0.99392416, 0.99580976]),\n",
       " 'std_fit_time': array([0.12609294, 0.05041953, 0.05559646, 0.04442795, 0.07212255,\n",
       "        0.34278028, 0.03390027, 0.16122812, 0.15932595]),\n",
       " 'std_score_time': array([0.00870238, 0.00242758, 0.00952529, 0.00165261, 0.01035017,\n",
       "        0.0107608 , 0.04689023, 0.02622188, 0.01040851]),\n",
       " 'std_test_score': array([0.04139577, 0.04412088, 0.04420661, 0.03620125, 0.03461347,\n",
       "        0.03532321, 0.03544959, 0.03590055, 0.03444893]),\n",
       " 'std_train_score': array([0.00792073, 0.00901735, 0.00836171, 0.00329798, 0.00191219,\n",
       "        0.00283103, 0.00065578, 0.00035566, 0.00017107])}"
      ]
     },
     "execution_count": 46,
     "metadata": {},
     "output_type": "execute_result"
    }
   ],
   "source": [
    "grid_search4_up.cv_results_"
   ]
  },
  {
   "cell_type": "markdown",
   "metadata": {},
   "source": [
    "### GridSearchCV on xgboost"
   ]
  },
  {
   "cell_type": "code",
   "execution_count": 50,
   "metadata": {},
   "outputs": [
    {
     "name": "stdout",
     "output_type": "stream",
     "text": [
      "Best estimator:\n",
      "XGBClassifier(base_score=0.5, booster='gbtree', colsample_bylevel=1,\n",
      "       colsample_bytree=1, gamma=0, learning_rate=0.005, max_delta_step=0,\n",
      "       max_depth=10, min_child_weight=1, missing=None, n_estimators=250,\n",
      "       n_jobs=1, njobs=-1, nthread=None, objective='multi:softprob',\n",
      "       random_state=0, reg_alpha=0, reg_lambda=1, scale_pos_weight=1,\n",
      "       seed=0, silent=True, subsample=1)\n",
      "Best parameters: {'learning_rate': 0.005, 'max_depth': 10, 'n_estimators': 250}\n",
      "Best cross-validation score: 0.85\n"
     ]
    }
   ],
   "source": [
    "param_grid_xgb1={'n_estimators':[100,250],\n",
    "               'learning_rate':[0.005],\n",
    "               'max_depth':[5,7,10]}\n",
    "grid_search_xgb1=grid_search(param_grid_xgb1, estimator=XGBClassifier(seed=0,njobs=-1), \n",
    "                        data=data_up, \n",
    "                         target=target_up)"
   ]
  },
  {
   "cell_type": "code",
   "execution_count": 51,
   "metadata": {},
   "outputs": [
    {
     "data": {
      "text/plain": [
       "{'mean_fit_time': array([ 43.48839569, 111.46507557,  60.09012826, 143.52294731,\n",
       "         80.93842705, 184.0702726 ]),\n",
       " 'mean_score_time': array([0.17739042, 0.51545008, 0.23133508, 0.68863535, 0.30539266,\n",
       "        1.15255372]),\n",
       " 'mean_test_score': array([0.73379436, 0.75677564, 0.79316848, 0.80776753, 0.84164571,\n",
       "        0.85128528]),\n",
       " 'mean_train_score': array([0.80329434, 0.83727894, 0.88250789, 0.90695601, 0.94991455,\n",
       "        0.96531718]),\n",
       " 'param_learning_rate': masked_array(data=[0.005, 0.005, 0.005, 0.005, 0.005, 0.005],\n",
       "              mask=[False, False, False, False, False, False],\n",
       "        fill_value='?',\n",
       "             dtype=object),\n",
       " 'param_max_depth': masked_array(data=[5, 5, 7, 7, 10, 10],\n",
       "              mask=[False, False, False, False, False, False],\n",
       "        fill_value='?',\n",
       "             dtype=object),\n",
       " 'param_n_estimators': masked_array(data=[100, 250, 100, 250, 100, 250],\n",
       "              mask=[False, False, False, False, False, False],\n",
       "        fill_value='?',\n",
       "             dtype=object),\n",
       " 'params': [{'learning_rate': 0.005, 'max_depth': 5, 'n_estimators': 100},\n",
       "  {'learning_rate': 0.005, 'max_depth': 5, 'n_estimators': 250},\n",
       "  {'learning_rate': 0.005, 'max_depth': 7, 'n_estimators': 100},\n",
       "  {'learning_rate': 0.005, 'max_depth': 7, 'n_estimators': 250},\n",
       "  {'learning_rate': 0.005, 'max_depth': 10, 'n_estimators': 100},\n",
       "  {'learning_rate': 0.005, 'max_depth': 10, 'n_estimators': 250}],\n",
       " 'rank_test_score': array([6, 5, 4, 3, 2, 1], dtype=int32),\n",
       " 'split0_test_score': array([0.74727806, 0.77198492, 0.81469849, 0.83123953, 0.86034338,\n",
       "        0.86976549]),\n",
       " 'split0_train_score': array([0.79056604, 0.83238994, 0.87683438, 0.90104822, 0.94213836,\n",
       "        0.95890985]),\n",
       " 'split1_test_score': array([0.75597484, 0.7672956 , 0.80230608, 0.80880503, 0.85534591,\n",
       "        0.86477987]),\n",
       " 'split1_train_score': array([0.80274461, 0.82537188, 0.88162581, 0.90383407, 0.95265032,\n",
       "        0.96689713]),\n",
       " 'split2_test_score': array([0.69811321, 0.73102725, 0.76247379, 0.78322851, 0.80922432,\n",
       "        0.81928721]),\n",
       " 'split2_train_score': array([0.81657239, 0.85407501, 0.88906348, 0.91598575, 0.95495495,\n",
       "        0.97014456]),\n",
       " 'std_fit_time': array([2.66929006, 2.32332564, 1.34538795, 5.88957607, 5.2750238 ,\n",
       "        2.00005366]),\n",
       " 'std_score_time': array([0.00532102, 0.07955257, 0.02153138, 0.02531468, 0.01580152,\n",
       "        0.17665597]),\n",
       " 'std_test_score': array([0.02547117, 0.01830156, 0.02227973, 0.01961618, 0.02300883,\n",
       "        0.02271035]),\n",
       " 'std_train_score': array([0.01062416, 0.01221731, 0.00503132, 0.00648549, 0.00557851,\n",
       "        0.00472065])}"
      ]
     },
     "execution_count": 51,
     "metadata": {},
     "output_type": "execute_result"
    }
   ],
   "source": [
    "grid_search_xgb1.cv_results_"
   ]
  },
  {
   "cell_type": "code",
   "execution_count": 52,
   "metadata": {},
   "outputs": [
    {
     "name": "stdout",
     "output_type": "stream",
     "text": [
      "Best estimator:\n",
      "XGBClassifier(base_score=0.5, booster='gbtree', colsample_bylevel=1,\n",
      "       colsample_bytree=1, gamma=0, learning_rate=0.005, max_delta_step=0,\n",
      "       max_depth=15, min_child_weight=1, missing=None, n_estimators=250,\n",
      "       n_jobs=1, njobs=-1, nthread=None, objective='multi:softprob',\n",
      "       random_state=0, reg_alpha=0, reg_lambda=1, scale_pos_weight=1,\n",
      "       seed=0, silent=True, subsample=1)\n",
      "Best parameters: {'learning_rate': 0.005, 'max_depth': 15, 'n_estimators': 250}\n",
      "Best cross-validation score: 0.87\n"
     ]
    }
   ],
   "source": [
    "param_grid_xgb2={'n_estimators':[250],\n",
    "               'learning_rate':[0.005],\n",
    "               'max_depth':[10,12,15]}\n",
    "grid_search_xgb2=grid_search(param_grid_xgb2, estimator=XGBClassifier(seed=0,njobs=-1), \n",
    "                        data=data_up, \n",
    "                         target=target_up)"
   ]
  },
  {
   "cell_type": "code",
   "execution_count": 53,
   "metadata": {},
   "outputs": [
    {
     "data": {
      "text/plain": [
       "{'mean_fit_time': array([258.14451869, 258.1622204 , 237.14172467]),\n",
       " 'mean_score_time': array([3.30912296, 1.519147  , 1.51991264]),\n",
       " 'mean_test_score': array([0.85128528, 0.86511595, 0.87272981]),\n",
       " 'mean_train_score': array([0.96531718, 0.98306024, 0.99238578]),\n",
       " 'param_learning_rate': masked_array(data=[0.005, 0.005, 0.005],\n",
       "              mask=[False, False, False],\n",
       "        fill_value='?',\n",
       "             dtype=object),\n",
       " 'param_max_depth': masked_array(data=[10, 12, 15],\n",
       "              mask=[False, False, False],\n",
       "        fill_value='?',\n",
       "             dtype=object),\n",
       " 'param_n_estimators': masked_array(data=[250, 250, 250],\n",
       "              mask=[False, False, False],\n",
       "        fill_value='?',\n",
       "             dtype=object),\n",
       " 'params': [{'learning_rate': 0.005, 'max_depth': 10, 'n_estimators': 250},\n",
       "  {'learning_rate': 0.005, 'max_depth': 12, 'n_estimators': 250},\n",
       "  {'learning_rate': 0.005, 'max_depth': 15, 'n_estimators': 250}],\n",
       " 'rank_test_score': array([3, 2, 1], dtype=int32),\n",
       " 'split0_test_score': array([0.86976549, 0.88588777, 0.89468174]),\n",
       " 'split0_train_score': array([0.95890985, 0.97987421, 0.99067086]),\n",
       " 'split1_test_score': array([0.86477987, 0.87631027, 0.8836478 ]),\n",
       " 'split1_train_score': array([0.96689713, 0.98428661, 0.9938194 ]),\n",
       " 'split2_test_score': array([0.81928721, 0.83312369, 0.83983229]),\n",
       " 'split2_train_score': array([0.97014456, 0.9850199 , 0.99266709]),\n",
       " 'std_fit_time': array([24.11320715, 40.11332784, 13.64326338]),\n",
       " 'std_score_time': array([2.91832279, 0.32960562, 0.14931018]),\n",
       " 'std_test_score': array([0.02271035, 0.02295043, 0.02368711]),\n",
       " 'std_train_score': array([0.00472065, 0.00227267, 0.00130069])}"
      ]
     },
     "execution_count": 53,
     "metadata": {},
     "output_type": "execute_result"
    }
   ],
   "source": [
    "grid_search_xgb2.cv_results_"
   ]
  },
  {
   "cell_type": "code",
   "execution_count": 54,
   "metadata": {},
   "outputs": [
    {
     "name": "stdout",
     "output_type": "stream",
     "text": [
      "Best estimator:\n",
      "XGBClassifier(base_score=0.5, booster='gbtree', colsample_bylevel=1,\n",
      "       colsample_bytree=1, gamma=0, learning_rate=0.005, max_delta_step=0,\n",
      "       max_depth=15, min_child_weight=1, missing=None, n_estimators=100,\n",
      "       n_jobs=1, njobs=-1, nthread=None, objective='multi:softprob',\n",
      "       random_state=0, reg_alpha=0, reg_lambda=1, scale_pos_weight=1,\n",
      "       seed=0, silent=True, subsample=1)\n",
      "Best parameters: {'learning_rate': 0.005, 'max_depth': 15, 'n_estimators': 100}\n",
      "Best cross-validation score: 0.86\n"
     ]
    }
   ],
   "source": [
    "param_grid_xgb3={'n_estimators':[100],\n",
    "               'learning_rate':[0.005],\n",
    "               'max_depth':[10,12,15]}\n",
    "grid_search_xgb3=grid_search(param_grid_xgb3, estimator=XGBClassifier(seed=0,njobs=-1), \n",
    "                        data=data_up, \n",
    "                         target=target_up)"
   ]
  },
  {
   "cell_type": "code",
   "execution_count": 55,
   "metadata": {},
   "outputs": [
    {
     "data": {
      "text/plain": [
       "{'mean_fit_time': array([72.82414699, 79.65618896, 90.97650798]),\n",
       " 'mean_score_time': array([0.27262036, 0.28293467, 0.33811474]),\n",
       " 'mean_test_score': array([0.84164571, 0.85554624, 0.8632998 ]),\n",
       " 'mean_train_score': array([0.94991455, 0.9699627 , 0.98295551]),\n",
       " 'param_learning_rate': masked_array(data=[0.005, 0.005, 0.005],\n",
       "              mask=[False, False, False],\n",
       "        fill_value='?',\n",
       "             dtype=object),\n",
       " 'param_max_depth': masked_array(data=[10, 12, 15],\n",
       "              mask=[False, False, False],\n",
       "        fill_value='?',\n",
       "             dtype=object),\n",
       " 'param_n_estimators': masked_array(data=[100, 100, 100],\n",
       "              mask=[False, False, False],\n",
       "        fill_value='?',\n",
       "             dtype=object),\n",
       " 'params': [{'learning_rate': 0.005, 'max_depth': 10, 'n_estimators': 100},\n",
       "  {'learning_rate': 0.005, 'max_depth': 12, 'n_estimators': 100},\n",
       "  {'learning_rate': 0.005, 'max_depth': 15, 'n_estimators': 100}],\n",
       " 'rank_test_score': array([3, 2, 1], dtype=int32),\n",
       " 'split0_test_score': array([0.86034338, 0.8739531 , 0.88316583]),\n",
       " 'split0_train_score': array([0.94213836, 0.96530398, 0.97997904]),\n",
       " 'split1_test_score': array([0.85534591, 0.87127883, 0.87651992]),\n",
       " 'split1_train_score': array([0.95265032, 0.97150639, 0.98418186]),\n",
       " 'split2_test_score': array([0.80922432, 0.82138365, 0.83018868]),\n",
       " 'split2_train_score': array([0.95495495, 0.97307773, 0.98470564]),\n",
       " 'std_fit_time': array([2.16847915, 1.1059112 , 1.11477894]),\n",
       " 'std_score_time': array([0.03959265, 0.01161233, 0.02553952]),\n",
       " 'std_test_score': array([0.02300883, 0.02417368, 0.02356251]),\n",
       " 'std_train_score': array([0.00557851, 0.00335609, 0.00211552])}"
      ]
     },
     "execution_count": 55,
     "metadata": {},
     "output_type": "execute_result"
    }
   ],
   "source": [
    "grid_search_xgb3.cv_results_"
   ]
  },
  {
   "cell_type": "code",
   "execution_count": 59,
   "metadata": {},
   "outputs": [
    {
     "name": "stdout",
     "output_type": "stream",
     "text": [
      "Best estimator:\n",
      "XGBClassifier(base_score=0.5, booster='gbtree', colsample_bylevel=1,\n",
      "       colsample_bytree=1, gamma=0, learning_rate=0.005, max_delta_step=0,\n",
      "       max_depth=20, min_child_weight=1, missing=None, n_estimators=100,\n",
      "       n_jobs=1, njobs=-1, nthread=None, objective='multi:softprob',\n",
      "       random_state=0, reg_alpha=0, reg_lambda=1, scale_pos_weight=1,\n",
      "       seed=0, silent=True, subsample=1)\n",
      "Best parameters: {'learning_rate': 0.005, 'max_depth': 20, 'n_estimators': 100}\n",
      "Best cross-validation score: 0.87\n"
     ]
    }
   ],
   "source": [
    "param_grid_xgb4={'n_estimators':[50,100],\n",
    "               'learning_rate':[0.005],\n",
    "               'max_depth':[15,20]}\n",
    "grid_search_xgb4=grid_search(param_grid_xgb4, estimator=XGBClassifier(seed=0,njobs=-1), \n",
    "                        data=data_up, \n",
    "                         target=target_up)"
   ]
  },
  {
   "cell_type": "code",
   "execution_count": 60,
   "metadata": {},
   "outputs": [
    {
     "data": {
      "text/plain": [
       "{'mean_fit_time': array([ 45.66247765,  94.31431262,  61.57371394, 115.90997561]),\n",
       " 'mean_score_time': array([0.15694364, 0.33077065, 0.28004734, 0.63530501]),\n",
       " 'mean_test_score': array([0.85582565, 0.8632998 , 0.8614138 , 0.86735122]),\n",
       " 'mean_train_score': array([0.97565613, 0.98295551, 0.98285117, 0.98906805]),\n",
       " 'param_learning_rate': masked_array(data=[0.005, 0.005, 0.005, 0.005],\n",
       "              mask=[False, False, False, False],\n",
       "        fill_value='?',\n",
       "             dtype=object),\n",
       " 'param_max_depth': masked_array(data=[15, 15, 20, 20],\n",
       "              mask=[False, False, False, False],\n",
       "        fill_value='?',\n",
       "             dtype=object),\n",
       " 'param_n_estimators': masked_array(data=[50, 100, 50, 100],\n",
       "              mask=[False, False, False, False],\n",
       "        fill_value='?',\n",
       "             dtype=object),\n",
       " 'params': [{'learning_rate': 0.005, 'max_depth': 15, 'n_estimators': 50},\n",
       "  {'learning_rate': 0.005, 'max_depth': 15, 'n_estimators': 100},\n",
       "  {'learning_rate': 0.005, 'max_depth': 20, 'n_estimators': 50},\n",
       "  {'learning_rate': 0.005, 'max_depth': 20, 'n_estimators': 100}],\n",
       " 'rank_test_score': array([4, 2, 3, 1], dtype=int32),\n",
       " 'split0_test_score': array([0.87835008, 0.88316583, 0.88295645, 0.88860972]),\n",
       " 'split0_train_score': array([0.97337526, 0.97997904, 0.98197065, 0.9884696 ]),\n",
       " 'split1_test_score': array([0.86771488, 0.87651992, 0.87085954, 0.87945493]),\n",
       " 'split1_train_score': array([0.97852504, 0.98418186, 0.98449612, 0.9893149 ]),\n",
       " 'split2_test_score': array([0.82138365, 0.83018868, 0.83039832, 0.83396226]),\n",
       " 'split2_train_score': array([0.97506809, 0.98470564, 0.98208674, 0.98941965]),\n",
       " 'std_fit_time': array([1.10563222, 3.430081  , 3.01822699, 1.80787814]),\n",
       " 'std_score_time': array([0.01077643, 0.00513663, 0.11228583, 0.23077331]),\n",
       " 'std_test_score': array([0.02473071, 0.02356251, 0.02247381, 0.02389628]),\n",
       " 'std_train_score': array([0.00214311, 0.00211552, 0.00116412, 0.00042532])}"
      ]
     },
     "execution_count": 60,
     "metadata": {},
     "output_type": "execute_result"
    }
   ],
   "source": [
    "grid_search_xgb4.cv_results_"
   ]
  },
  {
   "cell_type": "code",
   "execution_count": 61,
   "metadata": {},
   "outputs": [
    {
     "name": "stdout",
     "output_type": "stream",
     "text": [
      "Best estimator:\n",
      "XGBClassifier(base_score=0.5, booster='gbtree', colsample_bylevel=1,\n",
      "       colsample_bytree=1, gamma=0, learning_rate=0.005, max_delta_step=0,\n",
      "       max_depth=25, min_child_weight=1, missing=None, n_estimators=50,\n",
      "       n_jobs=1, njobs=-1, nthread=None, objective='multi:softprob',\n",
      "       random_state=0, reg_alpha=0, reg_lambda=1, scale_pos_weight=1,\n",
      "       seed=0, silent=True, subsample=1)\n",
      "Best parameters: {'learning_rate': 0.005, 'max_depth': 25, 'n_estimators': 50}\n",
      "Best cross-validation score: 0.86\n"
     ]
    }
   ],
   "source": [
    "param_grid_xgb5={'n_estimators':[25,50],\n",
    "               'learning_rate':[0.005],\n",
    "               'max_depth':[20,25]}\n",
    "grid_search_xgb5=grid_search(param_grid_xgb5, estimator=XGBClassifier(seed=0,njobs=-1), \n",
    "                        data=data_up, \n",
    "                         target=target_up)"
   ]
  },
  {
   "cell_type": "code",
   "execution_count": 62,
   "metadata": {},
   "outputs": [
    {
     "data": {
      "text/plain": [
       "{'mean_fit_time': array([24.89038332, 50.14715338, 34.49055799, 60.62206968]),\n",
       " 'mean_score_time': array([0.09376605, 0.17527374, 0.12596273, 0.1679186 ]),\n",
       " 'mean_test_score': array([0.85491757, 0.8614138 , 0.85736239, 0.86281084]),\n",
       " 'mean_train_score': array([0.97635452, 0.98285117, 0.97792661, 0.98368931]),\n",
       " 'param_learning_rate': masked_array(data=[0.005, 0.005, 0.005, 0.005],\n",
       "              mask=[False, False, False, False],\n",
       "        fill_value='?',\n",
       "             dtype=object),\n",
       " 'param_max_depth': masked_array(data=[20, 20, 25, 25],\n",
       "              mask=[False, False, False, False],\n",
       "        fill_value='?',\n",
       "             dtype=object),\n",
       " 'param_n_estimators': masked_array(data=[25, 50, 25, 50],\n",
       "              mask=[False, False, False, False],\n",
       "        fill_value='?',\n",
       "             dtype=object),\n",
       " 'params': [{'learning_rate': 0.005, 'max_depth': 20, 'n_estimators': 25},\n",
       "  {'learning_rate': 0.005, 'max_depth': 20, 'n_estimators': 50},\n",
       "  {'learning_rate': 0.005, 'max_depth': 25, 'n_estimators': 25},\n",
       "  {'learning_rate': 0.005, 'max_depth': 25, 'n_estimators': 50}],\n",
       " 'rank_test_score': array([4, 2, 3, 1], dtype=int32),\n",
       " 'split0_test_score': array([0.87458124, 0.88295645, 0.88023451, 0.88505025]),\n",
       " 'split0_train_score': array([0.97348008, 0.98197065, 0.97704403, 0.98238994]),\n",
       " 'split1_test_score': array([0.86289308, 0.87085954, 0.86436059, 0.87274633]),\n",
       " 'split1_train_score': array([0.9769537 , 0.98449612, 0.9778965 , 0.98596271]),\n",
       " 'split2_test_score': array([0.82725367, 0.83039832, 0.82746331, 0.83060797]),\n",
       " 'split2_train_score': array([0.97862979, 0.98208674, 0.9788393 , 0.98271527]),\n",
       " 'std_fit_time': array([0.3447146 , 0.70313226, 8.50624239, 4.02120275]),\n",
       " 'std_score_time': array([0.01201347, 0.01853241, 0.03205222, 0.00315578]),\n",
       " 'std_test_score': array([0.02012906, 0.02247381, 0.02210661, 0.02331144]),\n",
       " 'std_train_score': array([0.00214463, 0.00116412, 0.00073323, 0.00161301])}"
      ]
     },
     "execution_count": 62,
     "metadata": {},
     "output_type": "execute_result"
    }
   ],
   "source": [
    "grid_search_xgb5.cv_results_"
   ]
  },
  {
   "cell_type": "markdown",
   "metadata": {},
   "source": [
    "## Final temptative to reduce overfitting: ensembling models"
   ]
  },
  {
   "cell_type": "code",
   "execution_count": 45,
   "metadata": {},
   "outputs": [
    {
     "data": {
      "text/plain": [
       "XGBClassifier(base_score=0.5, booster='gbtree', colsample_bylevel=1,\n",
       "       colsample_bytree=1, gamma=0, learning_rate=0.005, max_delta_step=0,\n",
       "       max_depth=15, min_child_weight=1, missing=None, n_estimators=250,\n",
       "       n_jobs=1, nthread=None, objective='multi:softprob', random_state=0,\n",
       "       reg_alpha=0, reg_lambda=1, scale_pos_weight=1, seed=None,\n",
       "       silent=True, subsample=1)"
      ]
     },
     "execution_count": 45,
     "metadata": {},
     "output_type": "execute_result"
    }
   ],
   "source": [
    "best_rfc=RandomForestClassifier(max_depth=40, max_features=12, n_estimators=250)\n",
    "rfc_tradeOff=RandomForestClassifier(max_depth=15, max_features=5, n_estimators=500)\n",
    "xgb_tradeOff=XGBClassifier(learning_rate=0.005, max_depth=12, n_estimators=100)\n",
    "best_xgb=XGBClassifier(learning_rate=0.005, max_depth=15, n_estimators=250)\n",
    "\n",
    "best_rfc.fit(X_train_up,y_train_up)\n",
    "rfc_tradeOff.fit(X_train_up,y_train_up)\n",
    "xgb_tradeOff.fit(X_train_up, y_train_up)\n",
    "best_xgb.fit(X_train_up,y_train_up)"
   ]
  },
  {
   "cell_type": "code",
   "execution_count": 46,
   "metadata": {},
   "outputs": [
    {
     "name": "stdout",
     "output_type": "stream",
     "text": [
      "Train-Score-best_rfc: 1.0000, Test-Accuracy-best_rfc: 0.7674\n",
      "Train-Score-rfc-TradeOff: 0.9776, Test-Accuracy-rfc_TradeOff: 0.7549\n",
      "Train-Score-best_xgb: 0.9915, Test-Accuracy-best_xgb: 0.7263\n",
      "Train-Score-xgb_tradeOff: 0.9742, Test-Accuracy-xgb_tradeOff: 0.7110\n"
     ]
    }
   ],
   "source": [
    "print(\"Train-Score-best_rfc: %.4f, Test-Accuracy-best_rfc: %.4f\" % (best_rfc.score(X_train_up, y_train_up), \n",
    "                                                             best_rfc.score(X_test, y_test)))\n",
    "print(\"Train-Score-rfc-TradeOff: %.4f, Test-Accuracy-rfc_TradeOff: %.4f\" % (rfc_tradeOff.score(X_train_up, y_train_up), \n",
    "                                                             rfc_tradeOff.score(X_test, y_test)))\n",
    "\n",
    "print(\"Train-Score-best_xgb: %.4f, Test-Accuracy-best_xgb: %.4f\" % (best_xgb.score(X_train_up, y_train_up), \n",
    "                                                         best_xgb.score(X_test, y_test)))\n",
    "print(\"Train-Score-xgb_tradeOff: %.4f, Test-Accuracy-xgb_tradeOff: %.4f\" % (xgb_tradeOff.score(X_train_up, y_train_up), \n",
    "                                                         xgb_tradeOff.score(X_test, y_test)))"
   ]
  },
  {
   "cell_type": "code",
   "execution_count": 39,
   "metadata": {},
   "outputs": [],
   "source": [
    "from sklearn.ensemble import VotingClassifier\n",
    "\n",
    "eclf1=VotingClassifier([('LogisticRegression', logreg_up), ('best_rfc',best_rfc)],voting='hard')\n",
    "eclf2=VotingClassifier([('LogisticRegression', logreg_up), ('best_rfc',best_rfc)],voting='soft',weights=[1,2])\n",
    "\n",
    "eclf3=VotingClassifier([('LogisticRegression', logreg_up), \n",
    "                        ('best_rfc',best_rfc), ('best_xgb', best_xgb)],voting='hard')\n",
    "eclf4=VotingClassifier([('LogisticRegression', logreg_up), \n",
    "                        ('best_rfc',best_rfc), ('best_xgb', best_xgb)],voting='soft',weights=[1,2,2])\n",
    "\n",
    "eclf5=VotingClassifier([('LogisticRegression', logreg_up), \n",
    "                        ('rfc_tradeoff',rfc_tradeOff), ('xgb_tradeOff', xgb_tradeOff)],voting='hard')\n",
    "eclf6=VotingClassifier([('LogisticRegression', logreg_up), \n",
    "                        ('rfc_tradeoff',rfc_tradeOff), ('best_xgb', xgb_tradeOff)],voting='soft',weights=[1,2,2])"
   ]
  },
  {
   "cell_type": "code",
   "execution_count": 40,
   "metadata": {},
   "outputs": [
    {
     "name": "stderr",
     "output_type": "stream",
     "text": [
      "/Users/alicemartin/miniconda3/envs/project/lib/python3.5/site-packages/sklearn/utils/optimize.py:203: ConvergenceWarning: newton-cg failed to converge. Increase the number of iterations.\n",
      "  \"number of iterations.\", ConvergenceWarning)\n"
     ]
    },
    {
     "data": {
      "text/plain": [
       "VotingClassifier(estimators=[('LogisticRegression', LogisticRegression(C=1.0, class_weight=None, dual=False, fit_intercept=True,\n",
       "          intercept_scaling=1, max_iter=100, multi_class='multinomial',\n",
       "          n_jobs=1, penalty='l2', random_state=1, solver='newton-cg',\n",
       "          tol=0.0001, verbose=0, warm_start=Fa...n_jobs=1,\n",
       "            oob_score=False, random_state=None, verbose=0,\n",
       "            warm_start=False))],\n",
       "         flatten_transform=None, n_jobs=1, voting='hard', weights=None)"
      ]
     },
     "execution_count": 40,
     "metadata": {},
     "output_type": "execute_result"
    }
   ],
   "source": [
    "eclf1.fit(X_train_up, y_train_up)"
   ]
  },
  {
   "cell_type": "code",
   "execution_count": 41,
   "metadata": {},
   "outputs": [
    {
     "name": "stderr",
     "output_type": "stream",
     "text": [
      "/Users/alicemartin/miniconda3/envs/project/lib/python3.5/site-packages/sklearn/utils/optimize.py:203: ConvergenceWarning: newton-cg failed to converge. Increase the number of iterations.\n",
      "  \"number of iterations.\", ConvergenceWarning)\n"
     ]
    },
    {
     "data": {
      "text/plain": [
       "VotingClassifier(estimators=[('LogisticRegression', LogisticRegression(C=1.0, class_weight=None, dual=False, fit_intercept=True,\n",
       "          intercept_scaling=1, max_iter=100, multi_class='multinomial',\n",
       "          n_jobs=1, penalty='l2', random_state=1, solver='newton-cg',\n",
       "          tol=0.0001, verbose=0, warm_start=Fa...n_jobs=1,\n",
       "            oob_score=False, random_state=None, verbose=0,\n",
       "            warm_start=False))],\n",
       "         flatten_transform=None, n_jobs=1, voting='soft', weights=[1, 2])"
      ]
     },
     "execution_count": 41,
     "metadata": {},
     "output_type": "execute_result"
    }
   ],
   "source": [
    "eclf2.fit(X_train_up, y_train_up)"
   ]
  },
  {
   "cell_type": "code",
   "execution_count": 42,
   "metadata": {},
   "outputs": [
    {
     "name": "stderr",
     "output_type": "stream",
     "text": [
      "/Users/alicemartin/miniconda3/envs/project/lib/python3.5/site-packages/sklearn/utils/optimize.py:203: ConvergenceWarning: newton-cg failed to converge. Increase the number of iterations.\n",
      "  \"number of iterations.\", ConvergenceWarning)\n",
      "/Users/alicemartin/miniconda3/envs/project/lib/python3.5/site-packages/sklearn/utils/optimize.py:203: ConvergenceWarning: newton-cg failed to converge. Increase the number of iterations.\n",
      "  \"number of iterations.\", ConvergenceWarning)\n"
     ]
    },
    {
     "data": {
      "text/plain": [
       "VotingClassifier(estimators=[('LogisticRegression', LogisticRegression(C=1.0, class_weight=None, dual=False, fit_intercept=True,\n",
       "          intercept_scaling=1, max_iter=100, multi_class='multinomial',\n",
       "          n_jobs=1, penalty='l2', random_state=1, solver='newton-cg',\n",
       "          tol=0.0001, verbose=0, warm_start=Fa...\n",
       "       reg_alpha=0, reg_lambda=1, scale_pos_weight=1, seed=None,\n",
       "       silent=True, subsample=1))],\n",
       "         flatten_transform=None, n_jobs=1, voting='soft',\n",
       "         weights=[1, 2, 2])"
      ]
     },
     "execution_count": 42,
     "metadata": {},
     "output_type": "execute_result"
    }
   ],
   "source": [
    "eclf3.fit(X_train_up, y_train_up)\n",
    "eclf4.fit(X_train_up, y_train_up)"
   ]
  },
  {
   "cell_type": "code",
   "execution_count": 43,
   "metadata": {},
   "outputs": [
    {
     "name": "stderr",
     "output_type": "stream",
     "text": [
      "/Users/alicemartin/miniconda3/envs/project/lib/python3.5/site-packages/sklearn/utils/optimize.py:203: ConvergenceWarning: newton-cg failed to converge. Increase the number of iterations.\n",
      "  \"number of iterations.\", ConvergenceWarning)\n",
      "/Users/alicemartin/miniconda3/envs/project/lib/python3.5/site-packages/sklearn/utils/optimize.py:203: ConvergenceWarning: newton-cg failed to converge. Increase the number of iterations.\n",
      "  \"number of iterations.\", ConvergenceWarning)\n"
     ]
    },
    {
     "data": {
      "text/plain": [
       "VotingClassifier(estimators=[('LogisticRegression', LogisticRegression(C=1.0, class_weight=None, dual=False, fit_intercept=True,\n",
       "          intercept_scaling=1, max_iter=100, multi_class='multinomial',\n",
       "          n_jobs=1, penalty='l2', random_state=1, solver='newton-cg',\n",
       "          tol=0.0001, verbose=0, warm_start=Fa...\n",
       "       reg_alpha=0, reg_lambda=1, scale_pos_weight=1, seed=None,\n",
       "       silent=True, subsample=1))],\n",
       "         flatten_transform=None, n_jobs=1, voting='soft',\n",
       "         weights=[1, 2, 2])"
      ]
     },
     "execution_count": 43,
     "metadata": {},
     "output_type": "execute_result"
    }
   ],
   "source": [
    "eclf5.fit(X_train_up, y_train_up)\n",
    "eclf6.fit(X_train_up, y_train_up)"
   ]
  },
  {
   "cell_type": "code",
   "execution_count": 44,
   "metadata": {},
   "outputs": [
    {
     "name": "stdout",
     "output_type": "stream",
     "text": [
      "Logistic Regression(0.8230600438858967, 0.637883008356546)\n",
      "Random Forest(1.0, 0.7743732590529248)\n",
      "XGBoost(0.8863953720327149, 0.6657381615598886)\n",
      "Ensemble LogReg + RF - Hard Voting(0.9085378017155396, 0.7207520891364902)\n",
      "Ensemble LogReg + RF - Soft Voting(0.9994015559545183, 0.7569637883008357)\n",
      "Ensemble LogReg + best RF + best XGB - Hard Voting(0.993018152802713, 0.75)\n",
      "Ensemble LogReg+ Best RF+Best XGB - Soft Voting(0.9980051865150609, 0.7618384401114207)\n",
      "Ensemble LogReg+ TradeOff RF+TradeOff XGB - Hard VotingEnsemble LogReg+ TradeOff RF+TradeOff XGB - Soft Voting(0.9687811689607022, 0.7374651810584958)\n"
     ]
    }
   ],
   "source": [
    "for clf, label in zip([logreg_up, rfc_up, xgb_up, eclf1, eclf2, eclf3, eclf4, eclf5, eclf6], ['Logistic Regression', 'Random Forest', \n",
    "                                                                         'XGBoost', \n",
    "                                                                         'Ensemble LogReg + RF - Hard Voting',\n",
    "                                                                         'Ensemble LogReg + RF - Soft Voting',\n",
    "                                                                         'Ensemble LogReg + best RF + best XGB - Hard Voting',\n",
    "                                                                         'Ensemble LogReg+ Best RF+Best XGB - Soft Voting',\n",
    "                                                                         'Ensemble LogReg+ TradeOff RF+TradeOff XGB - Hard Voting'\n",
    "                                                                         'Ensemble LogReg+ TradeOff RF+TradeOff XGB - Soft Voting']):\n",
    "    score= (clf.score(X_train_up, y_train_up),clf.score(X_test, y_test))\n",
    "    print(label+'{}'.format(score))"
   ]
  },
  {
   "cell_type": "markdown",
   "metadata": {},
   "source": [
    "### cross_validation on ensemble models"
   ]
  },
  {
   "cell_type": "code",
   "execution_count": 48,
   "metadata": {},
   "outputs": [
    {
     "name": "stderr",
     "output_type": "stream",
     "text": [
      "/Users/alicemartin/miniconda3/envs/project/lib/python3.5/site-packages/sklearn/utils/optimize.py:203: ConvergenceWarning: newton-cg failed to converge. Increase the number of iterations.\n",
      "  \"number of iterations.\", ConvergenceWarning)\n",
      "/Users/alicemartin/miniconda3/envs/project/lib/python3.5/site-packages/sklearn/utils/optimize.py:203: ConvergenceWarning: newton-cg failed to converge. Increase the number of iterations.\n",
      "  \"number of iterations.\", ConvergenceWarning)\n",
      "/Users/alicemartin/miniconda3/envs/project/lib/python3.5/site-packages/sklearn/utils/optimize.py:203: ConvergenceWarning: newton-cg failed to converge. Increase the number of iterations.\n",
      "  \"number of iterations.\", ConvergenceWarning)\n",
      "/Users/alicemartin/miniconda3/envs/project/lib/python3.5/site-packages/sklearn/utils/optimize.py:203: ConvergenceWarning: newton-cg failed to converge. Increase the number of iterations.\n",
      "  \"number of iterations.\", ConvergenceWarning)\n",
      "/Users/alicemartin/miniconda3/envs/project/lib/python3.5/site-packages/sklearn/utils/optimize.py:203: ConvergenceWarning: newton-cg failed to converge. Increase the number of iterations.\n",
      "  \"number of iterations.\", ConvergenceWarning)\n",
      "/Users/alicemartin/miniconda3/envs/project/lib/python3.5/site-packages/sklearn/utils/optimize.py:203: ConvergenceWarning: newton-cg failed to converge. Increase the number of iterations.\n",
      "  \"number of iterations.\", ConvergenceWarning)\n"
     ]
    }
   ],
   "source": [
    "cross_validate_ecfl1=cross_validate(eclf1,data_up,target_up,cv=3,n_jobs=-1,return_train_score=True)\n",
    "cross_validate_ecfl2=cross_validate(eclf2,data_up,target_up,cv=3,n_jobs=-1,return_train_score=True)"
   ]
  },
  {
   "cell_type": "code",
   "execution_count": 49,
   "metadata": {},
   "outputs": [
    {
     "name": "stderr",
     "output_type": "stream",
     "text": [
      "/Users/alicemartin/miniconda3/envs/project/lib/python3.5/site-packages/sklearn/utils/optimize.py:203: ConvergenceWarning: newton-cg failed to converge. Increase the number of iterations.\n",
      "  \"number of iterations.\", ConvergenceWarning)\n",
      "/Users/alicemartin/miniconda3/envs/project/lib/python3.5/site-packages/sklearn/utils/optimize.py:203: ConvergenceWarning: newton-cg failed to converge. Increase the number of iterations.\n",
      "  \"number of iterations.\", ConvergenceWarning)\n",
      "/Users/alicemartin/miniconda3/envs/project/lib/python3.5/site-packages/sklearn/utils/optimize.py:203: ConvergenceWarning: newton-cg failed to converge. Increase the number of iterations.\n",
      "  \"number of iterations.\", ConvergenceWarning)\n",
      "/Users/alicemartin/miniconda3/envs/project/lib/python3.5/site-packages/sklearn/utils/optimize.py:203: ConvergenceWarning: newton-cg failed to converge. Increase the number of iterations.\n",
      "  \"number of iterations.\", ConvergenceWarning)\n",
      "/Users/alicemartin/miniconda3/envs/project/lib/python3.5/site-packages/sklearn/utils/optimize.py:203: ConvergenceWarning: newton-cg failed to converge. Increase the number of iterations.\n",
      "  \"number of iterations.\", ConvergenceWarning)\n",
      "/Users/alicemartin/miniconda3/envs/project/lib/python3.5/site-packages/sklearn/utils/optimize.py:203: ConvergenceWarning: newton-cg failed to converge. Increase the number of iterations.\n",
      "  \"number of iterations.\", ConvergenceWarning)\n"
     ]
    }
   ],
   "source": [
    "cross_validate_ecfl3=cross_validate(eclf3,data_up,target_up,cv=3,n_jobs=-1,return_train_score=True)\n",
    "cross_validate_ecfl4=cross_validate(eclf4,data_up,target_up,cv=3,n_jobs=-1,return_train_score=True)"
   ]
  },
  {
   "cell_type": "code",
   "execution_count": 50,
   "metadata": {},
   "outputs": [
    {
     "name": "stderr",
     "output_type": "stream",
     "text": [
      "/Users/alicemartin/miniconda3/envs/project/lib/python3.5/site-packages/sklearn/utils/optimize.py:203: ConvergenceWarning: newton-cg failed to converge. Increase the number of iterations.\n",
      "  \"number of iterations.\", ConvergenceWarning)\n",
      "/Users/alicemartin/miniconda3/envs/project/lib/python3.5/site-packages/sklearn/utils/optimize.py:203: ConvergenceWarning: newton-cg failed to converge. Increase the number of iterations.\n",
      "  \"number of iterations.\", ConvergenceWarning)\n",
      "/Users/alicemartin/miniconda3/envs/project/lib/python3.5/site-packages/sklearn/utils/optimize.py:203: ConvergenceWarning: newton-cg failed to converge. Increase the number of iterations.\n",
      "  \"number of iterations.\", ConvergenceWarning)\n",
      "/Users/alicemartin/miniconda3/envs/project/lib/python3.5/site-packages/sklearn/utils/optimize.py:203: ConvergenceWarning: newton-cg failed to converge. Increase the number of iterations.\n",
      "  \"number of iterations.\", ConvergenceWarning)\n",
      "/Users/alicemartin/miniconda3/envs/project/lib/python3.5/site-packages/sklearn/utils/optimize.py:203: ConvergenceWarning: newton-cg failed to converge. Increase the number of iterations.\n",
      "  \"number of iterations.\", ConvergenceWarning)\n",
      "/Users/alicemartin/miniconda3/envs/project/lib/python3.5/site-packages/sklearn/utils/optimize.py:203: ConvergenceWarning: newton-cg failed to converge. Increase the number of iterations.\n",
      "  \"number of iterations.\", ConvergenceWarning)\n"
     ]
    }
   ],
   "source": [
    "cross_validate_ecfl5=cross_validate(eclf5,data_up,target_up,cv=3,n_jobs=-1,return_train_score=True)\n",
    "cross_validate_ecfl6=cross_validate(eclf6,data_up,target_up,cv=3,n_jobs=-1,return_train_score=True)"
   ]
  },
  {
   "cell_type": "code",
   "execution_count": 53,
   "metadata": {},
   "outputs": [
    {
     "name": "stdout",
     "output_type": "stream",
     "text": [
      "Training Accuracy Ensemble LR+RF-Hard Voting: 0.90 (+/- 0.02)\n",
      "Training Accuracy Ensemble LR+RF-Soft Voting: 1.00 (+/- 0.00)\n",
      "Training Accuracy Ensemble LR+Rf+XGB (best)- Hard Voting: 0.99 (+/- 0.00)\n",
      "Training Accuracy Ensemble LR+Rf+XGB (best)- Soft Voting: 1.00 (+/- 0.00)\n",
      "Training Accuracy Ensemble LR+Rf+XGB (Trade-off)- Hard Voting: 0.97 (+/- 0.00)\n",
      "Training Accuracy Ensemble LR+Rf+XGB (Trade-off)- Soft Voting: 0.96 (+/- 0.01)\n",
      "Test Accuracy Ensemble LR+RF-Hard Voting: 0.82 (+/- 0.05)\n",
      "Test Accuracy Ensemble LR+RF-Soft Voting: 0.89 (+/- 0.06)\n",
      "Test Accuracy Ensemble LR+Rf+XGB (best)- Hard Voting: 0.88 (+/- 0.06)\n",
      "Test Accuracy Ensemble LR+Rf+XGB (best)- Soft Voting: 0.89 (+/- 0.06)\n",
      "Test Accuracy Ensemble LR+Rf+XGB (Trade-off)- Hard Voting: 0.87 (+/- 0.06)\n",
      "Test Accuracy Ensemble LR+Rf+XGB (Trade-off)- Soft Voting: 0.86 (+/- 0.06)\n"
     ]
    }
   ],
   "source": [
    "#print(cross_validate_lr)\n",
    "print(\"Training Accuracy Ensemble LR+RF-Hard Voting: %0.2f (+/- %0.2f)\" % (cross_validate_ecfl1['train_score'].mean(), cross_validate_ecfl1['train_score'].std() * 2))\n",
    "print(\"Training Accuracy Ensemble LR+RF-Soft Voting: %0.2f (+/- %0.2f)\" % (cross_validate_ecfl2['train_score'].mean(), cross_validate_ecfl2['train_score'].std() * 2))\n",
    "print(\"Training Accuracy Ensemble LR+Rf+XGB (best)- Hard Voting: %0.2f (+/- %0.2f)\" % (cross_validate_ecfl3['train_score'].mean(), cross_validate_ecfl3['train_score'].std() * 2))\n",
    "print(\"Training Accuracy Ensemble LR+Rf+XGB (best)- Soft Voting: %0.2f (+/- %0.2f)\" % (cross_validate_ecfl4['train_score'].mean(), cross_validate_ecfl4['train_score'].std() * 2))\n",
    "print(\"Training Accuracy Ensemble LR+Rf+XGB (Trade-off)- Hard Voting: %0.2f (+/- %0.2f)\" % (cross_validate_ecfl5['train_score'].mean(), cross_validate_ecfl5['train_score'].std() * 2))\n",
    "print(\"Training Accuracy Ensemble LR+Rf+XGB (Trade-off)- Soft Voting: %0.2f (+/- %0.2f)\" % (cross_validate_ecfl6['train_score'].mean(), cross_validate_ecfl6['train_score'].std() * 2))\n",
    "\n",
    "print(\"Test Accuracy Ensemble LR+RF-Hard Voting: %0.2f (+/- %0.2f)\" % (cross_validate_ecfl1['test_score'].mean(), cross_validate_ecfl1['test_score'].std() * 2))\n",
    "print(\"Test Accuracy Ensemble LR+RF-Soft Voting: %0.2f (+/- %0.2f)\" % (cross_validate_ecfl2['test_score'].mean(), cross_validate_ecfl2['test_score'].std() * 2))\n",
    "print(\"Test Accuracy Ensemble LR+Rf+XGB (best)- Hard Voting: %0.2f (+/- %0.2f)\" % (cross_validate_ecfl3['test_score'].mean(), cross_validate_ecfl3['test_score'].std() * 2))\n",
    "print(\"Test Accuracy Ensemble LR+Rf+XGB (best)- Soft Voting: %0.2f (+/- %0.2f)\" % (cross_validate_ecfl4['test_score'].mean(), cross_validate_ecfl4['test_score'].std() * 2))\n",
    "print(\"Test Accuracy Ensemble LR+Rf+XGB (Trade-off)- Hard Voting: %0.2f (+/- %0.2f)\" % (cross_validate_ecfl5['test_score'].mean(), cross_validate_ecfl5['test_score'].std() * 2))\n",
    "print(\"Test Accuracy Ensemble LR+Rf+XGB (Trade-off)- Soft Voting: %0.2f (+/- %0.2f)\" % (cross_validate_ecfl6['test_score'].mean(), cross_validate_ecfl6['test_score'].std() * 2))"
   ]
  },
  {
   "cell_type": "code",
   "execution_count": null,
   "metadata": {},
   "outputs": [],
   "source": []
  }
 ],
 "metadata": {
  "kernelspec": {
   "display_name": "Python [default]",
   "language": "python",
   "name": "python3"
  },
  "language_info": {
   "codemirror_mode": {
    "name": "ipython",
    "version": 3
   },
   "file_extension": ".py",
   "mimetype": "text/x-python",
   "name": "python",
   "nbconvert_exporter": "python",
   "pygments_lexer": "ipython3",
   "version": "3.5.6"
  }
 },
 "nbformat": 4,
 "nbformat_minor": 2
}

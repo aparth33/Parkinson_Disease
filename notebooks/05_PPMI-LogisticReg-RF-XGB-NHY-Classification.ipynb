{
 "cells": [
  {
   "cell_type": "markdown",
   "metadata": {},
   "source": [
    "## TO DO: \n",
    "#### Understand what is the source of the perfect training accuracy: \n",
    "* Logistic Regression: play on the C parameter\n",
    "* RF: play on the parameters that can reduce overfitting\n",
    "#### Features highly correlated with NHY feature:\n",
    "* NP3FACXP, NP3FTAPR, NP3HMOVR, NP3PRSPR, NP3TTAPR,NP3POSTR, NP3BRADY,NP2TMPR,NP3SPCH,MSEADLG"
   ]
  },
  {
   "cell_type": "markdown",
   "metadata": {},
   "source": [
    "## REFERENCES"
   ]
  },
  {
   "cell_type": "markdown",
   "metadata": {},
   "source": [
    "#### NOTEBOOKS - classic ML\n",
    "* [DSR- Gerrit- intro to ML] (http://localhost:8888/notebooks/00_TRAINING/02_DSR/05_ML_Geritt_Week2/Machine%20Learning%20-%20DSR%20Intro.ipynb)\n",
    "* [DSR-Gerrit- Boosting & XGBoost]\n",
    "http://localhost:8888/notebooks/00_TRAINING/02_DSR/05_ML_Geritt_Week2/Boosting%20and%20XGBoost.ipynb\n",
    "* [DSR-Gerrit- RF]\n",
    "(http://localhost:8888/notebooks/00_TRAINING/02_DSR/05_ML_Geritt_Week2/%20RF%20notebooks/DecisionTrees_Intro.ipynb)\n",
    "* [DSR-Gerrit-Evaluation models] (http://localhost:8888/notebooks/00_TRAINING/02_DSR/05_ML_Geritt_Week2/exercises/Evaluation%20Solutions.ipynb)\n",
    "* [DSR-Gerrit- Bayesian Learning]\n",
    "(http://localhost:8888/notebooks/00_TRAINING/02_DSR/05_ML_Geritt_Week2/exercises/Bayesian%20Learning%20Solutions.ipynb)\n",
    "* [DSR-Rachel-ML Pipelines]\n",
    "(http://localhost:8888/notebooks/00_TRAINING/02_DSR/10_DSR_Model_Pipelines_Rachel/1.3%20Pipelines%20.ipynb)\n",
    "#### GITHUB repos: \n",
    "* **Hands-On Machine Learning w/scikit-learn and TensorFlow book: https://github.com/AMDonati/handson-ml**\n",
    "* https://github.com/AMDonati/data-science-ipython-notebooks\n",
    "* Data Science w/ Python handbook: https://github.com/AMDonati/PythonDataScienceHandbook\n",
    "* https://github.com/AMDonati/machine-learning-cheat-sheet\n",
    "#### Specific to time-series: \n",
    "* https://github.com/ChadFulton/tsa-notebooks\n",
    "* https://github.com/maxim5/time-series-machine-learning"
   ]
  },
  {
   "cell_type": "markdown",
   "metadata": {},
   "source": [
    "## 0. Imports & functions"
   ]
  },
  {
   "cell_type": "code",
   "execution_count": 1,
   "metadata": {},
   "outputs": [
    {
     "name": "stderr",
     "output_type": "stream",
     "text": [
      "/Users/alicemartin/miniconda3/envs/project/lib/python3.5/site-packages/sklearn/ensemble/weight_boosting.py:29: DeprecationWarning: numpy.core.umath_tests is an internal NumPy module and should not be imported. It will be removed in a future NumPy release.\n",
      "  from numpy.core.umath_tests import inner1d\n",
      "/Users/alicemartin/miniconda3/envs/project/lib/python3.5/site-packages/sklearn/cross_validation.py:41: DeprecationWarning: This module was deprecated in version 0.18 in favor of the model_selection module into which all the refactored classes and functions are moved. Also note that the interface of the new CV iterators are different from that of this module. This module will be removed in 0.20.\n",
      "  \"This module will be removed in 0.20.\", DeprecationWarning)\n"
     ]
    }
   ],
   "source": [
    "#imports \n",
    "import numpy as np \n",
    "import pandas as pd \n",
    "import matplotlib.pyplot as plt\n",
    "import random\n",
    "% matplotlib inline\n",
    "\n",
    "import sklearn\n",
    "from sklearn.dummy import DummyRegressor\n",
    "from sklearn.linear_model import LogisticRegression\n",
    "from sklearn.model_selection import train_test_split\n",
    "from sklearn.ensemble import RandomForestClassifier\n",
    "from sklearn.metrics import classification_report\n",
    "from sklearn.metrics import roc_curve\n",
    "import sklearn.cross_validation as cv\n",
    "from sklearn.model_selection import ShuffleSplit\n",
    "from sklearn.model_selection import GridSearchCV\n",
    "from sklearn.model_selection import validation_curve\n",
    "from sklearn.metrics import confusion_matrix\n",
    "\n",
    "\n",
    "import warnings\n",
    "warnings.filterwarnings('ignore')"
   ]
  },
  {
   "cell_type": "code",
   "execution_count": 2,
   "metadata": {},
   "outputs": [
    {
     "name": "stdout",
     "output_type": "stream",
     "text": [
      "Requirement already up-to-date: imbalanced-learn in /Users/alicemartin/miniconda3/envs/project/lib/python3.5/site-packages (0.3.3)\n",
      "Requirement already satisfied, skipping upgrade: scikit-learn in /Users/alicemartin/miniconda3/envs/project/lib/python3.5/site-packages (from imbalanced-learn) (0.19.2)\n",
      "Requirement already satisfied, skipping upgrade: numpy in /Users/alicemartin/miniconda3/envs/project/lib/python3.5/site-packages (from imbalanced-learn) (1.15.1)\n",
      "Requirement already satisfied, skipping upgrade: scipy in /Users/alicemartin/miniconda3/envs/project/lib/python3.5/site-packages (from imbalanced-learn) (1.1.0)\n"
     ]
    }
   ],
   "source": [
    "!pip install -U imbalanced-learn"
   ]
  },
  {
   "cell_type": "markdown",
   "metadata": {},
   "source": [
    "# I. Features importance & Non TS classification of Disease Progression"
   ]
  },
  {
   "cell_type": "markdown",
   "metadata": {},
   "source": [
    "## 1. Data preparation"
   ]
  },
  {
   "cell_type": "code",
   "execution_count": 3,
   "metadata": {},
   "outputs": [
    {
     "data": {
      "text/html": [
       "<div>\n",
       "<style scoped>\n",
       "    .dataframe tbody tr th:only-of-type {\n",
       "        vertical-align: middle;\n",
       "    }\n",
       "\n",
       "    .dataframe tbody tr th {\n",
       "        vertical-align: top;\n",
       "    }\n",
       "\n",
       "    .dataframe thead th {\n",
       "        text-align: right;\n",
       "    }\n",
       "</style>\n",
       "<table border=\"1\" class=\"dataframe\">\n",
       "  <thead>\n",
       "    <tr style=\"text-align: right;\">\n",
       "      <th></th>\n",
       "      <th>PATNO</th>\n",
       "      <th>INFODT_date</th>\n",
       "      <th>NP1COG</th>\n",
       "      <th>NP1HALL</th>\n",
       "      <th>NP1DPRS</th>\n",
       "      <th>NP1ANXS</th>\n",
       "      <th>NP1APAT</th>\n",
       "      <th>NP1DDS</th>\n",
       "      <th>NP2SPCH</th>\n",
       "      <th>NP2SALV</th>\n",
       "      <th>...</th>\n",
       "      <th>DXPOSINS</th>\n",
       "      <th>DXOTHSX</th>\n",
       "      <th>DOMSIDE</th>\n",
       "      <th>num_visits</th>\n",
       "      <th>VISIT_ID</th>\n",
       "      <th>visitsdiff_days</th>\n",
       "      <th>lastDate_diff_days</th>\n",
       "      <th>PDDXDT_diff_days</th>\n",
       "      <th>PDMEDT_diff_days</th>\n",
       "      <th>PDSURGDT_diff_days</th>\n",
       "    </tr>\n",
       "  </thead>\n",
       "  <tbody>\n",
       "    <tr>\n",
       "      <th>0</th>\n",
       "      <td>3001</td>\n",
       "      <td>2011-02-01</td>\n",
       "      <td>0.0</td>\n",
       "      <td>0.0</td>\n",
       "      <td>0.0</td>\n",
       "      <td>1.0</td>\n",
       "      <td>0.0</td>\n",
       "      <td>0.0</td>\n",
       "      <td>0.0</td>\n",
       "      <td>0.0</td>\n",
       "      <td>...</td>\n",
       "      <td>0</td>\n",
       "      <td>0</td>\n",
       "      <td>2</td>\n",
       "      <td>7</td>\n",
       "      <td>1</td>\n",
       "      <td>0</td>\n",
       "      <td>2707</td>\n",
       "      <td>306</td>\n",
       "      <td>0</td>\n",
       "      <td>0</td>\n",
       "    </tr>\n",
       "    <tr>\n",
       "      <th>1</th>\n",
       "      <td>3001</td>\n",
       "      <td>2012-03-01</td>\n",
       "      <td>1.0</td>\n",
       "      <td>0.0</td>\n",
       "      <td>1.0</td>\n",
       "      <td>1.0</td>\n",
       "      <td>1.0</td>\n",
       "      <td>0.0</td>\n",
       "      <td>0.0</td>\n",
       "      <td>0.0</td>\n",
       "      <td>...</td>\n",
       "      <td>0</td>\n",
       "      <td>0</td>\n",
       "      <td>2</td>\n",
       "      <td>7</td>\n",
       "      <td>2</td>\n",
       "      <td>394</td>\n",
       "      <td>2313</td>\n",
       "      <td>700</td>\n",
       "      <td>0</td>\n",
       "      <td>0</td>\n",
       "    </tr>\n",
       "    <tr>\n",
       "      <th>2</th>\n",
       "      <td>3001</td>\n",
       "      <td>2013-05-01</td>\n",
       "      <td>0.0</td>\n",
       "      <td>0.0</td>\n",
       "      <td>0.0</td>\n",
       "      <td>0.0</td>\n",
       "      <td>0.0</td>\n",
       "      <td>0.0</td>\n",
       "      <td>0.0</td>\n",
       "      <td>0.0</td>\n",
       "      <td>...</td>\n",
       "      <td>0</td>\n",
       "      <td>0</td>\n",
       "      <td>2</td>\n",
       "      <td>7</td>\n",
       "      <td>3</td>\n",
       "      <td>426</td>\n",
       "      <td>1887</td>\n",
       "      <td>1126</td>\n",
       "      <td>0</td>\n",
       "      <td>0</td>\n",
       "    </tr>\n",
       "    <tr>\n",
       "      <th>3</th>\n",
       "      <td>3001</td>\n",
       "      <td>2014-04-01</td>\n",
       "      <td>0.0</td>\n",
       "      <td>0.0</td>\n",
       "      <td>0.0</td>\n",
       "      <td>1.0</td>\n",
       "      <td>0.0</td>\n",
       "      <td>0.0</td>\n",
       "      <td>0.0</td>\n",
       "      <td>0.0</td>\n",
       "      <td>...</td>\n",
       "      <td>0</td>\n",
       "      <td>0</td>\n",
       "      <td>2</td>\n",
       "      <td>7</td>\n",
       "      <td>4</td>\n",
       "      <td>335</td>\n",
       "      <td>1552</td>\n",
       "      <td>1461</td>\n",
       "      <td>0</td>\n",
       "      <td>0</td>\n",
       "    </tr>\n",
       "    <tr>\n",
       "      <th>4</th>\n",
       "      <td>3001</td>\n",
       "      <td>2015-04-01</td>\n",
       "      <td>0.0</td>\n",
       "      <td>0.0</td>\n",
       "      <td>0.0</td>\n",
       "      <td>1.0</td>\n",
       "      <td>0.0</td>\n",
       "      <td>0.0</td>\n",
       "      <td>0.0</td>\n",
       "      <td>0.0</td>\n",
       "      <td>...</td>\n",
       "      <td>0</td>\n",
       "      <td>0</td>\n",
       "      <td>2</td>\n",
       "      <td>7</td>\n",
       "      <td>5</td>\n",
       "      <td>365</td>\n",
       "      <td>1187</td>\n",
       "      <td>1826</td>\n",
       "      <td>0</td>\n",
       "      <td>0</td>\n",
       "    </tr>\n",
       "  </tbody>\n",
       "</table>\n",
       "<p>5 rows × 376 columns</p>\n",
       "</div>"
      ],
      "text/plain": [
       "   PATNO INFODT_date  NP1COG  NP1HALL  NP1DPRS  NP1ANXS  NP1APAT  NP1DDS  \\\n",
       "0   3001  2011-02-01     0.0      0.0      0.0      1.0      0.0     0.0   \n",
       "1   3001  2012-03-01     1.0      0.0      1.0      1.0      1.0     0.0   \n",
       "2   3001  2013-05-01     0.0      0.0      0.0      0.0      0.0     0.0   \n",
       "3   3001  2014-04-01     0.0      0.0      0.0      1.0      0.0     0.0   \n",
       "4   3001  2015-04-01     0.0      0.0      0.0      1.0      0.0     0.0   \n",
       "\n",
       "   NP2SPCH  NP2SALV         ...          DXPOSINS  DXOTHSX  DOMSIDE  \\\n",
       "0      0.0      0.0         ...                 0        0        2   \n",
       "1      0.0      0.0         ...                 0        0        2   \n",
       "2      0.0      0.0         ...                 0        0        2   \n",
       "3      0.0      0.0         ...                 0        0        2   \n",
       "4      0.0      0.0         ...                 0        0        2   \n",
       "\n",
       "   num_visits  VISIT_ID  visitsdiff_days  lastDate_diff_days  \\\n",
       "0           7         1                0                2707   \n",
       "1           7         2              394                2313   \n",
       "2           7         3              426                1887   \n",
       "3           7         4              335                1552   \n",
       "4           7         5              365                1187   \n",
       "\n",
       "   PDDXDT_diff_days  PDMEDT_diff_days  PDSURGDT_diff_days  \n",
       "0               306                 0                   0  \n",
       "1               700                 0                   0  \n",
       "2              1126                 0                   0  \n",
       "3              1461                 0                   0  \n",
       "4              1826                 0                   0  \n",
       "\n",
       "[5 rows x 376 columns]"
      ]
     },
     "execution_count": 3,
     "metadata": {},
     "output_type": "execute_result"
    }
   ],
   "source": [
    "file_path='/Users/alicemartin/02_DSR_Project/parkinson-disease-project/output/pre-processing/dfFinal.csv'\n",
    "df=pd.read_csv(file_path)\n",
    "df.drop(columns='Unnamed: 0',inplace=True)\n",
    "df.drop(columns=['EVENT_ID','INFODT'],inplace=True)\n",
    "#df.set_index(keys=['PATNO'],inplace=True)\n",
    "df.head()"
   ]
  },
  {
   "cell_type": "code",
   "execution_count": 4,
   "metadata": {},
   "outputs": [
    {
     "data": {
      "text/html": [
       "<div>\n",
       "<style scoped>\n",
       "    .dataframe tbody tr th:only-of-type {\n",
       "        vertical-align: middle;\n",
       "    }\n",
       "\n",
       "    .dataframe tbody tr th {\n",
       "        vertical-align: top;\n",
       "    }\n",
       "\n",
       "    .dataframe thead th {\n",
       "        text-align: right;\n",
       "    }\n",
       "</style>\n",
       "<table border=\"1\" class=\"dataframe\">\n",
       "  <thead>\n",
       "    <tr style=\"text-align: right;\">\n",
       "      <th></th>\n",
       "      <th>NP1COG</th>\n",
       "      <th>NP1HALL</th>\n",
       "      <th>NP1DPRS</th>\n",
       "      <th>NP1ANXS</th>\n",
       "      <th>NP1APAT</th>\n",
       "      <th>NP1DDS</th>\n",
       "      <th>NP2SPCH</th>\n",
       "      <th>NP2SALV</th>\n",
       "      <th>NP2SWAL</th>\n",
       "      <th>NP2EAT</th>\n",
       "      <th>...</th>\n",
       "      <th>DXRIGID</th>\n",
       "      <th>DXBRADY</th>\n",
       "      <th>DXPOSINS</th>\n",
       "      <th>DXOTHSX</th>\n",
       "      <th>DOMSIDE</th>\n",
       "      <th>num_visits</th>\n",
       "      <th>lastDate_diff_days</th>\n",
       "      <th>PDDXDT_diff_days</th>\n",
       "      <th>PDMEDT_diff_days</th>\n",
       "      <th>PDSURGDT_diff_days</th>\n",
       "    </tr>\n",
       "    <tr>\n",
       "      <th>PATNO</th>\n",
       "      <th></th>\n",
       "      <th></th>\n",
       "      <th></th>\n",
       "      <th></th>\n",
       "      <th></th>\n",
       "      <th></th>\n",
       "      <th></th>\n",
       "      <th></th>\n",
       "      <th></th>\n",
       "      <th></th>\n",
       "      <th></th>\n",
       "      <th></th>\n",
       "      <th></th>\n",
       "      <th></th>\n",
       "      <th></th>\n",
       "      <th></th>\n",
       "      <th></th>\n",
       "      <th></th>\n",
       "      <th></th>\n",
       "      <th></th>\n",
       "      <th></th>\n",
       "    </tr>\n",
       "  </thead>\n",
       "  <tbody>\n",
       "    <tr>\n",
       "      <th>3001</th>\n",
       "      <td>0.0</td>\n",
       "      <td>0.0</td>\n",
       "      <td>0.0</td>\n",
       "      <td>1.0</td>\n",
       "      <td>0.0</td>\n",
       "      <td>0.0</td>\n",
       "      <td>0.0</td>\n",
       "      <td>0.0</td>\n",
       "      <td>0.0</td>\n",
       "      <td>0.0</td>\n",
       "      <td>...</td>\n",
       "      <td>1.0</td>\n",
       "      <td>1.0</td>\n",
       "      <td>0.0</td>\n",
       "      <td>0.0</td>\n",
       "      <td>2.0</td>\n",
       "      <td>7.0</td>\n",
       "      <td>1552.0</td>\n",
       "      <td>1461.0</td>\n",
       "      <td>0.0</td>\n",
       "      <td>0.0</td>\n",
       "    </tr>\n",
       "    <tr>\n",
       "      <th>3002</th>\n",
       "      <td>1.0</td>\n",
       "      <td>0.0</td>\n",
       "      <td>1.0</td>\n",
       "      <td>1.0</td>\n",
       "      <td>0.0</td>\n",
       "      <td>0.0</td>\n",
       "      <td>1.5</td>\n",
       "      <td>2.5</td>\n",
       "      <td>1.0</td>\n",
       "      <td>1.0</td>\n",
       "      <td>...</td>\n",
       "      <td>0.0</td>\n",
       "      <td>1.0</td>\n",
       "      <td>0.0</td>\n",
       "      <td>1.0</td>\n",
       "      <td>1.0</td>\n",
       "      <td>6.0</td>\n",
       "      <td>1567.5</td>\n",
       "      <td>1504.5</td>\n",
       "      <td>0.0</td>\n",
       "      <td>0.0</td>\n",
       "    </tr>\n",
       "    <tr>\n",
       "      <th>3003</th>\n",
       "      <td>0.0</td>\n",
       "      <td>0.0</td>\n",
       "      <td>0.0</td>\n",
       "      <td>0.0</td>\n",
       "      <td>0.0</td>\n",
       "      <td>0.0</td>\n",
       "      <td>2.0</td>\n",
       "      <td>0.0</td>\n",
       "      <td>1.0</td>\n",
       "      <td>1.0</td>\n",
       "      <td>...</td>\n",
       "      <td>1.0</td>\n",
       "      <td>1.0</td>\n",
       "      <td>1.0</td>\n",
       "      <td>1.0</td>\n",
       "      <td>2.0</td>\n",
       "      <td>7.0</td>\n",
       "      <td>1552.0</td>\n",
       "      <td>1857.0</td>\n",
       "      <td>0.0</td>\n",
       "      <td>0.0</td>\n",
       "    </tr>\n",
       "    <tr>\n",
       "      <th>3006</th>\n",
       "      <td>0.0</td>\n",
       "      <td>0.0</td>\n",
       "      <td>0.5</td>\n",
       "      <td>1.0</td>\n",
       "      <td>0.0</td>\n",
       "      <td>0.0</td>\n",
       "      <td>2.5</td>\n",
       "      <td>0.0</td>\n",
       "      <td>1.0</td>\n",
       "      <td>1.0</td>\n",
       "      <td>...</td>\n",
       "      <td>1.0</td>\n",
       "      <td>1.0</td>\n",
       "      <td>0.0</td>\n",
       "      <td>0.0</td>\n",
       "      <td>2.0</td>\n",
       "      <td>2.0</td>\n",
       "      <td>2465.5</td>\n",
       "      <td>333.5</td>\n",
       "      <td>0.0</td>\n",
       "      <td>0.0</td>\n",
       "    </tr>\n",
       "    <tr>\n",
       "      <th>3007</th>\n",
       "      <td>1.0</td>\n",
       "      <td>0.0</td>\n",
       "      <td>0.0</td>\n",
       "      <td>0.0</td>\n",
       "      <td>0.0</td>\n",
       "      <td>0.0</td>\n",
       "      <td>0.0</td>\n",
       "      <td>3.0</td>\n",
       "      <td>0.0</td>\n",
       "      <td>1.0</td>\n",
       "      <td>...</td>\n",
       "      <td>1.0</td>\n",
       "      <td>1.0</td>\n",
       "      <td>0.0</td>\n",
       "      <td>1.0</td>\n",
       "      <td>2.0</td>\n",
       "      <td>1.0</td>\n",
       "      <td>2648.0</td>\n",
       "      <td>90.0</td>\n",
       "      <td>0.0</td>\n",
       "      <td>0.0</td>\n",
       "    </tr>\n",
       "  </tbody>\n",
       "</table>\n",
       "<p>5 rows × 371 columns</p>\n",
       "</div>"
      ],
      "text/plain": [
       "       NP1COG  NP1HALL  NP1DPRS  NP1ANXS  NP1APAT  NP1DDS  NP2SPCH  NP2SALV  \\\n",
       "PATNO                                                                         \n",
       "3001      0.0      0.0      0.0      1.0      0.0     0.0      0.0      0.0   \n",
       "3002      1.0      0.0      1.0      1.0      0.0     0.0      1.5      2.5   \n",
       "3003      0.0      0.0      0.0      0.0      0.0     0.0      2.0      0.0   \n",
       "3006      0.0      0.0      0.5      1.0      0.0     0.0      2.5      0.0   \n",
       "3007      1.0      0.0      0.0      0.0      0.0     0.0      0.0      3.0   \n",
       "\n",
       "       NP2SWAL  NP2EAT         ...          DXRIGID  DXBRADY  DXPOSINS  \\\n",
       "PATNO                          ...                                       \n",
       "3001       0.0     0.0         ...              1.0      1.0       0.0   \n",
       "3002       1.0     1.0         ...              0.0      1.0       0.0   \n",
       "3003       1.0     1.0         ...              1.0      1.0       1.0   \n",
       "3006       1.0     1.0         ...              1.0      1.0       0.0   \n",
       "3007       0.0     1.0         ...              1.0      1.0       0.0   \n",
       "\n",
       "       DXOTHSX  DOMSIDE  num_visits  lastDate_diff_days  PDDXDT_diff_days  \\\n",
       "PATNO                                                                       \n",
       "3001       0.0      2.0         7.0              1552.0            1461.0   \n",
       "3002       1.0      1.0         6.0              1567.5            1504.5   \n",
       "3003       1.0      2.0         7.0              1552.0            1857.0   \n",
       "3006       0.0      2.0         2.0              2465.5             333.5   \n",
       "3007       1.0      2.0         1.0              2648.0              90.0   \n",
       "\n",
       "       PDMEDT_diff_days  PDSURGDT_diff_days  \n",
       "PATNO                                        \n",
       "3001                0.0                 0.0  \n",
       "3002                0.0                 0.0  \n",
       "3003                0.0                 0.0  \n",
       "3006                0.0                 0.0  \n",
       "3007                0.0                 0.0  \n",
       "\n",
       "[5 rows x 371 columns]"
      ]
     },
     "execution_count": 4,
     "metadata": {},
     "output_type": "execute_result"
    }
   ],
   "source": [
    "dfAgg=df.groupby('PATNO').agg('median')\n",
    "dfAgg.drop(columns=['visitsdiff_days','VISIT_ID'],inplace=True)\n",
    "dfAgg.drop(columns='MSEADLG',inplace=True)\n",
    "dfAgg['NHY']=dfAgg['NHY'].apply(lambda x: round(x,0))\n",
    "dfAgg.head()"
   ]
  },
  {
   "cell_type": "code",
   "execution_count": 5,
   "metadata": {},
   "outputs": [
    {
     "data": {
      "text/plain": [
       "2.0    692\n",
       "0.0    683\n",
       "1.0    203\n",
       "3.0     69\n",
       "4.0     24\n",
       "5.0      3\n",
       "Name: NHY, dtype: int64"
      ]
     },
     "execution_count": 5,
     "metadata": {},
     "output_type": "execute_result"
    }
   ],
   "source": [
    "dfAgg['NHY'].value_counts()"
   ]
  },
  {
   "cell_type": "markdown",
   "metadata": {},
   "source": [
    "## 2. Split train, test"
   ]
  },
  {
   "cell_type": "code",
   "execution_count": 6,
   "metadata": {},
   "outputs": [
    {
     "name": "stdout",
     "output_type": "stream",
     "text": [
      "train counts: 0.0    478\n",
      "2.0    475\n",
      "1.0    147\n",
      "3.0     51\n",
      "4.0     18\n",
      "5.0      2\n",
      "Name: NHY, dtype: int64\n",
      "(1171, 370)\n",
      "test counts: 2.0    217\n",
      "0.0    205\n",
      "1.0     56\n",
      "3.0     18\n",
      "4.0      6\n",
      "5.0      1\n",
      "Name: NHY, dtype: int64\n"
     ]
    },
    {
     "data": {
      "text/html": [
       "<div>\n",
       "<style scoped>\n",
       "    .dataframe tbody tr th:only-of-type {\n",
       "        vertical-align: middle;\n",
       "    }\n",
       "\n",
       "    .dataframe tbody tr th {\n",
       "        vertical-align: top;\n",
       "    }\n",
       "\n",
       "    .dataframe thead th {\n",
       "        text-align: right;\n",
       "    }\n",
       "</style>\n",
       "<table border=\"1\" class=\"dataframe\">\n",
       "  <thead>\n",
       "    <tr style=\"text-align: right;\">\n",
       "      <th></th>\n",
       "      <th>NP1COG</th>\n",
       "      <th>NP1HALL</th>\n",
       "      <th>NP1DPRS</th>\n",
       "      <th>NP1ANXS</th>\n",
       "      <th>NP1APAT</th>\n",
       "      <th>NP1DDS</th>\n",
       "      <th>NP2SPCH</th>\n",
       "      <th>NP2SALV</th>\n",
       "      <th>NP2SWAL</th>\n",
       "      <th>NP2EAT</th>\n",
       "      <th>...</th>\n",
       "      <th>DXRIGID</th>\n",
       "      <th>DXBRADY</th>\n",
       "      <th>DXPOSINS</th>\n",
       "      <th>DXOTHSX</th>\n",
       "      <th>DOMSIDE</th>\n",
       "      <th>num_visits</th>\n",
       "      <th>lastDate_diff_days</th>\n",
       "      <th>PDDXDT_diff_days</th>\n",
       "      <th>PDMEDT_diff_days</th>\n",
       "      <th>PDSURGDT_diff_days</th>\n",
       "    </tr>\n",
       "    <tr>\n",
       "      <th>PATNO</th>\n",
       "      <th></th>\n",
       "      <th></th>\n",
       "      <th></th>\n",
       "      <th></th>\n",
       "      <th></th>\n",
       "      <th></th>\n",
       "      <th></th>\n",
       "      <th></th>\n",
       "      <th></th>\n",
       "      <th></th>\n",
       "      <th></th>\n",
       "      <th></th>\n",
       "      <th></th>\n",
       "      <th></th>\n",
       "      <th></th>\n",
       "      <th></th>\n",
       "      <th></th>\n",
       "      <th></th>\n",
       "      <th></th>\n",
       "      <th></th>\n",
       "      <th></th>\n",
       "    </tr>\n",
       "  </thead>\n",
       "  <tbody>\n",
       "    <tr>\n",
       "      <th>12898</th>\n",
       "      <td>0.0</td>\n",
       "      <td>0.0</td>\n",
       "      <td>0.0</td>\n",
       "      <td>0.0</td>\n",
       "      <td>0.0</td>\n",
       "      <td>0.0</td>\n",
       "      <td>0.0</td>\n",
       "      <td>0.0</td>\n",
       "      <td>0.0</td>\n",
       "      <td>0.0</td>\n",
       "      <td>...</td>\n",
       "      <td>0.0</td>\n",
       "      <td>0.0</td>\n",
       "      <td>0.0</td>\n",
       "      <td>0.0</td>\n",
       "      <td>0.0</td>\n",
       "      <td>1.0</td>\n",
       "      <td>1734.0</td>\n",
       "      <td>0.0</td>\n",
       "      <td>0.0</td>\n",
       "      <td>0.0</td>\n",
       "    </tr>\n",
       "    <tr>\n",
       "      <th>41544</th>\n",
       "      <td>0.0</td>\n",
       "      <td>0.0</td>\n",
       "      <td>0.0</td>\n",
       "      <td>0.0</td>\n",
       "      <td>0.0</td>\n",
       "      <td>0.0</td>\n",
       "      <td>0.0</td>\n",
       "      <td>0.0</td>\n",
       "      <td>0.0</td>\n",
       "      <td>0.0</td>\n",
       "      <td>...</td>\n",
       "      <td>0.0</td>\n",
       "      <td>0.0</td>\n",
       "      <td>0.0</td>\n",
       "      <td>0.0</td>\n",
       "      <td>0.0</td>\n",
       "      <td>2.0</td>\n",
       "      <td>745.5</td>\n",
       "      <td>0.0</td>\n",
       "      <td>0.0</td>\n",
       "      <td>0.0</td>\n",
       "    </tr>\n",
       "    <tr>\n",
       "      <th>41284</th>\n",
       "      <td>0.0</td>\n",
       "      <td>0.0</td>\n",
       "      <td>0.0</td>\n",
       "      <td>0.0</td>\n",
       "      <td>0.0</td>\n",
       "      <td>0.0</td>\n",
       "      <td>0.0</td>\n",
       "      <td>0.0</td>\n",
       "      <td>0.0</td>\n",
       "      <td>0.0</td>\n",
       "      <td>...</td>\n",
       "      <td>0.0</td>\n",
       "      <td>0.0</td>\n",
       "      <td>0.0</td>\n",
       "      <td>0.0</td>\n",
       "      <td>0.0</td>\n",
       "      <td>4.0</td>\n",
       "      <td>455.0</td>\n",
       "      <td>0.0</td>\n",
       "      <td>0.0</td>\n",
       "      <td>0.0</td>\n",
       "    </tr>\n",
       "    <tr>\n",
       "      <th>53015</th>\n",
       "      <td>0.0</td>\n",
       "      <td>0.0</td>\n",
       "      <td>0.0</td>\n",
       "      <td>0.0</td>\n",
       "      <td>0.0</td>\n",
       "      <td>0.0</td>\n",
       "      <td>0.0</td>\n",
       "      <td>0.0</td>\n",
       "      <td>0.0</td>\n",
       "      <td>0.0</td>\n",
       "      <td>...</td>\n",
       "      <td>0.0</td>\n",
       "      <td>0.0</td>\n",
       "      <td>0.0</td>\n",
       "      <td>0.0</td>\n",
       "      <td>0.0</td>\n",
       "      <td>1.0</td>\n",
       "      <td>791.0</td>\n",
       "      <td>0.0</td>\n",
       "      <td>0.0</td>\n",
       "      <td>0.0</td>\n",
       "    </tr>\n",
       "    <tr>\n",
       "      <th>4080</th>\n",
       "      <td>0.0</td>\n",
       "      <td>0.0</td>\n",
       "      <td>0.0</td>\n",
       "      <td>0.0</td>\n",
       "      <td>0.0</td>\n",
       "      <td>0.0</td>\n",
       "      <td>0.0</td>\n",
       "      <td>1.0</td>\n",
       "      <td>0.0</td>\n",
       "      <td>1.0</td>\n",
       "      <td>...</td>\n",
       "      <td>1.0</td>\n",
       "      <td>1.0</td>\n",
       "      <td>0.0</td>\n",
       "      <td>0.0</td>\n",
       "      <td>2.0</td>\n",
       "      <td>1.0</td>\n",
       "      <td>2099.0</td>\n",
       "      <td>30.0</td>\n",
       "      <td>0.0</td>\n",
       "      <td>0.0</td>\n",
       "    </tr>\n",
       "  </tbody>\n",
       "</table>\n",
       "<p>5 rows × 371 columns</p>\n",
       "</div>"
      ],
      "text/plain": [
       "       NP1COG  NP1HALL  NP1DPRS  NP1ANXS  NP1APAT  NP1DDS  NP2SPCH  NP2SALV  \\\n",
       "PATNO                                                                         \n",
       "12898     0.0      0.0      0.0      0.0      0.0     0.0      0.0      0.0   \n",
       "41544     0.0      0.0      0.0      0.0      0.0     0.0      0.0      0.0   \n",
       "41284     0.0      0.0      0.0      0.0      0.0     0.0      0.0      0.0   \n",
       "53015     0.0      0.0      0.0      0.0      0.0     0.0      0.0      0.0   \n",
       "4080      0.0      0.0      0.0      0.0      0.0     0.0      0.0      1.0   \n",
       "\n",
       "       NP2SWAL  NP2EAT         ...          DXRIGID  DXBRADY  DXPOSINS  \\\n",
       "PATNO                          ...                                       \n",
       "12898      0.0     0.0         ...              0.0      0.0       0.0   \n",
       "41544      0.0     0.0         ...              0.0      0.0       0.0   \n",
       "41284      0.0     0.0         ...              0.0      0.0       0.0   \n",
       "53015      0.0     0.0         ...              0.0      0.0       0.0   \n",
       "4080       0.0     1.0         ...              1.0      1.0       0.0   \n",
       "\n",
       "       DXOTHSX  DOMSIDE  num_visits  lastDate_diff_days  PDDXDT_diff_days  \\\n",
       "PATNO                                                                       \n",
       "12898      0.0      0.0         1.0              1734.0               0.0   \n",
       "41544      0.0      0.0         2.0               745.5               0.0   \n",
       "41284      0.0      0.0         4.0               455.0               0.0   \n",
       "53015      0.0      0.0         1.0               791.0               0.0   \n",
       "4080       0.0      2.0         1.0              2099.0              30.0   \n",
       "\n",
       "       PDMEDT_diff_days  PDSURGDT_diff_days  \n",
       "PATNO                                        \n",
       "12898               0.0                 0.0  \n",
       "41544               0.0                 0.0  \n",
       "41284               0.0                 0.0  \n",
       "53015               0.0                 0.0  \n",
       "4080                0.0                 0.0  \n",
       "\n",
       "[5 rows x 371 columns]"
      ]
     },
     "execution_count": 6,
     "metadata": {},
     "output_type": "execute_result"
    }
   ],
   "source": [
    "from sklearn.model_selection import train_test_split\n",
    "data=dfAgg.drop(columns='NHY')\n",
    "target=dfAgg['NHY']\n",
    "train, test = train_test_split(dfAgg, test_size=0.3, random_state=0)\n",
    "train.to_pickle(\"./train_nonTS.pickle\")\n",
    "test.to_pickle(\"./test_nonTS.pickle\")\n",
    "print('train counts: {}'.format(train.NHY.value_counts()))\n",
    "\n",
    "X_train = train.loc[:,train.columns!='NHY']\n",
    "y_train = train['NHY']\n",
    "X_test = test.loc[:,train.columns!='NHY']\n",
    "y_test = test[('NHY')]\n",
    "print(X_train.shape)\n",
    "print('test counts: {}'.format(y_test.value_counts()))\n",
    "\n",
    "train.head()"
   ]
  },
  {
   "cell_type": "markdown",
   "metadata": {},
   "source": [
    "### Take care of the classes unbalance"
   ]
  },
  {
   "cell_type": "code",
   "execution_count": 7,
   "metadata": {},
   "outputs": [
    {
     "name": "stdout",
     "output_type": "stream",
     "text": [
      "5.0    478\n",
      "4.0    478\n",
      "3.0    478\n",
      "2.0    478\n",
      "1.0    478\n",
      "0.0    478\n",
      "Name: NHY, dtype: int64\n"
     ]
    }
   ],
   "source": [
    "from sklearn.utils import resample\n",
    "\n",
    "def upsampling_NHY(train):\n",
    "    train_majority = train[train.NHY==0.0]\n",
    "    train_minority_1 = train[train.NHY==1.0]\n",
    "    train_minority_2= train[train.NHY==2.0]\n",
    "    train_minority_3= train[train.NHY==3.0]\n",
    "    train_minority_4=train[train.NHY==4.0]\n",
    "    train_minority_5=train[train.NHY==5.0]\n",
    "\n",
    "    # Upsample minority class\n",
    "    train_minority_upsampled_1 = resample(train_minority_1, \n",
    "                                     replace=True,     # sample with replacement\n",
    "                                     n_samples=train_majority.shape[0],  # to match majority class\n",
    "                                     random_state=123) # reproducible results\n",
    "    train_minority_upsampled_2 = resample(train_minority_2, \n",
    "                                     replace=True,     # sample with replacement\n",
    "                                     n_samples=train_majority.shape[0],  # to match majority class\n",
    "                                     random_state=123) # reproducible results\n",
    "    train_minority_upsampled_3 = resample(train_minority_3, \n",
    "                                     replace=True,     # sample with replacement\n",
    "                                     n_samples=train_majority.shape[0],  # to match majority class\n",
    "                                     random_state=123) # reproducible results\n",
    "    train_minority_upsampled_4= resample(train_minority_4, \n",
    "                                     replace=True,     # sample with replacement\n",
    "                                     n_samples=train_majority.shape[0],  # to match majority class\n",
    "                                     random_state=123) # reproducible results\n",
    "    train_minority_upsampled_5= resample(train_minority_5, \n",
    "                                     replace=True,     # sample with replacement\n",
    "                                     n_samples=train_majority.shape[0],  # to match majority class\n",
    "                                     random_state=123) # reproducible results\n",
    "\n",
    "    # Combine majority class with upsampled minority class\n",
    "    train_upsampled = pd.concat([train_majority, train_minority_upsampled_1,train_minority_upsampled_2,\n",
    "                                 train_minority_upsampled_3,train_minority_upsampled_4,\n",
    "                                 train_minority_upsampled_5])\n",
    "\n",
    "    # Show new class counts\n",
    "    print(train_upsampled.NHY.value_counts())\n",
    "    \n",
    "    return train_upsampled\n",
    "\n",
    "train_upsampled=upsampling_NHY(train)"
   ]
  },
  {
   "cell_type": "code",
   "execution_count": 8,
   "metadata": {},
   "outputs": [
    {
     "name": "stdout",
     "output_type": "stream",
     "text": [
      "5.0    683\n",
      "4.0    683\n",
      "3.0    683\n",
      "2.0    683\n",
      "1.0    683\n",
      "0.0    683\n",
      "Name: NHY, dtype: int64\n"
     ]
    }
   ],
   "source": [
    "X_train_up = train_upsampled.loc[:,train.columns!='NHY']\n",
    "y_train_up= train_upsampled['NHY']\n",
    "data_up=upsampling_NHY(dfAgg)\n",
    "target_up=data_up['NHY']\n",
    "data_up.drop(columns='NHY',inplace=True)"
   ]
  },
  {
   "cell_type": "code",
   "execution_count": 9,
   "metadata": {},
   "outputs": [
    {
     "data": {
      "text/plain": [
       "'3.5.6 |Anaconda, Inc.| (default, Aug 26 2018, 16:30:03) \\n[GCC 4.2.1 Compatible Clang 4.0.1 (tags/RELEASE_401/final)]'"
      ]
     },
     "execution_count": 9,
     "metadata": {},
     "output_type": "execute_result"
    }
   ],
   "source": [
    "import sys\n",
    "sys.version"
   ]
  },
  {
   "cell_type": "markdown",
   "metadata": {},
   "source": [
    "from imblearn.over_sampling import SMOTE\n",
    "X_resampled, y_resampled = SMOTE().fit_sample(X_train, y_train)\n",
    "X_resampled.shape\n",
    "logreg_smote = LogisticRegression(random_state=0).fit(X_resampled, y_resampled)"
   ]
  },
  {
   "cell_type": "code",
   "execution_count": 10,
   "metadata": {},
   "outputs": [],
   "source": [
    "#X_resampled, y_resampled = ADASYN().fit_sample(X, y)\n",
    "#clf_adasyn = LinearSVC().fit(X_resampled, y_resampled)"
   ]
  },
  {
   "cell_type": "markdown",
   "metadata": {},
   "source": [
    "## 3. Model Training"
   ]
  },
  {
   "cell_type": "markdown",
   "metadata": {},
   "source": [
    "### Dummy Classifier"
   ]
  },
  {
   "cell_type": "code",
   "execution_count": 11,
   "metadata": {},
   "outputs": [
    {
     "data": {
      "text/plain": [
       "DummyClassifier(constant=None, random_state=None, strategy='stratified')"
      ]
     },
     "execution_count": 11,
     "metadata": {},
     "output_type": "execute_result"
    }
   ],
   "source": [
    "from sklearn.dummy import DummyClassifier\n",
    "dummy=DummyClassifier()\n",
    "dummy.fit(X_train, y_train)"
   ]
  },
  {
   "cell_type": "code",
   "execution_count": 12,
   "metadata": {},
   "outputs": [
    {
     "name": "stdout",
     "output_type": "stream",
     "text": [
      "Train-Score: 0.3664, Test-Accuracy: 0.3260\n"
     ]
    }
   ],
   "source": [
    "print(\"Train-Score: %.4f, Test-Accuracy: %.4f\" % (dummy.score(X_train, y_train), dummy.score(X_test, y_test)))"
   ]
  },
  {
   "cell_type": "markdown",
   "metadata": {},
   "source": [
    "### Logistic Regression"
   ]
  },
  {
   "cell_type": "code",
   "execution_count": 13,
   "metadata": {},
   "outputs": [
    {
     "data": {
      "text/plain": [
       "LogisticRegression(C=1.0, class_weight=None, dual=False, fit_intercept=True,\n",
       "          intercept_scaling=1, max_iter=100, multi_class='multinomial',\n",
       "          n_jobs=1, penalty='l2', random_state=0, solver='newton-cg',\n",
       "          tol=0.0001, verbose=0, warm_start=False)"
      ]
     },
     "execution_count": 13,
     "metadata": {},
     "output_type": "execute_result"
    }
   ],
   "source": [
    "from sklearn.linear_model import LogisticRegression\n",
    "logreg = LogisticRegression(multi_class='multinomial',solver='newton-cg',random_state=0)\n",
    "logreg.fit(X_train, y_train)"
   ]
  },
  {
   "cell_type": "code",
   "execution_count": 14,
   "metadata": {},
   "outputs": [
    {
     "data": {
      "text/plain": [
       "LogisticRegression(C=1.0, class_weight=None, dual=False, fit_intercept=True,\n",
       "          intercept_scaling=1, max_iter=100, multi_class='multinomial',\n",
       "          n_jobs=1, penalty='l2', random_state=1, solver='newton-cg',\n",
       "          tol=0.0001, verbose=0, warm_start=False)"
      ]
     },
     "execution_count": 14,
     "metadata": {},
     "output_type": "execute_result"
    }
   ],
   "source": [
    "logreg_up=LogisticRegression(multi_class='multinomial',solver='newton-cg',random_state=1)\n",
    "logreg_up.fit(X_train_up, y_train_up)"
   ]
  },
  {
   "cell_type": "markdown",
   "metadata": {},
   "source": [
    "### Random Forest"
   ]
  },
  {
   "cell_type": "code",
   "execution_count": 15,
   "metadata": {},
   "outputs": [
    {
     "data": {
      "text/plain": [
       "RandomForestClassifier(bootstrap=True, class_weight='balanced',\n",
       "            criterion='gini', max_depth=None, max_features='auto',\n",
       "            max_leaf_nodes=None, min_impurity_decrease=0.0,\n",
       "            min_impurity_split=None, min_samples_leaf=1,\n",
       "            min_samples_split=2, min_weight_fraction_leaf=0.0,\n",
       "            n_estimators=100, n_jobs=1, oob_score=False, random_state=1,\n",
       "            verbose=0, warm_start=False)"
      ]
     },
     "execution_count": 15,
     "metadata": {},
     "output_type": "execute_result"
    }
   ],
   "source": [
    "rfc_up = RandomForestClassifier(n_estimators=100, random_state=1)\n",
    "rfc_up.fit(X_train_up, y_train_up)\n",
    "\n",
    "rfc = RandomForestClassifier(n_estimators=100, random_state=0)\n",
    "rfc.fit(X_train, y_train)\n",
    "\n",
    "dict_weight={'0.0':0.4, '2.0':0.4, '1.0':0.4/3, '3.0':0.4/9, '4.0':0.4/27, '5.0':0.4/(27*8)}\n",
    "rfc_weighted = RandomForestClassifier(n_estimators=100, random_state=1,class_weight='balanced')\n",
    "rfc_weighted.fit(X_train, y_train)"
   ]
  },
  {
   "cell_type": "code",
   "execution_count": 16,
   "metadata": {},
   "outputs": [
    {
     "data": {
      "text/plain": [
       "17.92"
      ]
     },
     "execution_count": 16,
     "metadata": {},
     "output_type": "execute_result"
    }
   ],
   "source": [
    "#for estimator in rfc.estimators_:\n",
    "    #print(estimator.tree_.max_depth)\n",
    "np.mean([estimator.tree_.max_depth for estimator in rfc.estimators_])"
   ]
  },
  {
   "cell_type": "code",
   "execution_count": 17,
   "metadata": {},
   "outputs": [
    {
     "data": {
      "text/plain": [
       "0.9944444444444445"
      ]
     },
     "execution_count": 17,
     "metadata": {},
     "output_type": "execute_result"
    }
   ],
   "source": [
    "0.4*2+0.4/3+0.4/9+0.4/27+0.4/(8*27)"
   ]
  },
  {
   "cell_type": "code",
   "execution_count": 18,
   "metadata": {},
   "outputs": [
    {
     "data": {
      "text/plain": [
       "0.13333333333333333"
      ]
     },
     "execution_count": 18,
     "metadata": {},
     "output_type": "execute_result"
    }
   ],
   "source": [
    "0.4/3"
   ]
  },
  {
   "cell_type": "markdown",
   "metadata": {},
   "source": [
    "### XGBoost"
   ]
  },
  {
   "cell_type": "code",
   "execution_count": 19,
   "metadata": {},
   "outputs": [
    {
     "data": {
      "text/plain": [
       "XGBClassifier(base_score=0.5, booster='gbtree', colsample_bylevel=1,\n",
       "       colsample_bytree=1, gamma=0, learning_rate=0.1, max_delta_step=0,\n",
       "       max_depth=3, min_child_weight=1, missing=None, n_estimators=100,\n",
       "       n_jobs=-1, nthread=None, objective='multi:softprob', random_state=0,\n",
       "       reg_alpha=0, reg_lambda=1, scale_pos_weight=1, seed=0, silent=True,\n",
       "       subsample=1)"
      ]
     },
     "execution_count": 19,
     "metadata": {},
     "output_type": "execute_result"
    }
   ],
   "source": [
    "from xgboost import XGBClassifier\n",
    "xgb = XGBClassifier(n_jobs=-1,seed=0)\n",
    "xgb.fit(X_train, y_train)\n",
    "xgb_up=XGBClassifier(n_jobs=-1,seed=0)\n",
    "xgb_up.fit(X_train_up, y_train_up)"
   ]
  },
  {
   "cell_type": "markdown",
   "metadata": {},
   "source": [
    "### feature importance\n",
    "do a pairplot of the important features in the original dataset"
   ]
  },
  {
   "cell_type": "code",
   "execution_count": 20,
   "metadata": {},
   "outputs": [
    {
     "name": "stdout",
     "output_type": "stream",
     "text": [
      "[0.59281574]\n",
      "0.8945945945945946\n"
     ]
    },
    {
     "data": {
      "text/html": [
       "<div>\n",
       "<style scoped>\n",
       "    .dataframe tbody tr th:only-of-type {\n",
       "        vertical-align: middle;\n",
       "    }\n",
       "\n",
       "    .dataframe tbody tr th {\n",
       "        vertical-align: top;\n",
       "    }\n",
       "\n",
       "    .dataframe thead th {\n",
       "        text-align: right;\n",
       "    }\n",
       "</style>\n",
       "<table border=\"1\" class=\"dataframe\">\n",
       "  <thead>\n",
       "    <tr style=\"text-align: right;\">\n",
       "      <th></th>\n",
       "      <th>importance</th>\n",
       "    </tr>\n",
       "  </thead>\n",
       "  <tbody>\n",
       "    <tr>\n",
       "      <th>DOMSIDE</th>\n",
       "      <td>0.068395</td>\n",
       "    </tr>\n",
       "    <tr>\n",
       "      <th>PRIMDIAG</th>\n",
       "      <td>0.050340</td>\n",
       "    </tr>\n",
       "    <tr>\n",
       "      <th>PDDXDT_diff_days</th>\n",
       "      <td>0.049499</td>\n",
       "    </tr>\n",
       "    <tr>\n",
       "      <th>DFRIGIDP</th>\n",
       "      <td>0.029434</td>\n",
       "    </tr>\n",
       "    <tr>\n",
       "      <th>NP3FACXP</th>\n",
       "      <td>0.027966</td>\n",
       "    </tr>\n",
       "    <tr>\n",
       "      <th>PD_MED_USE</th>\n",
       "      <td>0.025725</td>\n",
       "    </tr>\n",
       "    <tr>\n",
       "      <th>NP3BRADY</th>\n",
       "      <td>0.023187</td>\n",
       "    </tr>\n",
       "    <tr>\n",
       "      <th>PDMEDYN</th>\n",
       "      <td>0.021384</td>\n",
       "    </tr>\n",
       "    <tr>\n",
       "      <th>DFPGDIST</th>\n",
       "      <td>0.019051</td>\n",
       "    </tr>\n",
       "    <tr>\n",
       "      <th>DXBRADY</th>\n",
       "      <td>0.018643</td>\n",
       "    </tr>\n",
       "    <tr>\n",
       "      <th>NP3PSTBL</th>\n",
       "      <td>0.017734</td>\n",
       "    </tr>\n",
       "    <tr>\n",
       "      <th>NP3FTAPL</th>\n",
       "      <td>0.016833</td>\n",
       "    </tr>\n",
       "    <tr>\n",
       "      <th>ON_OFF_DOSE</th>\n",
       "      <td>0.016464</td>\n",
       "    </tr>\n",
       "    <tr>\n",
       "      <th>NP3RIGLU</th>\n",
       "      <td>0.015966</td>\n",
       "    </tr>\n",
       "    <tr>\n",
       "      <th>DXTREMOR</th>\n",
       "      <td>0.015703</td>\n",
       "    </tr>\n",
       "    <tr>\n",
       "      <th>NP3SPCH</th>\n",
       "      <td>0.015645</td>\n",
       "    </tr>\n",
       "    <tr>\n",
       "      <th>DFRTREMP</th>\n",
       "      <td>0.013837</td>\n",
       "    </tr>\n",
       "    <tr>\n",
       "      <th>NP3RIGN</th>\n",
       "      <td>0.013447</td>\n",
       "    </tr>\n",
       "    <tr>\n",
       "      <th>NP3GAIT</th>\n",
       "      <td>0.013207</td>\n",
       "    </tr>\n",
       "    <tr>\n",
       "      <th>NP3TTAPR</th>\n",
       "      <td>0.013056</td>\n",
       "    </tr>\n",
       "    <tr>\n",
       "      <th>NP3TTAPL</th>\n",
       "      <td>0.012697</td>\n",
       "    </tr>\n",
       "    <tr>\n",
       "      <th>DFBRADYP</th>\n",
       "      <td>0.012640</td>\n",
       "    </tr>\n",
       "    <tr>\n",
       "      <th>NP3PRSPR</th>\n",
       "      <td>0.012530</td>\n",
       "    </tr>\n",
       "    <tr>\n",
       "      <th>NP3PRSPL</th>\n",
       "      <td>0.012164</td>\n",
       "    </tr>\n",
       "    <tr>\n",
       "      <th>NP3POSTR</th>\n",
       "      <td>0.012136</td>\n",
       "    </tr>\n",
       "    <tr>\n",
       "      <th>NP3HMOVL</th>\n",
       "      <td>0.012119</td>\n",
       "    </tr>\n",
       "    <tr>\n",
       "      <th>DFRIGIDA</th>\n",
       "      <td>0.011302</td>\n",
       "    </tr>\n",
       "    <tr>\n",
       "      <th>NP3HMOVR</th>\n",
       "      <td>0.011259</td>\n",
       "    </tr>\n",
       "    <tr>\n",
       "      <th>NP2TRMR</th>\n",
       "      <td>0.010451</td>\n",
       "    </tr>\n",
       "  </tbody>\n",
       "</table>\n",
       "</div>"
      ],
      "text/plain": [
       "                  importance\n",
       "DOMSIDE             0.068395\n",
       "PRIMDIAG            0.050340\n",
       "PDDXDT_diff_days    0.049499\n",
       "DFRIGIDP            0.029434\n",
       "NP3FACXP            0.027966\n",
       "PD_MED_USE          0.025725\n",
       "NP3BRADY            0.023187\n",
       "PDMEDYN             0.021384\n",
       "DFPGDIST            0.019051\n",
       "DXBRADY             0.018643\n",
       "NP3PSTBL            0.017734\n",
       "NP3FTAPL            0.016833\n",
       "ON_OFF_DOSE         0.016464\n",
       "NP3RIGLU            0.015966\n",
       "DXTREMOR            0.015703\n",
       "NP3SPCH             0.015645\n",
       "DFRTREMP            0.013837\n",
       "NP3RIGN             0.013447\n",
       "NP3GAIT             0.013207\n",
       "NP3TTAPR            0.013056\n",
       "NP3TTAPL            0.012697\n",
       "DFBRADYP            0.012640\n",
       "NP3PRSPR            0.012530\n",
       "NP3PRSPL            0.012164\n",
       "NP3POSTR            0.012136\n",
       "NP3HMOVL            0.012119\n",
       "DFRIGIDA            0.011302\n",
       "NP3HMOVR            0.011259\n",
       "NP2TRMR             0.010451"
      ]
     },
     "execution_count": 20,
     "metadata": {},
     "output_type": "execute_result"
    }
   ],
   "source": [
    "feature_importances = pd.DataFrame(rfc.feature_importances_,\n",
    "                                   index = X_train.columns,\n",
    "                                    columns=['importance']).sort_values('importance',ascending=False)\n",
    "ImportantFeatures=feature_importances[feature_importances.values>=0.01]\n",
    "RelevantFeatures=feature_importances[feature_importances.values>0]\n",
    "RelevantFeaturesList=list(RelevantFeatures.index)\n",
    "#RelevantFeaturesList\n",
    "print(sum(ImportantFeatures.values))\n",
    "print(len(RelevantFeatures)/len(feature_importances))\n",
    "ImportantFeatures\n",
    "#plt.plot(list(ImportantFeatures.index),list(ImportantFeatures.values),kind='bar')"
   ]
  },
  {
   "cell_type": "code",
   "execution_count": 21,
   "metadata": {},
   "outputs": [
    {
     "data": {
      "image/png": "[encoded data removed]",
      "text/plain": [
       "<Figure size 720x720 with 1 Axes>"
      ]
     },
     "metadata": {},
     "output_type": "display_data"
    }
   ],
   "source": [
    "def plot_importantFeatures(clf,X_train,threshold=0.01,figsize=(10,10),color='b'):\n",
    "    importances=clf.feature_importances_\n",
    "    importances=importances[importances>=threshold]\n",
    "    features = X_train.columns\n",
    "    indices = np.argsort(importances)\n",
    "    fig = plt.figure(figsize=figsize)\n",
    "    plt.title('Feature Importances')\n",
    "    plt.barh(range(len(indices)), importances[indices], color=color, align='center')\n",
    "    plt.yticks(range(len(indices)), [features[i] for i in indices])\n",
    "    plt.xlabel('Relative Importance')\n",
    "    plt.show()\n",
    "\n",
    "plot_importantFeatures(rfc,X_train)"
   ]
  },
  {
   "cell_type": "code",
   "execution_count": 22,
   "metadata": {},
   "outputs": [
    {
     "data": {
      "image/png": "[encoded data removed]",
      "text/plain": [
       "<Figure size 720x1080 with 1 Axes>"
      ]
     },
     "metadata": {},
     "output_type": "display_data"
    }
   ],
   "source": [
    "feature_importances_up = pd.DataFrame(rfc_up.feature_importances_,\n",
    "                                   index = X_train_up.columns,\n",
    "                                    columns=['importance']).sort_values('importance',ascending=False)\n",
    "#ImportantFeatures_up=feature_importances_up[feature_importances.values>=0.01]\n",
    "plot_importantFeatures(rfc_up,X_train_up,figsize=(10,15),color='grey')\n",
    "RelevantFeatures_up=feature_importances_up[feature_importances_up.values>0]\n",
    "RelevantFeaturesList_up=list(RelevantFeatures_up.index)"
   ]
  },
  {
   "cell_type": "markdown",
   "metadata": {},
   "source": [
    "## 4. Evaluation: Calculating, plotting metrics"
   ]
  },
  {
   "cell_type": "code",
   "execution_count": 23,
   "metadata": {},
   "outputs": [
    {
     "name": "stdout",
     "output_type": "stream",
     "text": [
      "Train-Score-logreg: 0.9889, Test-Accuracy-logreg: 0.8429\n",
      "Train-Score-logreg-up: 0.9972, Test-Accuracy-logreg-up: 0.8171\n",
      "Train-Score-rfc: 1.0000, Test-Accuracy-rfc: 0.8748\n",
      "Train-Score-rfc-up: 1.0000, Test-Accuracy-rfc: 0.8946\n",
      "Train-Score-rfc-weighted: 1.0000, Test-Accuracy-weighted: 0.8748\n",
      "Train-Score-xgb: 0.9880, Test-Accuracy-xgb: 0.8847\n",
      "Train-Score-xgb-up: 0.9923, Test-Accuracy-xgb-up: 0.8807\n"
     ]
    }
   ],
   "source": [
    "print(\"Train-Score-logreg: %.4f, Test-Accuracy-logreg: %.4f\" % (logreg.score(X_train, y_train), \n",
    "                                                                logreg.score(X_test, y_test)))\n",
    "print(\"Train-Score-logreg-up: %.4f, Test-Accuracy-logreg-up: %.4f\" % (logreg_up.score(X_train_up, y_train_up), \n",
    "                                                                      logreg_up.score(X_test, y_test)))\n",
    "print(\"Train-Score-rfc: %.4f, Test-Accuracy-rfc: %.4f\" % (rfc.score(X_train, y_train), rfc.score(X_test, y_test)))\n",
    "print(\"Train-Score-rfc-up: %.4f, Test-Accuracy-rfc: %.4f\" % (rfc_up.score(X_train_up, y_train_up), \n",
    "                                                             rfc_up.score(X_test, y_test)))\n",
    "print(\"Train-Score-rfc-weighted: %.4f, Test-Accuracy-weighted: %.4f\" % (rfc_weighted.score(X_train, y_train), \n",
    "                                                             rfc_weighted.score(X_test, y_test)))\n",
    "\n",
    "print(\"Train-Score-xgb: %.4f, Test-Accuracy-xgb: %.4f\" % (xgb.score(X_train, y_train), \n",
    "                                                         xgb.score(X_test, y_test)))\n",
    "print(\"Train-Score-xgb-up: %.4f, Test-Accuracy-xgb-up: %.4f\" % (xgb_up.score(X_train_up, y_train_up), \n",
    "                                                         xgb_up.score(X_test, y_test)))"
   ]
  },
  {
   "cell_type": "markdown",
   "metadata": {},
   "source": [
    "### Confusion Matrix"
   ]
  },
  {
   "cell_type": "code",
   "execution_count": 24,
   "metadata": {},
   "outputs": [
    {
     "data": {
      "text/plain": [
       "<matplotlib.axes._subplots.AxesSubplot at 0x11b45a0f0>"
      ]
     },
     "execution_count": 24,
     "metadata": {},
     "output_type": "execute_result"
    },
    {
     "data": {
      "image/png": "[encoded data removed]",
      "text/plain": [
       "<Figure size 432x288 with 2 Axes>"
      ]
     },
     "metadata": {},
     "output_type": "display_data"
    }
   ],
   "source": [
    "y_pred_logreg=logreg.predict(X_test)\n",
    "cm_logreg=confusion_matrix(y_test,y_pred_logreg)\n",
    "cm_logreg_df=pd.DataFrame(cm_logreg,index=[0,1,2,3,4,5],columns=[0,1,2,3,4,5])\n",
    "import seaborn as sns\n",
    "sns.heatmap(cm_logreg_df,annot=True,cmap='viridis')"
   ]
  },
  {
   "cell_type": "code",
   "execution_count": 25,
   "metadata": {},
   "outputs": [
    {
     "data": {
      "text/plain": [
       "<matplotlib.axes._subplots.AxesSubplot at 0x11b49f5f8>"
      ]
     },
     "execution_count": 25,
     "metadata": {},
     "output_type": "execute_result"
    },
    {
     "data": {
      "image/png": "[encoded data removed]",
      "text/plain": [
       "<Figure size 432x288 with 2 Axes>"
      ]
     },
     "metadata": {},
     "output_type": "display_data"
    }
   ],
   "source": [
    "y_pred_rfc=rfc.predict(X_test)\n",
    "cm_rfc=confusion_matrix(y_test,y_pred_rfc)\n",
    "cm_rfc_df=pd.DataFrame(cm_rfc,index=[0,1,2,3,4,5],columns=[0,1,2,3,4,5])\n",
    "sns.heatmap(cm_rfc_df,annot=True,cmap='viridis')"
   ]
  },
  {
   "cell_type": "markdown",
   "metadata": {},
   "source": [
    "### classification report"
   ]
  },
  {
   "cell_type": "code",
   "execution_count": 26,
   "metadata": {},
   "outputs": [
    {
     "name": "stdout",
     "output_type": "stream",
     "text": [
      "             precision    recall  f1-score   support\n",
      "\n",
      "        0.0       0.97      0.97      0.97       205\n",
      "        1.0       0.56      0.43      0.48        56\n",
      "        2.0       0.84      0.89      0.87       217\n",
      "        3.0       0.33      0.28      0.30        18\n",
      "        4.0       0.25      0.33      0.29         6\n",
      "        5.0       0.00      0.00      0.00         1\n",
      "\n",
      "avg / total       0.83      0.84      0.84       503\n",
      "\n"
     ]
    }
   ],
   "source": [
    "from sklearn.metrics import classification_report\n",
    "report_logreg = classification_report(y_test, \n",
    "                      y_pred_logreg)\n",
    "print(report_logreg)"
   ]
  },
  {
   "cell_type": "code",
   "execution_count": 27,
   "metadata": {},
   "outputs": [
    {
     "name": "stdout",
     "output_type": "stream",
     "text": [
      "             precision    recall  f1-score   support\n",
      "\n",
      "        0.0       0.97      1.00      0.98       205\n",
      "        1.0       0.88      0.38      0.53        56\n",
      "        2.0       0.82      0.97      0.89       217\n",
      "        3.0       0.40      0.22      0.29        18\n",
      "        4.0       0.00      0.00      0.00         6\n",
      "        5.0       0.00      0.00      0.00         1\n",
      "\n",
      "avg / total       0.86      0.87      0.85       503\n",
      "\n"
     ]
    },
    {
     "name": "stderr",
     "output_type": "stream",
     "text": [
      "/Users/alicemartin/miniconda3/envs/project/lib/python3.5/site-packages/sklearn/metrics/classification.py:1135: UndefinedMetricWarning: Precision and F-score are ill-defined and being set to 0.0 in labels with no predicted samples.\n",
      "  'precision', 'predicted', average, warn_for)\n"
     ]
    }
   ],
   "source": [
    "report_rfc = classification_report(y_test, \n",
    "                      y_pred_rfc)\n",
    "print(report_rfc)"
   ]
  },
  {
   "cell_type": "code",
   "execution_count": 28,
   "metadata": {},
   "outputs": [
    {
     "name": "stdout",
     "output_type": "stream",
     "text": [
      "             precision    recall  f1-score   support\n",
      "\n",
      "        0.0       0.97      0.99      0.98       205\n",
      "        1.0       0.73      0.68      0.70        56\n",
      "        2.0       0.89      0.93      0.91       217\n",
      "        3.0       0.50      0.33      0.40        18\n",
      "        4.0       0.50      0.17      0.25         6\n",
      "        5.0       0.00      0.00      0.00         1\n",
      "\n",
      "avg / total       0.88      0.89      0.89       503\n",
      "\n"
     ]
    },
    {
     "name": "stderr",
     "output_type": "stream",
     "text": [
      "/Users/alicemartin/miniconda3/envs/project/lib/python3.5/site-packages/sklearn/metrics/classification.py:1135: UndefinedMetricWarning: Precision and F-score are ill-defined and being set to 0.0 in labels with no predicted samples.\n",
      "  'precision', 'predicted', average, warn_for)\n"
     ]
    }
   ],
   "source": [
    "y_pred_rfc_up=rfc_up.predict(X_test)\n",
    "report_rfc_up = classification_report(y_test, \n",
    "                      y_pred_rfc_up)\n",
    "print(report_rfc_up)"
   ]
  },
  {
   "cell_type": "markdown",
   "metadata": {},
   "source": [
    "## 5. Cross-Validation"
   ]
  },
  {
   "cell_type": "code",
   "execution_count": 29,
   "metadata": {
    "scrolled": true
   },
   "outputs": [],
   "source": [
    "from sklearn.cross_validation import LeaveOneOut, StratifiedKFold\n",
    "from sklearn.model_selection import cross_val_score\n",
    "#cv_score=cross_val_score(logreg,data,target,cv=5,n_jobs=-1)\n",
    "#print(cv_score)\n",
    "\n",
    "# C = 1/lambda, the parameter of the sigmoid function\n",
    "# lambda = 0.001, 0.005, 0.01, 0.05, ..., 1, 5, 10, 50"
   ]
  },
  {
   "cell_type": "code",
   "execution_count": 30,
   "metadata": {},
   "outputs": [],
   "source": [
    "#print(cv_score.mean())"
   ]
  },
  {
   "cell_type": "code",
   "execution_count": 31,
   "metadata": {},
   "outputs": [
    {
     "name": "stdout",
     "output_type": "stream",
     "text": [
      "[0.82492582 0.8694362  0.85416667 0.82582583 0.83987915]\n",
      "0.8428467328750393\n"
     ]
    }
   ],
   "source": [
    "cv_score_rfc=cross_val_score(rfc,data,target,cv=5,n_jobs=-1)\n",
    "print(cv_score_rfc)\n",
    "print(cv_score_rfc.mean())"
   ]
  },
  {
   "cell_type": "code",
   "execution_count": 32,
   "metadata": {},
   "outputs": [
    {
     "name": "stdout",
     "output_type": "stream",
     "text": [
      "[0.96836983 0.98053528 0.98418491 0.98039216 0.99019608]\n",
      "0.9807356519250036\n"
     ]
    }
   ],
   "source": [
    "# data_up & target_up to define. \n",
    "cv_score_rfc_up=cross_val_score(rfc_up,data_up,target_up,cv=5,n_jobs=-1)\n",
    "print(cv_score_rfc_up)\n",
    "print(cv_score_rfc_up.mean())"
   ]
  },
  {
   "cell_type": "markdown",
   "metadata": {},
   "source": [
    "## 6. Hyperparameter tuning with GridSearchCV"
   ]
  },
  {
   "cell_type": "markdown",
   "metadata": {},
   "source": [
    "#### Using only the Relevant Features from the feature importance"
   ]
  },
  {
   "cell_type": "code",
   "execution_count": 33,
   "metadata": {},
   "outputs": [
    {
     "data": {
      "text/html": [
       "<div>\n",
       "<style scoped>\n",
       "    .dataframe tbody tr th:only-of-type {\n",
       "        vertical-align: middle;\n",
       "    }\n",
       "\n",
       "    .dataframe tbody tr th {\n",
       "        vertical-align: top;\n",
       "    }\n",
       "\n",
       "    .dataframe thead th {\n",
       "        text-align: right;\n",
       "    }\n",
       "</style>\n",
       "<table border=\"1\" class=\"dataframe\">\n",
       "  <thead>\n",
       "    <tr style=\"text-align: right;\">\n",
       "      <th></th>\n",
       "      <th>DOMSIDE</th>\n",
       "      <th>PRIMDIAG</th>\n",
       "      <th>PDDXDT_diff_days</th>\n",
       "      <th>DFRIGIDP</th>\n",
       "      <th>NP3FACXP</th>\n",
       "      <th>PD_MED_USE</th>\n",
       "      <th>NP3BRADY</th>\n",
       "      <th>PDMEDYN</th>\n",
       "      <th>DFPGDIST</th>\n",
       "      <th>DXBRADY</th>\n",
       "      <th>...</th>\n",
       "      <th>DRMOBJFL</th>\n",
       "      <th>SENRARSP</th>\n",
       "      <th>MCABDS</th>\n",
       "      <th>DFAXRIG</th>\n",
       "      <th>GDSALIVE</th>\n",
       "      <th>CN5RSP</th>\n",
       "      <th>MCAVIGIL</th>\n",
       "      <th>DFFREEZ</th>\n",
       "      <th>MHROW_10</th>\n",
       "      <th>CN7RSP</th>\n",
       "    </tr>\n",
       "    <tr>\n",
       "      <th>PATNO</th>\n",
       "      <th></th>\n",
       "      <th></th>\n",
       "      <th></th>\n",
       "      <th></th>\n",
       "      <th></th>\n",
       "      <th></th>\n",
       "      <th></th>\n",
       "      <th></th>\n",
       "      <th></th>\n",
       "      <th></th>\n",
       "      <th></th>\n",
       "      <th></th>\n",
       "      <th></th>\n",
       "      <th></th>\n",
       "      <th></th>\n",
       "      <th></th>\n",
       "      <th></th>\n",
       "      <th></th>\n",
       "      <th></th>\n",
       "      <th></th>\n",
       "      <th></th>\n",
       "    </tr>\n",
       "  </thead>\n",
       "  <tbody>\n",
       "    <tr>\n",
       "      <th>3001</th>\n",
       "      <td>2.0</td>\n",
       "      <td>1.0</td>\n",
       "      <td>1461.0</td>\n",
       "      <td>1.0</td>\n",
       "      <td>2.0</td>\n",
       "      <td>3.0</td>\n",
       "      <td>2.0</td>\n",
       "      <td>1.0</td>\n",
       "      <td>0.0</td>\n",
       "      <td>1.0</td>\n",
       "      <td>...</td>\n",
       "      <td>0.0</td>\n",
       "      <td>0.0</td>\n",
       "      <td>1.0</td>\n",
       "      <td>0.0</td>\n",
       "      <td>1.0</td>\n",
       "      <td>0.0</td>\n",
       "      <td>1.0</td>\n",
       "      <td>0.0</td>\n",
       "      <td>0.0</td>\n",
       "      <td>0.0</td>\n",
       "    </tr>\n",
       "    <tr>\n",
       "      <th>3002</th>\n",
       "      <td>1.0</td>\n",
       "      <td>1.0</td>\n",
       "      <td>1504.5</td>\n",
       "      <td>1.0</td>\n",
       "      <td>2.0</td>\n",
       "      <td>1.0</td>\n",
       "      <td>1.0</td>\n",
       "      <td>1.0</td>\n",
       "      <td>0.0</td>\n",
       "      <td>1.0</td>\n",
       "      <td>...</td>\n",
       "      <td>0.0</td>\n",
       "      <td>0.0</td>\n",
       "      <td>1.0</td>\n",
       "      <td>0.0</td>\n",
       "      <td>1.0</td>\n",
       "      <td>0.0</td>\n",
       "      <td>1.0</td>\n",
       "      <td>0.0</td>\n",
       "      <td>0.0</td>\n",
       "      <td>0.0</td>\n",
       "    </tr>\n",
       "    <tr>\n",
       "      <th>3003</th>\n",
       "      <td>2.0</td>\n",
       "      <td>1.0</td>\n",
       "      <td>1857.0</td>\n",
       "      <td>1.0</td>\n",
       "      <td>2.0</td>\n",
       "      <td>3.0</td>\n",
       "      <td>2.0</td>\n",
       "      <td>1.0</td>\n",
       "      <td>0.0</td>\n",
       "      <td>1.0</td>\n",
       "      <td>...</td>\n",
       "      <td>0.0</td>\n",
       "      <td>0.0</td>\n",
       "      <td>1.0</td>\n",
       "      <td>0.0</td>\n",
       "      <td>1.0</td>\n",
       "      <td>0.0</td>\n",
       "      <td>1.0</td>\n",
       "      <td>0.0</td>\n",
       "      <td>0.0</td>\n",
       "      <td>0.0</td>\n",
       "    </tr>\n",
       "    <tr>\n",
       "      <th>3006</th>\n",
       "      <td>2.0</td>\n",
       "      <td>1.0</td>\n",
       "      <td>333.5</td>\n",
       "      <td>1.0</td>\n",
       "      <td>1.5</td>\n",
       "      <td>3.0</td>\n",
       "      <td>1.0</td>\n",
       "      <td>0.5</td>\n",
       "      <td>0.0</td>\n",
       "      <td>1.0</td>\n",
       "      <td>...</td>\n",
       "      <td>0.0</td>\n",
       "      <td>0.0</td>\n",
       "      <td>1.0</td>\n",
       "      <td>0.0</td>\n",
       "      <td>1.0</td>\n",
       "      <td>0.0</td>\n",
       "      <td>1.0</td>\n",
       "      <td>0.0</td>\n",
       "      <td>0.0</td>\n",
       "      <td>0.0</td>\n",
       "    </tr>\n",
       "    <tr>\n",
       "      <th>3007</th>\n",
       "      <td>2.0</td>\n",
       "      <td>1.0</td>\n",
       "      <td>90.0</td>\n",
       "      <td>1.0</td>\n",
       "      <td>1.0</td>\n",
       "      <td>0.0</td>\n",
       "      <td>0.0</td>\n",
       "      <td>0.0</td>\n",
       "      <td>0.0</td>\n",
       "      <td>1.0</td>\n",
       "      <td>...</td>\n",
       "      <td>0.0</td>\n",
       "      <td>0.0</td>\n",
       "      <td>1.0</td>\n",
       "      <td>0.0</td>\n",
       "      <td>1.0</td>\n",
       "      <td>0.0</td>\n",
       "      <td>1.0</td>\n",
       "      <td>0.0</td>\n",
       "      <td>0.0</td>\n",
       "      <td>0.0</td>\n",
       "    </tr>\n",
       "  </tbody>\n",
       "</table>\n",
       "<p>5 rows × 331 columns</p>\n",
       "</div>"
      ],
      "text/plain": [
       "       DOMSIDE  PRIMDIAG  PDDXDT_diff_days  DFRIGIDP  NP3FACXP  PD_MED_USE  \\\n",
       "PATNO                                                                        \n",
       "3001       2.0       1.0            1461.0       1.0       2.0         3.0   \n",
       "3002       1.0       1.0            1504.5       1.0       2.0         1.0   \n",
       "3003       2.0       1.0            1857.0       1.0       2.0         3.0   \n",
       "3006       2.0       1.0             333.5       1.0       1.5         3.0   \n",
       "3007       2.0       1.0              90.0       1.0       1.0         0.0   \n",
       "\n",
       "       NP3BRADY  PDMEDYN  DFPGDIST  DXBRADY   ...    DRMOBJFL  SENRARSP  \\\n",
       "PATNO                                         ...                         \n",
       "3001        2.0      1.0       0.0      1.0   ...         0.0       0.0   \n",
       "3002        1.0      1.0       0.0      1.0   ...         0.0       0.0   \n",
       "3003        2.0      1.0       0.0      1.0   ...         0.0       0.0   \n",
       "3006        1.0      0.5       0.0      1.0   ...         0.0       0.0   \n",
       "3007        0.0      0.0       0.0      1.0   ...         0.0       0.0   \n",
       "\n",
       "       MCABDS  DFAXRIG  GDSALIVE  CN5RSP  MCAVIGIL  DFFREEZ  MHROW_10  CN7RSP  \n",
       "PATNO                                                                          \n",
       "3001      1.0      0.0       1.0     0.0       1.0      0.0       0.0     0.0  \n",
       "3002      1.0      0.0       1.0     0.0       1.0      0.0       0.0     0.0  \n",
       "3003      1.0      0.0       1.0     0.0       1.0      0.0       0.0     0.0  \n",
       "3006      1.0      0.0       1.0     0.0       1.0      0.0       0.0     0.0  \n",
       "3007      1.0      0.0       1.0     0.0       1.0      0.0       0.0     0.0  \n",
       "\n",
       "[5 rows x 331 columns]"
      ]
     },
     "execution_count": 33,
     "metadata": {},
     "output_type": "execute_result"
    }
   ],
   "source": [
    "data_GS=data[RelevantFeaturesList]\n",
    "data_GS.head()"
   ]
  },
  {
   "cell_type": "code",
   "execution_count": 34,
   "metadata": {},
   "outputs": [
    {
     "data": {
      "text/plain": [
       "17.92"
      ]
     },
     "execution_count": 34,
     "metadata": {},
     "output_type": "execute_result"
    }
   ],
   "source": [
    "np.mean([estimator.tree_.max_depth for estimator in rfc.estimators_])"
   ]
  },
  {
   "cell_type": "markdown",
   "metadata": {},
   "source": [
    "#### data upsampled"
   ]
  },
  {
   "cell_type": "code",
   "execution_count": 35,
   "metadata": {},
   "outputs": [
    {
     "name": "stdout",
     "output_type": "stream",
     "text": [
      "5.0    683\n",
      "4.0    683\n",
      "3.0    683\n",
      "2.0    683\n",
      "1.0    683\n",
      "0.0    683\n",
      "Name: NHY, dtype: int64\n"
     ]
    }
   ],
   "source": [
    "data_upsampled=upsampling_NHY(dfAgg)\n",
    "target_upsampled=data_upsampled.NHY\n",
    "data_upsampled_GS=data_upsampled[RelevantFeaturesList_up]"
   ]
  },
  {
   "cell_type": "code",
   "execution_count": 36,
   "metadata": {},
   "outputs": [],
   "source": [
    "def grid_search(param_grid, estimator, data, target, cv=3,njobs=-1):\n",
    "    from sklearn.model_selection import GridSearchCV\n",
    "    est = estimator\n",
    "    grid_search=GridSearchCV(est, param_grid,cv=cv)\n",
    "    grid_search.fit(data,target)\n",
    "    print(\"Best estimator:\\n{}\".format(grid_search.best_estimator_))\n",
    "    print(\"Best parameters: {}\".format(grid_search.best_params_))\n",
    "    print(\"Best cross-validation score: {:.2f}\".format(grid_search.best_score_))\n",
    "    return grid_search\n",
    "\n",
    "\n",
    "#param_grid_rfc={'n_estimators':[10,15,20],\n",
    "               #'max_features':[10,50,100],\n",
    "               #'max_leaf_nodes':[None,25,50,100]}\n",
    "#grid_search=GridSearchCV(RandomForestClassifier(n_jobs=-1),param_grid_rfc,cv=5)"
   ]
  },
  {
   "cell_type": "markdown",
   "metadata": {},
   "source": [
    "#### with no upsampling"
   ]
  },
  {
   "cell_type": "markdown",
   "metadata": {},
   "source": [
    "param_grid_rfc={'n_estimators':[500],\n",
    "               'max_features':[10,20,30],\n",
    "               'max_depth':[None,5,15]}\n",
    "grid_search2=grid_search(param_grid_rfc, estimator=RandomForestClassifier(random_state=0), data=data_GS, target=target)\n",
    "\n",
    "#grid_search2.cv_results_\n",
    "\n",
    "param_grid3_rfc={'n_estimators':[500,1000],\n",
    "               'max_features':[15,20,25,30],\n",
    "               'max_depth':[None,10,15,20]}\n",
    "grid_search3=grid_search(param_grid3_rfc, estimator=RandomForestClassifier(random_state=0), data=data_GS, target=target)\n",
    "\n",
    "#grid_search3.cv_results_\n",
    "\n",
    "# it seems that the overfitting can be really reduced by playing on max_depth: remove None option\n",
    "param_grid4_rfc={'n_estimators':[500,1000],\n",
    "               'max_features':[20,30,40],\n",
    "               'max_depth':[5,10,15]}\n",
    "grid_search4=grid_search(param_grid4_rfc, estimator=RandomForestClassifier(random_state=0), data=data_GS, target=target)\n",
    "\n",
    "#grid_search4.cv_results_\n",
    "\n",
    "param_grid5_rfc={'n_estimators':[1000],\n",
    "               'max_features':[5,10,15,20],\n",
    "               'max_depth':[5,7,10]}\n",
    "grid_search5=grid_search(param_grid5_rfc, estimator=RandomForestClassifier(random_state=0), data=data_GS, target=target)\n",
    "\n",
    "#grid_search5.cv_results_"
   ]
  },
  {
   "cell_type": "markdown",
   "metadata": {},
   "source": [
    "#### with upsampling"
   ]
  },
  {
   "cell_type": "markdown",
   "metadata": {},
   "source": [
    "param_grid_rfc={'n_estimators':[500],\n",
    "               'max_features':[10,20,30],\n",
    "               'max_depth':[None,5,15]}\n",
    "grid_search2_up=grid_search(param_grid_rfc, estimator=RandomForestClassifier(random_state=0), \n",
    "                        data=data_upsampled_GS, \n",
    "                         target=target_upsampled)\n",
    "\n",
    "#grid_search2_up.cv_results_\n",
    "\n",
    "param_grid3_rfc={'n_estimators':[500,1000],\n",
    "               'max_features':[15,20,25,30],\n",
    "               'max_depth':[None,10,15,20]}\n",
    "grid_search3_up=grid_search(param_grid3_rfc, estimator=RandomForestClassifier(random_state=0), \n",
    "                         data=data_upsampled_GS, \n",
    "                         target=target_upsampled)\n",
    "\n",
    "#grid_search3_up.cv_results_\n",
    "\n",
    "# it seems that the overfitting can be really reduced by playing on max_depth: remove None option\n",
    "param_grid4_rfc={'n_estimators':[500,1000],\n",
    "               'max_features':[20,30,40],\n",
    "               'max_depth':[5,10,15]}\n",
    "grid_search4_up=grid_search(param_grid4_rfc, estimator=RandomForestClassifier(random_state=0), \n",
    "                            data=data_upsampled_GS, \n",
    "                            target=target_upsampled)\n",
    "\n",
    "#grid_search4_up.cv_results_\n",
    "\n",
    "param_grid5_rfc={'n_estimators':[1000],\n",
    "               'max_features':[5,10,15,20],\n",
    "               'max_depth':[5,7,10]}\n",
    "grid_search5_up=grid_search(param_grid5_rfc, estimator=RandomForestClassifier(random_state=0), \n",
    "                            data=data_upsampled_GS, \n",
    "                            target=target_upsampled)\n",
    "\n",
    "#grid_search5_up.cv_results_"
   ]
  },
  {
   "cell_type": "code",
   "execution_count": 37,
   "metadata": {},
   "outputs": [],
   "source": [
    "#grid_search5_up.cv_results_"
   ]
  }
 ],
 "metadata": {
  "kernelspec": {
   "display_name": "Python 3",
   "language": "python",
   "name": "python3"
  },
  "language_info": {
   "codemirror_mode": {
    "name": "ipython",
    "version": 3
   },
   "file_extension": ".py",
   "mimetype": "text/x-python",
   "name": "python",
   "nbconvert_exporter": "python",
   "pygments_lexer": "ipython3",
   "version": "3.6.4"
  }
 },
 "nbformat": 4,
 "nbformat_minor": 2
}

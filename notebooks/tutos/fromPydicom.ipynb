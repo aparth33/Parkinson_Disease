{
 "cells": [
  {
   "cell_type": "code",
   "execution_count": 1,
   "metadata": {},
   "outputs": [
    {
     "name": "stdout",
     "output_type": "stream",
     "text": [
      "Automatically created module for IPython interactive environment\n",
      "\n",
      "Filename.........: /Users/alicemartin/miniconda3/envs/project/lib/python3.5/site-packages/pydicom/data/test_files/CT_small.dcm\n",
      "Storage type.....: 1.2.840.10008.5.1.4.1.1.2\n",
      "\n",
      "Patient's name...: CompressedSamples, CT1\n",
      "Patient id.......: 1CT1\n",
      "Modality.........: CT\n",
      "Study Date.......: 20040119\n",
      "Image size.......: 128 x 128, 32768 bytes\n",
      "Pixel spacing....: ['0.661468', '0.661468']\n",
      "Slice location...: -77.2040634155\n"
     ]
    },
    {
     "data": {
      "text/plain": [
       "<Figure size 640x480 with 1 Axes>"
      ]
     },
     "metadata": {},
     "output_type": "display_data"
    }
   ],
   "source": [
    "# authors : Guillaume Lemaitre <g.lemaitre58@gmail.com>\n",
    "# license : MIT\n",
    "\n",
    "import matplotlib.pyplot as plt\n",
    "import pydicom\n",
    "from pydicom.data import get_testdata_files\n",
    "\n",
    "print(__doc__)\n",
    "\n",
    "filename = get_testdata_files('CT_small.dcm')[0]\n",
    "dataset = pydicom.dcmread(filename)\n",
    "\n",
    "# Normal mode:\n",
    "print()\n",
    "print(\"Filename.........:\", filename)\n",
    "print(\"Storage type.....:\", dataset.SOPClassUID)\n",
    "print()\n",
    "\n",
    "pat_name = dataset.PatientName\n",
    "display_name = pat_name.family_name + \", \" + pat_name.given_name\n",
    "print(\"Patient's name...:\", display_name)\n",
    "print(\"Patient id.......:\", dataset.PatientID)\n",
    "print(\"Modality.........:\", dataset.Modality)\n",
    "print(\"Study Date.......:\", dataset.StudyDate)\n",
    "\n",
    "if 'PixelData' in dataset:\n",
    "    rows = int(dataset.Rows)\n",
    "    cols = int(dataset.Columns)\n",
    "    print(\"Image size.......: {rows:d} x {cols:d}, {size:d} bytes\".format(\n",
    "        rows=rows, cols=cols, size=len(dataset.PixelData)))\n",
    "    if 'PixelSpacing' in dataset:\n",
    "        print(\"Pixel spacing....:\", dataset.PixelSpacing)\n",
    "\n",
    "# use .get() if not sure the item exists, and want a default value if missing\n",
    "print(\"Slice location...:\", dataset.get('SliceLocation', \"(missing)\"))\n",
    "\n",
    "# plot the image using matplotlib\n",
    "plt.imshow(dataset.pixel_array, cmap=plt.cm.bone)\n",
    "plt.show()"
   ]
  },
  {
   "cell_type": "code",
   "execution_count": 2,
   "metadata": {},
   "outputs": [
    {
     "name": "stdout",
     "output_type": "stream",
     "text": [
      "Automatically created module for IPython interactive environment\n",
      "  Beam name    Number   Gantry   SSD (cm)  \n",
      "   Field 1           1      0.0     89.8\n"
     ]
    }
   ],
   "source": [
    "# authors : Guillaume Lemaitre <g.lemaitre58@gmail.com>\n",
    "# license : MIT\n",
    "\n",
    "from __future__ import print_function\n",
    "\n",
    "import pydicom\n",
    "from pydicom.data import get_testdata_files\n",
    "\n",
    "print(__doc__)\n",
    "\n",
    "\n",
    "def list_beams(plan_dataset):\n",
    "    \"\"\"Summarizes the RTPLAN beam information in the dataset.\"\"\"\n",
    "    lines = [\"{name:^13s} {num:^8s} {gantry:^8s} {ssd:^11s}\".format(\n",
    "        name=\"Beam name\", num=\"Number\", gantry=\"Gantry\", ssd=\"SSD (cm)\")]\n",
    "    for beam in plan_dataset.BeamSequence:\n",
    "        cp0 = beam.ControlPointSequence[0]\n",
    "        SSD = float(cp0.SourceToSurfaceDistance / 10)\n",
    "        lines.append(\"{b.BeamName:^13s} {b.BeamNumber:8d} \"\n",
    "                     \"{gantry:8.1f} {ssd:8.1f}\".format(b=beam,\n",
    "                                                       gantry=cp0.GantryAngle,\n",
    "                                                       ssd=SSD))\n",
    "    return \"\\n\".join(lines)\n",
    "\n",
    "\n",
    "filename = get_testdata_files('rtplan.dcm')[0]\n",
    "dataset = pydicom.dcmread(filename)\n",
    "print(list_beams(dataset))"
   ]
  },
  {
   "cell_type": "code",
   "execution_count": null,
   "metadata": {},
   "outputs": [],
   "source": [
    "# authors : Guillaume Lemaitre <g.lemaitre58@gmail.com>\n",
    "# license : MIT\n",
    "\n",
    "from __future__ import print_function\n",
    "\n",
    "import pydicom\n",
    "from pydicom.data import get_testdata_files\n",
    "\n",
    "print(__doc__)\n",
    "\n",
    "\n",
    "def myprint(dataset, indent=0):\n",
    "    \"\"\"Go through all items in the dataset and print them with custom format\n",
    "\n",
    "    Modelled after Dataset._pretty_str()\n",
    "    \"\"\"\n",
    "    dont_print = ['Pixel Data', 'File Meta Information Version']\n",
    "\n",
    "    indent_string = \"   \" * indent\n",
    "    next_indent_string = \"   \" * (indent + 1)\n",
    "\n",
    "    for data_element in dataset:\n",
    "        if data_element.VR == \"SQ\":   # a sequence\n",
    "            print(indent_string, data_element.name)\n",
    "            for sequence_item in data_element.value:\n",
    "                myprint(sequence_item, indent + 1)\n",
    "                print(next_indent_string + \"---------\")\n",
    "        else:\n",
    "            if data_element.name in dont_print:\n",
    "                print(\"\"\"<item not printed -- in the \"don't print\" list>\"\"\")\n",
    "            else:\n",
    "                repr_value = repr(data_element.value)\n",
    "                if len(repr_value) > 50:\n",
    "                    repr_value = repr_value[:50] + \"...\"\n",
    "                print(\"{0:s} {1:s} = {2:s}\".format(indent_string,\n",
    "                                                   data_element.name,\n",
    "                                                   repr_value))\n",
    "\n",
    "\n",
    "filename = get_testdata_files('MR_small.dcm')[0]\n",
    "ds = pydicom.dcmread(filename)\n",
    "\n",
    "myprint(ds)"
   ]
  }
 ],
 "metadata": {
  "kernelspec": {
   "display_name": "Python [conda env:project]",
   "language": "python",
   "name": "conda-env-project-py"
  },
  "language_info": {
   "codemirror_mode": {
    "name": "ipython",
    "version": 3
   },
   "file_extension": ".py",
   "mimetype": "text/x-python",
   "name": "python",
   "nbconvert_exporter": "python",
   "pygments_lexer": "ipython3",
   "version": "3.5.6"
  }
 },
 "nbformat": 4,
 "nbformat_minor": 2
}
